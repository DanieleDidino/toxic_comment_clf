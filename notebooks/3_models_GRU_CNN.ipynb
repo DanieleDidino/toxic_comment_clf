{
 "cells": [
  {
   "cell_type": "markdown",
   "metadata": {},
   "source": [
    "# Load libraries and data"
   ]
  },
  {
   "cell_type": "code",
   "execution_count": 1,
   "metadata": {},
   "outputs": [],
   "source": [
    "from pathlib import Path\n",
    "import re\n",
    "import numpy as np\n",
    "import pandas as pd\n",
    "from collections import Counter\n",
    "import torch\n",
    "import torch.nn as nn\n",
    "import torch.optim as optim\n",
    "# import torch.nn.functional as F\n",
    "from torch.utils.data import Dataset, DataLoader\n",
    "from sklearn.metrics import roc_auc_score\n",
    "import wandb"
   ]
  },
  {
   "cell_type": "code",
   "execution_count": 2,
   "metadata": {},
   "outputs": [],
   "source": [
    "train_data = pd.read_csv(Path(\"..\", \"data\", \"processed\", \"train.csv\"))\n",
    "val_data = pd.read_csv(Path(\"..\", \"data\", \"processed\", \"val.csv\"))"
   ]
  },
  {
   "cell_type": "markdown",
   "metadata": {},
   "source": [
    "# Parameters & wandb"
   ]
  },
  {
   "cell_type": "code",
   "execution_count": 3,
   "metadata": {},
   "outputs": [
    {
     "name": "stdout",
     "output_type": "stream",
     "text": [
      "Using cuda\n"
     ]
    }
   ],
   "source": [
    "EMBEDDING_DIM = 100\n",
    "MAX_LEN = 150\n",
    "DEVICE = 'cuda' if torch.cuda.is_available() else 'cpu'\n",
    "print(f\"Using {DEVICE}\")"
   ]
  },
  {
   "cell_type": "code",
   "execution_count": 4,
   "metadata": {},
   "outputs": [
    {
     "name": "stderr",
     "output_type": "stream",
     "text": [
      "\u001b[34m\u001b[1mwandb\u001b[0m: Using wandb-core as the SDK backend.  Please refer to https://wandb.me/wandb-core for more information.\n",
      "\u001b[34m\u001b[1mwandb\u001b[0m: Currently logged in as: \u001b[33mdaniele-didino\u001b[0m to \u001b[32mhttps://api.wandb.ai\u001b[0m. Use \u001b[1m`wandb login --relogin`\u001b[0m to force relogin\n"
     ]
    },
    {
     "data": {
      "text/plain": [
       "True"
      ]
     },
     "execution_count": 4,
     "metadata": {},
     "output_type": "execute_result"
    }
   ],
   "source": [
    "wandb.login()\n",
    "\n",
    "# Initialize Weights & Biases\n",
    "# wandb.init(project=\"toxic_comment_clf\")"
   ]
  },
  {
   "cell_type": "markdown",
   "metadata": {},
   "source": [
    "# Tokenizer"
   ]
  },
  {
   "cell_type": "code",
   "execution_count": null,
   "metadata": {},
   "outputs": [],
   "source": [
    "# Tokenizer (basic word splitting)\n",
    "def basic_tokenizer(text: str) -> str:\n",
    "    text = text.lower()\n",
    "    text = re.sub(r'[^a-zA-Z0-9\\s]', '', text) # Remove special characters\n",
    "    return text.split()\n",
    "\n",
    "\n",
    "def build_vocab(texts):\n",
    "    token_counts = Counter()\n",
    "    for text in texts:\n",
    "        cleaned_text = basic_tokenizer(text)\n",
    "        token_counts.update(cleaned_text)\n",
    "    vocab = {word: idx + 2 for idx, (word, _) in enumerate(token_counts.most_common())}  # Reserve index 0 for padding, 1 for unknown\n",
    "    vocab[\"<PAD>\"] = 0\n",
    "    vocab[\"<UNK>\"] = 1\n",
    "    return vocab\n",
    "\n",
    "\n",
    "# Convert texts to numerical sequences\n",
    "def encode_text(text, vocab, max_len=150):\n",
    "    tokens = basic_tokenizer(text)\n",
    "    encoded = [vocab.get(word, vocab[\"<UNK>\"]) for word in tokens[:max_len]]\n",
    "    return np.pad(encoded, (0, max_len - len(encoded)), constant_values=vocab[\"<PAD>\"])[:max_len]"
   ]
  },
  {
   "cell_type": "markdown",
   "metadata": {},
   "source": [
    "# Train Model"
   ]
  },
  {
   "cell_type": "code",
   "execution_count": 27,
   "metadata": {},
   "outputs": [],
   "source": [
    "# Dataset Class\n",
    "class ToxicDataset(Dataset):\n",
    "    def __init__(self, texts, labels, vocab, max_len=150):\n",
    "        texts = [encode_text(text, vocab, max_len) for text in texts]\n",
    "        self.texts = [torch.tensor(text, dtype=torch.long) for text in texts]\n",
    "        self.labels = torch.tensor(labels, dtype=torch.float32)\n",
    "\n",
    "    def __len__(self):\n",
    "        return len(self.texts)\n",
    "\n",
    "    def __getitem__(self, idx):\n",
    "        return {\n",
    "            \"input_ids\": self.texts[idx],\n",
    "            \"labels\": self.labels[idx]\n",
    "        }\n",
    "\n",
    "\n",
    "# Load Pretrained Embeddings (GloVe)\n",
    "def load_glove_embeddings(filepath, vocab, embedding_dim=100):\n",
    "    embeddings = np.random.uniform(-0.25, 0.25, (len(vocab), embedding_dim))\n",
    "    with open(filepath, 'r', encoding=\"utf-8\") as f:\n",
    "        for line in f:\n",
    "            values = line.split()\n",
    "            word = values[0]\n",
    "            vector = np.asarray(values[1:], dtype=\"float32\")\n",
    "            if word in vocab:\n",
    "                embeddings[vocab[word]] = vector\n",
    "    return torch.tensor(embeddings, dtype=torch.float32)\n",
    "\n",
    "\n",
    "# Model: GRU & CNN\n",
    "class ToxicClassifier(nn.Module):\n",
    "    def __init__(self, embedding_dim, hidden_dim, kernel_size, dropout, num_classes):\n",
    "        super(ToxicClassifier, self).__init__()\n",
    "        self.embedding = nn.Embedding.from_pretrained(embedding_matrix, freeze=False)\n",
    "        self.gru = nn.GRU(embedding_dim, hidden_dim, batch_first=True, bidirectional=True)\n",
    "        self.conv = nn.Conv1d(hidden_dim * 2, 32, kernel_size)\n",
    "        self.pool = nn.AdaptiveMaxPool1d(1)\n",
    "        self.dropout = nn.Dropout(dropout)\n",
    "        self.fc = nn.Linear(32, num_classes)\n",
    "\n",
    "    def forward(self, x):\n",
    "        x = self.embedding(x)\n",
    "        x, _ = self.gru(x)\n",
    "        x = x.permute(0, 2, 1)  # (batch_size, hidden_dim*2, seq_len)\n",
    "        x = self.conv(x)\n",
    "        x = self.pool(x).squeeze(2)\n",
    "        x = self.dropout(x)\n",
    "        return self.fc(x) # torch.sigmoid(self.fc(x))\n",
    "\n",
    "\n",
    "# Training function\n",
    "def model_train(model, train_loader, val_loader, criterion, optimizer, epochs, device):\n",
    "    model.to(device)\n",
    "\n",
    "    for epoch in range(epochs):\n",
    "        model.train()  # set model to training mode\n",
    "        total_train_loss = 0\n",
    "        all_preds = []\n",
    "        all_labels = []\n",
    "\n",
    "        for batch in train_loader:\n",
    "            input_ids = batch['input_ids'].to(device)\n",
    "            labels = batch['labels'].to(device)\n",
    "\n",
    "            optimizer.zero_grad()\n",
    "            outputs = model(input_ids)\n",
    "            loss = criterion(outputs, labels)\n",
    "            loss.backward()\n",
    "            optimizer.step()\n",
    "\n",
    "            total_train_loss += loss.item()\n",
    "            outputs = torch.sigmoid(outputs)\n",
    "            all_preds.append(outputs.cpu().detach().numpy())\n",
    "            all_labels.append(labels.cpu().numpy())\n",
    "        \n",
    "        # Compute Loss\n",
    "        train_loss = total_train_loss / len(train_loader)\n",
    "\n",
    "        # Compute AUC_ROC\n",
    "        all_preds = np.concatenate(all_preds, axis=0).T\n",
    "        all_labels = np.concatenate(all_labels, axis=0).T\n",
    "        train_roc_auc = np.mean(\n",
    "            [roc_auc_score(y_true, y_pred) for y_true, y_pred in zip(all_labels, all_preds)]\n",
    "        )\n",
    "\n",
    "        # Validation Step\n",
    "        model.eval()\n",
    "        val_preds = []\n",
    "        val_labels = []\n",
    "        total_val_loss = 0\n",
    "        with torch.no_grad():\n",
    "            for batch in val_loader:\n",
    "                input_ids = batch['input_ids'].to(device)\n",
    "                labels = batch['labels'].to(device)\n",
    "                outputs = model(input_ids)\n",
    "                \n",
    "                # Compute validation loss\n",
    "                loss = criterion(outputs, labels)\n",
    "                total_val_loss += loss.item()\n",
    "\n",
    "                val_preds.append(outputs.cpu().numpy())\n",
    "                val_labels.append(labels.cpu().numpy())\n",
    "        \n",
    "        # Compute validation loss\n",
    "        val_loss = total_val_loss / len(val_loader)\n",
    "\n",
    "        # Compute AUC_ROC\n",
    "        val_preds = np.concatenate(val_preds, axis=0).T\n",
    "        val_labels = np.concatenate(val_labels, axis=0).T\n",
    "        val_roc_auc = np.mean(\n",
    "            [roc_auc_score(y_true, y_pred) for y_true, y_pred in zip(val_labels, val_preds)]\n",
    "        )\n",
    "\n",
    "        print(f\"Epoch {epoch + 1}/{epochs}\")\n",
    "        print(f\"Train Loss: {train_loss:.4f} | AUC_ROC: {train_roc_auc:.4f}\")\n",
    "        print(f\"Val Loss: {val_loss:.4f} | AUC_ROC: {val_roc_auc:.4f}\")\n",
    "\n",
    "        wandb.log({\n",
    "            \"epoch\": epoch + 1,\n",
    "            \"train_loss\": train_loss,\n",
    "            \"train_roc_auc\": train_roc_auc,\n",
    "            \"val_loss\": val_loss,\n",
    "            \"val_roc_auc\": val_roc_auc,\n",
    "        })\n",
    "\n",
    "    return train_loss, train_roc_auc, val_loss, val_roc_auc\n"
   ]
  },
  {
   "cell_type": "markdown",
   "metadata": {},
   "source": [
    "# wandb Sweeps"
   ]
  },
  {
   "cell_type": "code",
   "execution_count": 28,
   "metadata": {},
   "outputs": [
    {
     "name": "stdout",
     "output_type": "stream",
     "text": [
      "Create sweep with ID: uvzqse2l\n",
      "Sweep URL: https://wandb.ai/daniele-didino/toxic_comment_clf/sweeps/uvzqse2l\n"
     ]
    }
   ],
   "source": [
    "sweep_config = {\n",
    "    \"method\": \"bayes\", # \"random\" or \"grid\" or \"bayes\"\n",
    "    \"metric\": {\"name\": \"val_roc_auc\", \"goal\": \"maximize\"},\n",
    "    \"parameters\": {\n",
    "        \"embed_dim\": {\"values\": [EMBEDDING_DIM]},\n",
    "        \"dropout\": {\"min\": 0.2, \"max\": 0.5},\n",
    "        \"learning_rate\": {\"min\": 1e-4, \"max\": 1e-2, \"distribution\": \"log_uniform_values\"},\n",
    "        \"batch_size\": {\"values\": [16, 32, 64]},\n",
    "        # \"num_layers\": {\"min\": 1, \"max\": 3},\n",
    "        \"epochs\": {\"min\": 1, \"max\": 5},\n",
    "        \"kernel_size\": {\"values\": [3]},\n",
    "        \"hidden_dim\": {\"values\": [128]},\n",
    "    }\n",
    "}\n",
    "\n",
    "# Create the sweep\n",
    "sweep_id = wandb.sweep(sweep_config, project=\"toxic_comment_clf\")"
   ]
  },
  {
   "cell_type": "code",
   "execution_count": 29,
   "metadata": {},
   "outputs": [],
   "source": [
    "train_input = train_data.comment_text.to_list()\n",
    "train_labels = train_data.loc[:, [\"toxic\", \"severe_toxic\", \"obscene\", \"threat\", \"insult\", \"identity_hate\"]].values.tolist()\n",
    "\n",
    "val_input = val_data.comment_text.to_list()\n",
    "val_labels = val_data.loc[:,  [\"toxic\", \"severe_toxic\", \"obscene\", \"threat\", \"insult\", \"identity_hate\"]].values.tolist()\n",
    "\n",
    "vocab = build_vocab(train_input)\n",
    "\n",
    "embedding_matrix = load_glove_embeddings(\"../embedding/glove.6B.100d.txt\", vocab, EMBEDDING_DIM)\n",
    "\n",
    "# Prepare train dataset\n",
    "train_dataset = ToxicDataset(train_input, train_labels, vocab, MAX_LEN)\n",
    "\n",
    "# Prepare validation dataset\n",
    "val_dataset = ToxicDataset(val_input, val_labels, vocab, MAX_LEN)"
   ]
  },
  {
   "cell_type": "code",
   "execution_count": 30,
   "metadata": {},
   "outputs": [],
   "source": [
    "# Define the training function\n",
    "def train_sweep():\n",
    "\n",
    "    EPOCHS = 2\n",
    "    num_classes = 6  # toxic, severe_toxic, obscene, threat, insult, identity_hate\n",
    "\n",
    "    with wandb.init() as run:\n",
    "        config = wandb.config # sample hyperparameters\n",
    "        \n",
    "        # Initialize DataLoaders\n",
    "        train_dataloader = DataLoader(train_dataset, batch_size=config[\"batch_size\"], shuffle=True)\n",
    "        val_dataloader = DataLoader(val_dataset, batch_size=config[\"batch_size\"], shuffle=True)\n",
    "    \n",
    "        # Initialize model\n",
    "        model = ToxicClassifier(\n",
    "            config[\"embed_dim\"],\n",
    "            config[\"hidden_dim\"],\n",
    "            config[\"kernel_size\"],\n",
    "            config[\"dropout\"],\n",
    "            num_classes=num_classes)\n",
    "        model.to(DEVICE)\n",
    "    \n",
    "        # Loss\n",
    "        criterion = nn.BCEWithLogitsLoss() # Multi-label loss\n",
    "    \n",
    "        # Optimizer\n",
    "        optimizer = optim.Adam(model.parameters(), lr=config[\"learning_rate\"])\n",
    "    \n",
    "        # Training loop\n",
    "        _ = model_train(model, train_dataloader, val_dataloader, criterion, optimizer, EPOCHS, DEVICE)\n",
    "        # _ = model_train(model, train_dataloader, val_dataloader, criterion, optimizer, config[\"epochs\"], DEVICE)"
   ]
  },
  {
   "cell_type": "code",
   "execution_count": 31,
   "metadata": {},
   "outputs": [
    {
     "name": "stderr",
     "output_type": "stream",
     "text": [
      "\u001b[34m\u001b[1mwandb\u001b[0m: Agent Starting Run: b3jtshen with config:\n",
      "\u001b[34m\u001b[1mwandb\u001b[0m: \tbatch_size: 32\n",
      "\u001b[34m\u001b[1mwandb\u001b[0m: \tdropout: 0.31899612627316104\n",
      "\u001b[34m\u001b[1mwandb\u001b[0m: \tembed_dim: 100\n",
      "\u001b[34m\u001b[1mwandb\u001b[0m: \tepochs: 5\n",
      "\u001b[34m\u001b[1mwandb\u001b[0m: \thidden_dim: 128\n",
      "\u001b[34m\u001b[1mwandb\u001b[0m: \tkernel_size: 3\n",
      "\u001b[34m\u001b[1mwandb\u001b[0m: \tlearning_rate: 0.004154940765088244\n"
     ]
    },
    {
     "data": {
      "text/html": [
       "Tracking run with wandb version 0.19.7"
      ],
      "text/plain": [
       "<IPython.core.display.HTML object>"
      ]
     },
     "metadata": {},
     "output_type": "display_data"
    },
    {
     "data": {
      "text/html": [
       "Run data is saved locally in <code>/home/daniele/Desktop/Projects/toxic_comment_clf/notebooks/wandb/run-20250228_175822-b3jtshen</code>"
      ],
      "text/plain": [
       "<IPython.core.display.HTML object>"
      ]
     },
     "metadata": {},
     "output_type": "display_data"
    },
    {
     "data": {
      "text/html": [
       "Syncing run <strong><a href='https://wandb.ai/daniele-didino/toxic_comment_clf/runs/b3jtshen' target=\"_blank\">vague-sweep-1</a></strong> to <a href='https://wandb.ai/daniele-didino/toxic_comment_clf' target=\"_blank\">Weights & Biases</a> (<a href='https://wandb.me/developer-guide' target=\"_blank\">docs</a>)<br>Sweep page: <a href='https://wandb.ai/daniele-didino/toxic_comment_clf/sweeps/uvzqse2l' target=\"_blank\">https://wandb.ai/daniele-didino/toxic_comment_clf/sweeps/uvzqse2l</a>"
      ],
      "text/plain": [
       "<IPython.core.display.HTML object>"
      ]
     },
     "metadata": {},
     "output_type": "display_data"
    },
    {
     "data": {
      "text/html": [
       " View project at <a href='https://wandb.ai/daniele-didino/toxic_comment_clf' target=\"_blank\">https://wandb.ai/daniele-didino/toxic_comment_clf</a>"
      ],
      "text/plain": [
       "<IPython.core.display.HTML object>"
      ]
     },
     "metadata": {},
     "output_type": "display_data"
    },
    {
     "data": {
      "text/html": [
       " View sweep at <a href='https://wandb.ai/daniele-didino/toxic_comment_clf/sweeps/uvzqse2l' target=\"_blank\">https://wandb.ai/daniele-didino/toxic_comment_clf/sweeps/uvzqse2l</a>"
      ],
      "text/plain": [
       "<IPython.core.display.HTML object>"
      ]
     },
     "metadata": {},
     "output_type": "display_data"
    },
    {
     "data": {
      "text/html": [
       " View run at <a href='https://wandb.ai/daniele-didino/toxic_comment_clf/runs/b3jtshen' target=\"_blank\">https://wandb.ai/daniele-didino/toxic_comment_clf/runs/b3jtshen</a>"
      ],
      "text/plain": [
       "<IPython.core.display.HTML object>"
      ]
     },
     "metadata": {},
     "output_type": "display_data"
    },
    {
     "name": "stdout",
     "output_type": "stream",
     "text": [
      "Epoch 1/2\n",
      "Train Loss: 0.0593 | AUC_ROC: 0.9570\n",
      "Val Loss: 0.0505 | AUC_ROC: 0.9835\n",
      "Epoch 2/2\n",
      "Train Loss: 0.0401 | AUC_ROC: 0.9847\n",
      "Val Loss: 0.0496 | AUC_ROC: 0.9818\n"
     ]
    },
    {
     "data": {
      "text/html": [],
      "text/plain": [
       "<IPython.core.display.HTML object>"
      ]
     },
     "metadata": {},
     "output_type": "display_data"
    },
    {
     "data": {
      "text/html": [
       "<br>    <style><br>        .wandb-row {<br>            display: flex;<br>            flex-direction: row;<br>            flex-wrap: wrap;<br>            justify-content: flex-start;<br>            width: 100%;<br>        }<br>        .wandb-col {<br>            display: flex;<br>            flex-direction: column;<br>            flex-basis: 100%;<br>            flex: 1;<br>            padding: 10px;<br>        }<br>    </style><br><div class=\"wandb-row\"><div class=\"wandb-col\"><h3>Run history:</h3><br/><table class=\"wandb\"><tr><td>epoch</td><td>▁█</td></tr><tr><td>train_loss</td><td>█▁</td></tr><tr><td>train_roc_auc</td><td>▁█</td></tr><tr><td>val_loss</td><td>█▁</td></tr><tr><td>val_roc_auc</td><td>█▁</td></tr></table><br/></div><div class=\"wandb-col\"><h3>Run summary:</h3><br/><table class=\"wandb\"><tr><td>epoch</td><td>2</td></tr><tr><td>train_loss</td><td>0.04008</td></tr><tr><td>train_roc_auc</td><td>0.98468</td></tr><tr><td>val_loss</td><td>0.04964</td></tr><tr><td>val_roc_auc</td><td>0.9818</td></tr></table><br/></div></div>"
      ],
      "text/plain": [
       "<IPython.core.display.HTML object>"
      ]
     },
     "metadata": {},
     "output_type": "display_data"
    },
    {
     "data": {
      "text/html": [
       " View run <strong style=\"color:#cdcd00\">vague-sweep-1</strong> at: <a href='https://wandb.ai/daniele-didino/toxic_comment_clf/runs/b3jtshen' target=\"_blank\">https://wandb.ai/daniele-didino/toxic_comment_clf/runs/b3jtshen</a><br> View project at: <a href='https://wandb.ai/daniele-didino/toxic_comment_clf' target=\"_blank\">https://wandb.ai/daniele-didino/toxic_comment_clf</a><br>Synced 5 W&B file(s), 0 media file(s), 0 artifact file(s) and 0 other file(s)"
      ],
      "text/plain": [
       "<IPython.core.display.HTML object>"
      ]
     },
     "metadata": {},
     "output_type": "display_data"
    },
    {
     "data": {
      "text/html": [
       "Find logs at: <code>./wandb/run-20250228_175822-b3jtshen/logs</code>"
      ],
      "text/plain": [
       "<IPython.core.display.HTML object>"
      ]
     },
     "metadata": {},
     "output_type": "display_data"
    },
    {
     "name": "stderr",
     "output_type": "stream",
     "text": [
      "\u001b[34m\u001b[1mwandb\u001b[0m: Agent Starting Run: mrqwxnvc with config:\n",
      "\u001b[34m\u001b[1mwandb\u001b[0m: \tbatch_size: 16\n",
      "\u001b[34m\u001b[1mwandb\u001b[0m: \tdropout: 0.23839793533083883\n",
      "\u001b[34m\u001b[1mwandb\u001b[0m: \tembed_dim: 100\n",
      "\u001b[34m\u001b[1mwandb\u001b[0m: \tepochs: 5\n",
      "\u001b[34m\u001b[1mwandb\u001b[0m: \thidden_dim: 128\n",
      "\u001b[34m\u001b[1mwandb\u001b[0m: \tkernel_size: 3\n",
      "\u001b[34m\u001b[1mwandb\u001b[0m: \tlearning_rate: 0.004783420078404673\n"
     ]
    },
    {
     "data": {
      "text/html": [
       "Tracking run with wandb version 0.19.7"
      ],
      "text/plain": [
       "<IPython.core.display.HTML object>"
      ]
     },
     "metadata": {},
     "output_type": "display_data"
    },
    {
     "data": {
      "text/html": [
       "Run data is saved locally in <code>/home/daniele/Desktop/Projects/toxic_comment_clf/notebooks/wandb/run-20250228_175919-mrqwxnvc</code>"
      ],
      "text/plain": [
       "<IPython.core.display.HTML object>"
      ]
     },
     "metadata": {},
     "output_type": "display_data"
    },
    {
     "data": {
      "text/html": [
       "Syncing run <strong><a href='https://wandb.ai/daniele-didino/toxic_comment_clf/runs/mrqwxnvc' target=\"_blank\">wild-sweep-2</a></strong> to <a href='https://wandb.ai/daniele-didino/toxic_comment_clf' target=\"_blank\">Weights & Biases</a> (<a href='https://wandb.me/developer-guide' target=\"_blank\">docs</a>)<br>Sweep page: <a href='https://wandb.ai/daniele-didino/toxic_comment_clf/sweeps/uvzqse2l' target=\"_blank\">https://wandb.ai/daniele-didino/toxic_comment_clf/sweeps/uvzqse2l</a>"
      ],
      "text/plain": [
       "<IPython.core.display.HTML object>"
      ]
     },
     "metadata": {},
     "output_type": "display_data"
    },
    {
     "data": {
      "text/html": [
       " View project at <a href='https://wandb.ai/daniele-didino/toxic_comment_clf' target=\"_blank\">https://wandb.ai/daniele-didino/toxic_comment_clf</a>"
      ],
      "text/plain": [
       "<IPython.core.display.HTML object>"
      ]
     },
     "metadata": {},
     "output_type": "display_data"
    },
    {
     "data": {
      "text/html": [
       " View sweep at <a href='https://wandb.ai/daniele-didino/toxic_comment_clf/sweeps/uvzqse2l' target=\"_blank\">https://wandb.ai/daniele-didino/toxic_comment_clf/sweeps/uvzqse2l</a>"
      ],
      "text/plain": [
       "<IPython.core.display.HTML object>"
      ]
     },
     "metadata": {},
     "output_type": "display_data"
    },
    {
     "data": {
      "text/html": [
       " View run at <a href='https://wandb.ai/daniele-didino/toxic_comment_clf/runs/mrqwxnvc' target=\"_blank\">https://wandb.ai/daniele-didino/toxic_comment_clf/runs/mrqwxnvc</a>"
      ],
      "text/plain": [
       "<IPython.core.display.HTML object>"
      ]
     },
     "metadata": {},
     "output_type": "display_data"
    },
    {
     "name": "stdout",
     "output_type": "stream",
     "text": [
      "Epoch 1/2\n",
      "Train Loss: 0.0627 | AUC_ROC: 0.9503\n",
      "Val Loss: 0.0534 | AUC_ROC: 0.9777\n",
      "Epoch 2/2\n",
      "Train Loss: 0.0490 | AUC_ROC: 0.9746\n",
      "Val Loss: 0.0550 | AUC_ROC: 0.9766\n"
     ]
    },
    {
     "data": {
      "text/html": [],
      "text/plain": [
       "<IPython.core.display.HTML object>"
      ]
     },
     "metadata": {},
     "output_type": "display_data"
    },
    {
     "data": {
      "text/html": [
       "<br>    <style><br>        .wandb-row {<br>            display: flex;<br>            flex-direction: row;<br>            flex-wrap: wrap;<br>            justify-content: flex-start;<br>            width: 100%;<br>        }<br>        .wandb-col {<br>            display: flex;<br>            flex-direction: column;<br>            flex-basis: 100%;<br>            flex: 1;<br>            padding: 10px;<br>        }<br>    </style><br><div class=\"wandb-row\"><div class=\"wandb-col\"><h3>Run history:</h3><br/><table class=\"wandb\"><tr><td>epoch</td><td>▁█</td></tr><tr><td>train_loss</td><td>█▁</td></tr><tr><td>train_roc_auc</td><td>▁█</td></tr><tr><td>val_loss</td><td>▁█</td></tr><tr><td>val_roc_auc</td><td>█▁</td></tr></table><br/></div><div class=\"wandb-col\"><h3>Run summary:</h3><br/><table class=\"wandb\"><tr><td>epoch</td><td>2</td></tr><tr><td>train_loss</td><td>0.049</td></tr><tr><td>train_roc_auc</td><td>0.97457</td></tr><tr><td>val_loss</td><td>0.05496</td></tr><tr><td>val_roc_auc</td><td>0.97658</td></tr></table><br/></div></div>"
      ],
      "text/plain": [
       "<IPython.core.display.HTML object>"
      ]
     },
     "metadata": {},
     "output_type": "display_data"
    },
    {
     "data": {
      "text/html": [
       " View run <strong style=\"color:#cdcd00\">wild-sweep-2</strong> at: <a href='https://wandb.ai/daniele-didino/toxic_comment_clf/runs/mrqwxnvc' target=\"_blank\">https://wandb.ai/daniele-didino/toxic_comment_clf/runs/mrqwxnvc</a><br> View project at: <a href='https://wandb.ai/daniele-didino/toxic_comment_clf' target=\"_blank\">https://wandb.ai/daniele-didino/toxic_comment_clf</a><br>Synced 5 W&B file(s), 0 media file(s), 0 artifact file(s) and 0 other file(s)"
      ],
      "text/plain": [
       "<IPython.core.display.HTML object>"
      ]
     },
     "metadata": {},
     "output_type": "display_data"
    },
    {
     "data": {
      "text/html": [
       "Find logs at: <code>./wandb/run-20250228_175919-mrqwxnvc/logs</code>"
      ],
      "text/plain": [
       "<IPython.core.display.HTML object>"
      ]
     },
     "metadata": {},
     "output_type": "display_data"
    }
   ],
   "source": [
    "# Launch the sweep\n",
    "wandb.agent(sweep_id, function=train_sweep, count=2)"
   ]
  },
  {
   "cell_type": "markdown",
   "metadata": {},
   "source": [
    "# CANC"
   ]
  },
  {
   "cell_type": "code",
   "execution_count": 32,
   "metadata": {},
   "outputs": [],
   "source": [
    "BATCH_SIZE = 32\n",
    "EPOCHS = 2\n",
    "HIDDEN_DIM = 128\n",
    "KERNEL_SIZE = 3\n",
    "DROPOUT = 0.5\n",
    "LEARNING_RATE = 1e-3"
   ]
  },
  {
   "cell_type": "code",
   "execution_count": null,
   "metadata": {},
   "outputs": [],
   "source": [
    "train_input = train_data.comment_text.to_list()\n",
    "train_labels = train_data.loc[:, [\"toxic\", \"severe_toxic\", \"obscene\", \"threat\", \"insult\", \"identity_hate\"]].values.tolist()\n",
    "\n",
    "val_input = val_data.comment_text.to_list()\n",
    "val_labels = val_data.loc[:,  [\"toxic\", \"severe_toxic\", \"obscene\", \"threat\", \"insult\", \"identity_hate\"]].values.tolist()\n",
    "\n",
    "# Prepare train dataset\n",
    "train_dataset = ToxicDataset(train_input, train_labels, vocab, MAX_LEN)\n",
    "train_dataloader = DataLoader(train_dataset, batch_size=BATCH_SIZE, shuffle=True)\n",
    "\n",
    "# Prepare validation dataset\n",
    "val_dataset = ToxicDataset(val_input, val_labels, vocab, MAX_LEN)\n",
    "val_dataloader = DataLoader(val_dataset, batch_size=BATCH_SIZE, shuffle=True)"
   ]
  },
  {
   "cell_type": "code",
   "execution_count": 34,
   "metadata": {},
   "outputs": [],
   "source": [
    "# Training function\n",
    "def model_train2(model, train_loader, val_loader, criterion, optimizer, epochs, device):\n",
    "    model.to(device)\n",
    "\n",
    "    for epoch in range(epochs):\n",
    "        model.train()  # set model to training mode\n",
    "        total_train_loss = 0\n",
    "        all_preds = []\n",
    "        all_labels = []\n",
    "\n",
    "        for batch in train_loader:\n",
    "            input_ids = batch['input_ids'].to(device)\n",
    "            labels = batch['labels'].to(device)\n",
    "\n",
    "            optimizer.zero_grad()\n",
    "            outputs = model(input_ids)\n",
    "            loss = criterion(outputs, labels)\n",
    "            loss.backward()\n",
    "            optimizer.step()\n",
    "\n",
    "            total_train_loss += loss.item()\n",
    "            outputs = torch.sigmoid(outputs)\n",
    "            all_preds.append(outputs.cpu().detach().numpy())\n",
    "            all_labels.append(labels.cpu().numpy())\n",
    "        \n",
    "        # Compute Loss\n",
    "        train_loss = total_train_loss / len(train_loader)\n",
    "\n",
    "        # Compute AUC_ROC\n",
    "        all_preds = np.concatenate(all_preds, axis=0).T\n",
    "        all_labels = np.concatenate(all_labels, axis=0).T\n",
    "        train_roc_auc = np.mean(\n",
    "            [roc_auc_score(y_true, y_pred) for y_true, y_pred in zip(all_labels, all_preds)]\n",
    "        )\n",
    "\n",
    "        # Validation Step\n",
    "        model.eval()\n",
    "        val_preds = []\n",
    "        val_labels = []\n",
    "        total_val_loss = 0\n",
    "        with torch.no_grad():\n",
    "            for batch in val_loader:\n",
    "                input_ids = batch['input_ids'].to(device)\n",
    "                labels = batch['labels'].to(device)\n",
    "                outputs = model(input_ids)\n",
    "                \n",
    "                # Compute validation loss\n",
    "                loss = criterion(outputs, labels)\n",
    "                total_val_loss += loss.item()\n",
    "\n",
    "                val_preds.append(outputs.cpu().numpy())\n",
    "                val_labels.append(labels.cpu().numpy())\n",
    "        \n",
    "        # Compute validation loss\n",
    "        val_loss = total_val_loss / len(val_loader)\n",
    "\n",
    "        # Compute AUC_ROC\n",
    "        val_preds = np.concatenate(val_preds, axis=0).T\n",
    "        val_labels = np.concatenate(val_labels, axis=0).T\n",
    "        val_roc_auc = np.mean(\n",
    "            [roc_auc_score(y_true, y_pred) for y_true, y_pred in zip(val_labels, val_preds)]\n",
    "        )\n",
    "\n",
    "        print(f\"Epoch {epoch + 1}/{epochs}\")\n",
    "        print(f\"Train Loss: {train_loss:.4f} | AUC_ROC: {train_roc_auc:.4f}\")\n",
    "        print(f\"Val Loss: {val_loss:.4f} | AUC_ROC: {val_roc_auc:.4f}\")\n",
    "\n",
    "    return train_loss, train_roc_auc, val_loss, val_roc_auc\n"
   ]
  },
  {
   "cell_type": "code",
   "execution_count": 35,
   "metadata": {},
   "outputs": [],
   "source": [
    "BATCH_SIZE = 32\n",
    "EPOCHS = 2\n",
    "HIDDEN_DIM = 128\n",
    "KERNEL_SIZE = 3\n",
    "DROPOUT = 0.5\n",
    "LEARNING_RATE = 1e-3"
   ]
  },
  {
   "cell_type": "code",
   "execution_count": 36,
   "metadata": {},
   "outputs": [
    {
     "name": "stdout",
     "output_type": "stream",
     "text": [
      "Epoch 1/2\n",
      "Train Loss: 0.0629 | AUC_ROC: 0.9519\n",
      "Val Loss: 0.0479 | AUC_ROC: 0.9832\n",
      "Epoch 2/2\n",
      "Train Loss: 0.0433 | AUC_ROC: 0.9821\n",
      "Val Loss: 0.0449 | AUC_ROC: 0.9855\n"
     ]
    }
   ],
   "source": [
    "model_2 = ToxicClassifier(\n",
    "    EMBEDDING_DIM,\n",
    "    HIDDEN_DIM,\n",
    "    KERNEL_SIZE,\n",
    "    DROPOUT,\n",
    "    num_classes=6).to(DEVICE)\n",
    "\n",
    "criterion_2 = nn.BCEWithLogitsLoss()  # Multi-label loss\n",
    "optimizer_2 = optim.Adam(model_2.parameters(), lr=LEARNING_RATE)\n",
    "\n",
    "history = model_train2(\n",
    "    model_2,\n",
    "    train_dataloader,\n",
    "    val_dataloader,\n",
    "    criterion_2, \n",
    "    optimizer_2,\n",
    "    EPOCHS,\n",
    "    DEVICE)"
   ]
  }
 ],
 "metadata": {
  "kernelspec": {
   "display_name": ".venv_tox_clf",
   "language": "python",
   "name": "python3"
  },
  "language_info": {
   "codemirror_mode": {
    "name": "ipython",
    "version": 3
   },
   "file_extension": ".py",
   "mimetype": "text/x-python",
   "name": "python",
   "nbconvert_exporter": "python",
   "pygments_lexer": "ipython3",
   "version": "3.10.12"
  }
 },
 "nbformat": 4,
 "nbformat_minor": 2
}

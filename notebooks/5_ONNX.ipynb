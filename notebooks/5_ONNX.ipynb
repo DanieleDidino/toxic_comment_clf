{
 "cells": [
  {
   "cell_type": "markdown",
   "metadata": {},
   "source": [
    "# Load libraries and data"
   ]
  },
  {
   "cell_type": "code",
   "execution_count": 1,
   "metadata": {},
   "outputs": [],
   "source": [
    "import re\n",
    "import json\n",
    "import numpy as np\n",
    "import torch\n",
    "import onnx\n",
    "import onnxruntime as ort\n",
    "import torch.nn as nn"
   ]
  },
  {
   "cell_type": "markdown",
   "metadata": {},
   "source": [
    "# Functions & Classes"
   ]
  },
  {
   "cell_type": "code",
   "execution_count": 2,
   "metadata": {},
   "outputs": [],
   "source": [
    "def tokenizer(text, vocab, max_len=150):\n",
    "    text = text.lower()\n",
    "    text = re.sub(r'[^a-zA-Z0-9\\s]', '', text) # Remove special characters\n",
    "    tokens = text.split()\n",
    "    encoded = [vocab.get(word, vocab[\"<UNK>\"]) for word in tokens[:max_len]]\n",
    "    encodec_padded = np.pad(encoded, (0, max_len - len(encoded)), constant_values=vocab[\"<PAD>\"])[:max_len]\n",
    "    return torch.tensor(encodec_padded).unsqueeze(0)\n",
    "\n",
    "\n",
    "class ToxicClassifier(nn.Module):\n",
    "    def __init__(self, vocab_size, embed_dim, hidden_dim, num_filters, kernel_size, dropout, num_classes):\n",
    "        super().__init__()\n",
    "        # Embedding layers\n",
    "        self.embedding = nn.Embedding(vocab_size, embed_dim)\n",
    "        # CNN layer\n",
    "        self.conv = nn.Conv1d(\n",
    "            in_channels=embed_dim,\n",
    "            out_channels=num_filters,\n",
    "            kernel_size=kernel_size,\n",
    "            padding=1)\n",
    "        self.pool = nn.AdaptiveMaxPool1d(50) # This reduces the sequence length\n",
    "        # GRU layer\n",
    "        self.gru = nn.GRU(\n",
    "            input_size=num_filters,\n",
    "            hidden_size=hidden_dim,\n",
    "            batch_first=True,\n",
    "            bidirectional=True)\n",
    "        # Fully connected layer\n",
    "        self.dropout = nn.Dropout(dropout)\n",
    "        self.fc = nn.Linear(hidden_dim * 2, num_classes)\n",
    "\n",
    "    def forward(self, x):\n",
    "        x = self.embedding(x) # (batch_size, seq_len, embedding_dim)\n",
    "        x = x.permute(0, 2, 1) # change shape for conv1d (batch_size, channels, seq_len)\n",
    "        x = torch.relu(self.conv(x))\n",
    "        x = self.pool(x)\n",
    "        x = x.permute(0, 2, 1) # change shape back for GRU (batch_size, seq_len, channels)\n",
    "        x, _ = self.gru(x)\n",
    "        x = self.dropout(x[:, -1, :]) # take the last time step\n",
    "        return self.fc(x)\n"
   ]
  },
  {
   "cell_type": "markdown",
   "metadata": {},
   "source": [
    "# Load model"
   ]
  },
  {
   "cell_type": "code",
   "execution_count": 3,
   "metadata": {},
   "outputs": [
    {
     "data": {
      "text/plain": [
       "ToxicClassifier(\n",
       "  (embedding): Embedding(184223, 50)\n",
       "  (conv): Conv1d(50, 128, kernel_size=(3,), stride=(1,), padding=(1,))\n",
       "  (pool): AdaptiveMaxPool1d(output_size=50)\n",
       "  (gru): GRU(128, 64, batch_first=True, bidirectional=True)\n",
       "  (dropout): Dropout(p=0.3, inplace=False)\n",
       "  (fc): Linear(in_features=128, out_features=6, bias=True)\n",
       ")"
      ]
     },
     "execution_count": 3,
     "metadata": {},
     "output_type": "execute_result"
    }
   ],
   "source": [
    "# Load config\n",
    "config = json.load(open(\"../model/config_no_pretrained.json\"))\n",
    "\n",
    "# Load vocab\n",
    "vocab = json.load(open(\"../model/vocab_no_pretrained.json\"))\n",
    "\n",
    "# Recreate the model with saved hyperparameters\n",
    "model = ToxicClassifier(\n",
    "    vocab_size=config[\"vocab_size\"],\n",
    "    embed_dim=config[\"embedding_dim\"],\n",
    "    hidden_dim=config[\"hidden_dim\"],\n",
    "    num_filters=config[\"num_filters\"],\n",
    "    kernel_size=config[\"kernel_size\"],\n",
    "    dropout=config[\"dropout\"],\n",
    "    num_classes=config[\"num_classes\"]\n",
    ")\n",
    "\n",
    "# Using CPU\n",
    "model.to(\"cpu\")\n",
    "\n",
    "# Load weights\n",
    "model.load_state_dict(torch.load(\"../model/model_no_pretrained.pth\"))\n",
    "model.eval()  # Set to evaluation mode"
   ]
  },
  {
   "cell_type": "markdown",
   "metadata": {},
   "source": [
    "# ONNX"
   ]
  },
  {
   "cell_type": "code",
   "execution_count": 4,
   "metadata": {},
   "outputs": [
    {
     "name": "stderr",
     "output_type": "stream",
     "text": [
      "/home/daniele/Desktop/Projects/toxic_comment_clf/.venv_tox_clf/lib/python3.10/site-packages/torch/onnx/symbolic_opset9.py:4277: UserWarning: Exporting a model to ONNX with a batch_size other than 1, with a variable length with GRU can cause an error when running the ONNX model with a different batch size. Make sure to save the model with a batch size of 1, or define the initial states (h0/c0) as inputs of the model. \n",
      "  warnings.warn(\n"
     ]
    }
   ],
   "source": [
    "# Dummy input tensor: config[\"max_len\"] = 150\n",
    "dummy_input = torch.randint(0, 10000, (1, config[\"max_len\"]))  # (batch_size, sequence_length)\n",
    "\n",
    "# Convert PyTorch model to ONNX\n",
    "onnx_model_path = \"../model/model.onnx\"\n",
    "torch.onnx.export(\n",
    "    model,\n",
    "    dummy_input,\n",
    "    onnx_model_path,\n",
    "    input_names=[\"input\"],\n",
    "    output_names=[\"output\"],\n",
    "    dynamic_axes={\"input\": {0: \"batch_size\"}, \"output\": {0: \"batch_size\"}})\n",
    "\n",
    "# Load and check the ONNX model\n",
    "onnx_model = onnx.load(onnx_model_path)\n",
    "onnx.checker.check_model(onnx_model)"
   ]
  },
  {
   "cell_type": "markdown",
   "metadata": {},
   "source": [
    "save vocab and used configuration"
   ]
  },
  {
   "cell_type": "code",
   "execution_count": 5,
   "metadata": {},
   "outputs": [],
   "source": [
    "# Load config\n",
    "json.dump(config, open(\"../model/config_onnx.json\", \"w\"))\n",
    "\n",
    "# Save vocab\n",
    "json.dump(vocab, open(\"../model/vocab_onnx.json\", \"w\"))"
   ]
  },
  {
   "cell_type": "code",
   "execution_count": 6,
   "metadata": {},
   "outputs": [],
   "source": [
    "# Load the ONNX model\n",
    "session = ort.InferenceSession(onnx_model_path)"
   ]
  },
  {
   "cell_type": "code",
   "execution_count": 7,
   "metadata": {},
   "outputs": [],
   "source": [
    "text = \"I hate you\"\n",
    "input = tokenizer(text, vocab, max_len=config[\"max_len\"])\n",
    "input = input.numpy()"
   ]
  },
  {
   "cell_type": "code",
   "execution_count": 8,
   "metadata": {},
   "outputs": [],
   "source": [
    "def tokenizer_onnx(text, vocab, max_len=150):\n",
    "    text = text.lower()\n",
    "    text = re.sub(r'[^a-zA-Z0-9\\s]', '', text) # Remove special characters\n",
    "    tokens = text.split()\n",
    "    encoded = [vocab.get(word, vocab[\"<UNK>\"]) for word in tokens[:max_len]]\n",
    "    encodec_padded = np.pad(encoded, (0, max_len - len(encoded)), constant_values=vocab[\"<PAD>\"])[:max_len]\n",
    "    encodec_padded = encodec_padded.reshape(1, -1)\n",
    "    return encodec_padded"
   ]
  },
  {
   "cell_type": "code",
   "execution_count": 9,
   "metadata": {},
   "outputs": [],
   "source": [
    "def sigmoid(x):\n",
    "    return 1 / (1 + np.exp(-x))\n",
    "\n",
    "def predict_onnx(text, session):\n",
    "    MAX_LEN = 150 # expected input length\n",
    "    input = tokenizer_onnx(text, vocab, max_len=MAX_LEN)\n",
    "    # Get ONNX model predictions\n",
    "    output = session.run(None, {\"input\": input})[0]\n",
    "    output = sigmoid(output)\n",
    "    return output[0]\n",
    "\n"
   ]
  },
  {
   "cell_type": "code",
   "execution_count": 10,
   "metadata": {},
   "outputs": [
    {
     "data": {
      "text/plain": [
       "array([0.9953999 , 0.3964395 , 0.98704195, 0.06865328, 0.9231589 ,\n",
       "       0.23441562], dtype=float32)"
      ]
     },
     "execution_count": 10,
     "metadata": {},
     "output_type": "execute_result"
    }
   ],
   "source": [
    "predict_onnx(\n",
    "    \"screw you\\nwhy dont you stick it up your fucking ass than lick it out, block it i dont give a shit you fucking bastard, suck my fucking BALLLLLSSSSSSS!!!!!!!!!!!!!!!\",\n",
    "    session)"
   ]
  },
  {
   "cell_type": "code",
   "execution_count": 11,
   "metadata": {},
   "outputs": [
    {
     "data": {
      "text/plain": [
       "array([0.74529725, 0.02067623, 0.2101489 , 0.03142855, 0.2423118 ,\n",
       "       0.04919871], dtype=float32)"
      ]
     },
     "execution_count": 11,
     "metadata": {},
     "output_type": "execute_result"
    }
   ],
   "source": [
    "predict_onnx(\n",
    "    \"I hate you\",\n",
    "    session)"
   ]
  },
  {
   "cell_type": "code",
   "execution_count": 12,
   "metadata": {},
   "outputs": [
    {
     "data": {
      "text/plain": [
       "array([3.2368802e-02, 6.8845999e-05, 3.4508775e-03, 5.0511525e-04,\n",
       "       3.5228976e-03, 9.8692975e-04], dtype=float32)"
      ]
     },
     "execution_count": 12,
     "metadata": {},
     "output_type": "execute_result"
    }
   ],
   "source": [
    "predict_onnx(\n",
    "    \"I love you\",\n",
    "    session)"
   ]
  },
  {
   "cell_type": "markdown",
   "metadata": {},
   "source": [
    "# Predict"
   ]
  },
  {
   "cell_type": "code",
   "execution_count": 13,
   "metadata": {},
   "outputs": [],
   "source": [
    "def predict(text, vocab, model):\n",
    "    input = tokenizer(text, vocab, max_len=config[\"max_len\"])\n",
    "    # Make prediction\n",
    "    output = model(input)\n",
    "    prediction = torch.sigmoid(output).detach().numpy()\n",
    "    print([\"toxic\", \"severe_toxic\", \"obscene\", \"threat\", \"insult\", \"identity_hate\"])\n",
    "    print(prediction[0])"
   ]
  },
  {
   "cell_type": "code",
   "execution_count": 14,
   "metadata": {},
   "outputs": [
    {
     "name": "stdout",
     "output_type": "stream",
     "text": [
      "['toxic', 'severe_toxic', 'obscene', 'threat', 'insult', 'identity_hate']\n",
      "[0.9953999  0.39643934 0.98704195 0.06865328 0.92315876 0.23441555]\n"
     ]
    }
   ],
   "source": [
    "predict(\n",
    "    \"screw you\\nwhy dont you stick it up your fucking ass than lick it out, block it i dont give a shit you fucking bastard, suck my fucking BALLLLLSSSSSSS!!!!!!!!!!!!!!!\",\n",
    "    vocab,\n",
    "    model\n",
    ")"
   ]
  },
  {
   "cell_type": "code",
   "execution_count": 15,
   "metadata": {},
   "outputs": [
    {
     "name": "stdout",
     "output_type": "stream",
     "text": [
      "['toxic', 'severe_toxic', 'obscene', 'threat', 'insult', 'identity_hate']\n",
      "[0.74529725 0.02067623 0.21014903 0.03142856 0.24231187 0.04919871]\n"
     ]
    }
   ],
   "source": [
    "predict(\n",
    "    \"I hate you\",\n",
    "    vocab,\n",
    "    model\n",
    ")"
   ]
  },
  {
   "cell_type": "code",
   "execution_count": 16,
   "metadata": {},
   "outputs": [
    {
     "name": "stdout",
     "output_type": "stream",
     "text": [
      "['toxic', 'severe_toxic', 'obscene', 'threat', 'insult', 'identity_hate']\n",
      "[3.2368802e-02 6.8845933e-05 3.4508808e-03 5.0511438e-04 3.5228913e-03\n",
      " 9.8692975e-04]\n"
     ]
    }
   ],
   "source": [
    "predict(\n",
    "    \"I love you\",\n",
    "    vocab,\n",
    "    model\n",
    ")"
   ]
  },
  {
   "cell_type": "markdown",
   "metadata": {},
   "source": [
    "# Estimate Memory Usage in RAM\n",
    "\n",
    "The approximate memory usage of the model when loaded is checked by counting the number of parameters and their data type"
   ]
  },
  {
   "cell_type": "code",
   "execution_count": 17,
   "metadata": {},
   "outputs": [
    {
     "name": "stdout",
     "output_type": "stream",
     "text": [
      "Total Parameters: 9305748\n",
      "Estimated Memory Usage: 35.50 MB\n"
     ]
    }
   ],
   "source": [
    "def get_model_memory(onnx_model_path):\n",
    "    model = onnx.load(onnx_model_path)\n",
    "    total_params = 0\n",
    "    total_size = 0\n",
    "\n",
    "    for tensor in model.graph.initializer:\n",
    "        param_size = np.prod(tensor.dims) * np.dtype(onnx.helper.tensor_dtype_to_np_dtype(tensor.data_type)).itemsize\n",
    "        total_params += np.prod(tensor.dims)\n",
    "        total_size += param_size\n",
    "    \n",
    "    return total_params, total_size / (1024 * 1024)  # Convert to MB\n",
    "\n",
    "params, memory = get_model_memory(onnx_model_path)\n",
    "print(f\"Total Parameters: {params}\")\n",
    "print(f\"Estimated Memory Usage: {memory:.2f} MB\")"
   ]
  }
 ],
 "metadata": {
  "kernelspec": {
   "display_name": ".venv_tox_clf",
   "language": "python",
   "name": "python3"
  },
  "language_info": {
   "codemirror_mode": {
    "name": "ipython",
    "version": 3
   },
   "file_extension": ".py",
   "mimetype": "text/x-python",
   "name": "python",
   "nbconvert_exporter": "python",
   "pygments_lexer": "ipython3",
   "version": "3.10.12"
  }
 },
 "nbformat": 4,
 "nbformat_minor": 2
}

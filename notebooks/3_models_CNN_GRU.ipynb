{
 "cells": [
  {
   "cell_type": "markdown",
   "metadata": {},
   "source": [
    "# Load libraries and data"
   ]
  },
  {
   "cell_type": "code",
   "execution_count": 3,
   "metadata": {},
   "outputs": [],
   "source": [
    "from pathlib import Path\n",
    "import re\n",
    "import numpy as np\n",
    "import pandas as pd\n",
    "from collections import Counter\n",
    "import torch\n",
    "import torch.nn as nn\n",
    "import torch.optim as optim\n",
    "# import torch.nn.functional as F\n",
    "from torch.utils.data import Dataset, DataLoader\n",
    "from sklearn.metrics import roc_auc_score\n",
    "import wandb"
   ]
  },
  {
   "cell_type": "code",
   "execution_count": 4,
   "metadata": {},
   "outputs": [],
   "source": [
    "train_data = pd.read_csv(Path(\"..\", \"data\", \"processed\", \"train.csv\"))\n",
    "val_data = pd.read_csv(Path(\"..\", \"data\", \"processed\", \"val.csv\"))"
   ]
  },
  {
   "cell_type": "markdown",
   "metadata": {},
   "source": [
    "# Parameters & wandb"
   ]
  },
  {
   "cell_type": "code",
   "execution_count": 5,
   "metadata": {},
   "outputs": [
    {
     "name": "stdout",
     "output_type": "stream",
     "text": [
      "Using cuda\n"
     ]
    }
   ],
   "source": [
    "EMBEDDING_DIM = 100\n",
    "MAX_LEN = 150\n",
    "DEVICE = 'cuda' if torch.cuda.is_available() else 'cpu'\n",
    "print(f\"Using {DEVICE}\")"
   ]
  },
  {
   "cell_type": "code",
   "execution_count": 6,
   "metadata": {},
   "outputs": [
    {
     "name": "stderr",
     "output_type": "stream",
     "text": [
      "\u001b[34m\u001b[1mwandb\u001b[0m: Using wandb-core as the SDK backend.  Please refer to https://wandb.me/wandb-core for more information.\n",
      "\u001b[34m\u001b[1mwandb\u001b[0m: Currently logged in as: \u001b[33mdaniele-didino\u001b[0m to \u001b[32mhttps://api.wandb.ai\u001b[0m. Use \u001b[1m`wandb login --relogin`\u001b[0m to force relogin\n"
     ]
    },
    {
     "data": {
      "text/plain": [
       "True"
      ]
     },
     "execution_count": 6,
     "metadata": {},
     "output_type": "execute_result"
    }
   ],
   "source": [
    "wandb.login()"
   ]
  },
  {
   "cell_type": "markdown",
   "metadata": {},
   "source": [
    "# Tokenizer"
   ]
  },
  {
   "cell_type": "code",
   "execution_count": 7,
   "metadata": {},
   "outputs": [],
   "source": [
    "# Tokenizer (basic word splitting)\n",
    "def basic_tokenizer(text: str) -> str:\n",
    "    text = text.lower()\n",
    "    text = re.sub(r'[^a-zA-Z0-9\\s]', '', text) # Remove special characters\n",
    "    return text.split()\n",
    "\n",
    "\n",
    "def build_vocab(texts):\n",
    "    token_counts = Counter()\n",
    "    for text in texts:\n",
    "        cleaned_text = basic_tokenizer(text)\n",
    "        token_counts.update(cleaned_text)\n",
    "    vocab = {word: idx + 2 for idx, (word, _) in enumerate(token_counts.most_common())}  # Reserve index 0 for padding, 1 for unknown\n",
    "    vocab[\"<PAD>\"] = 0\n",
    "    vocab[\"<UNK>\"] = 1\n",
    "    return vocab\n",
    "\n",
    "\n",
    "# Convert texts to numerical sequences\n",
    "def encode_text(text, vocab, max_len=150):\n",
    "    tokens = basic_tokenizer(text)\n",
    "    encoded = [vocab.get(word, vocab[\"<UNK>\"]) for word in tokens[:max_len]]\n",
    "    return np.pad(encoded, (0, max_len - len(encoded)), constant_values=vocab[\"<PAD>\"])[:max_len]"
   ]
  },
  {
   "cell_type": "markdown",
   "metadata": {},
   "source": [
    "# Model"
   ]
  },
  {
   "cell_type": "code",
   "execution_count": 8,
   "metadata": {},
   "outputs": [],
   "source": [
    "# Dataset Class\n",
    "class ToxicDataset(Dataset):\n",
    "    def __init__(self, texts, labels, vocab, max_len=150):\n",
    "        texts = [encode_text(text, vocab, max_len) for text in texts]\n",
    "        self.texts = [torch.tensor(text, dtype=torch.long) for text in texts]\n",
    "        self.labels = torch.tensor(labels, dtype=torch.float32)\n",
    "\n",
    "    def __len__(self):\n",
    "        return len(self.texts)\n",
    "\n",
    "    def __getitem__(self, idx):\n",
    "        return {\n",
    "            \"input_ids\": self.texts[idx],\n",
    "            \"labels\": self.labels[idx]\n",
    "        }\n",
    "\n",
    "\n",
    "# Load Pretrained Embeddings (GloVe)\n",
    "def load_glove_embeddings(filepath, vocab, embedding_dim=100):\n",
    "    embeddings = np.random.uniform(-0.25, 0.25, (len(vocab), embedding_dim))\n",
    "    with open(filepath, 'r', encoding=\"utf-8\") as f:\n",
    "        for line in f:\n",
    "            values = line.split()\n",
    "            word = values[0]\n",
    "            vector = np.asarray(values[1:], dtype=\"float32\")\n",
    "            if word in vocab:\n",
    "                embeddings[vocab[word]] = vector\n",
    "    return torch.tensor(embeddings, dtype=torch.float32)\n",
    "\n",
    "\n",
    "# Model: CNN + GRU\n",
    "class ToxicClassifier(nn.Module):\n",
    "    def __init__(self, embedding_dim, hidden_dim, num_filters, kernel_size, dropout, num_classes):\n",
    "        super().__init__()\n",
    "        # Embedding layers\n",
    "        self.embedding = nn.Embedding.from_pretrained(embedding_matrix, freeze=False)\n",
    "        # CNN layer\n",
    "        self.conv = nn.Conv1d(\n",
    "            in_channels=embedding_dim,\n",
    "            out_channels=num_filters,\n",
    "            kernel_size=kernel_size,\n",
    "            padding=1)\n",
    "        self.pool = nn.AdaptiveMaxPool1d(50) # This reduces the sequence length\n",
    "        # GRU layer\n",
    "        self.gru = nn.GRU(\n",
    "            input_size=num_filters,\n",
    "            hidden_size=hidden_dim,\n",
    "            batch_first=True,\n",
    "            bidirectional=True)\n",
    "        # Fully connected layer\n",
    "        self.dropout = nn.Dropout(dropout)\n",
    "        self.fc = nn.Linear(hidden_dim * 2, num_classes)\n",
    "\n",
    "    def forward(self, x):\n",
    "        x = self.embedding(x) # (batch_size, seq_len, embedding_dim)\n",
    "        x = x.permute(0, 2, 1) # change shape for conv1d (batch_size, channels, seq_len)\n",
    "        x = torch.relu(self.conv(x))\n",
    "        x = self.pool(x)\n",
    "        x = x.permute(0, 2, 1) # change shape back for GRU (batch_size, seq_len, channels)\n",
    "        x, _ = self.gru(x)\n",
    "        x = self.dropout(x[:, -1, :]) # take the last time step\n",
    "        return self.fc(x)\n",
    "\n",
    "\n",
    "# Training function\n",
    "def model_train(model, train_loader, val_loader, criterion, optimizer, epochs, device):\n",
    "    model.to(device)\n",
    "\n",
    "    for epoch in range(epochs):\n",
    "        model.train()  # set model to training mode\n",
    "        total_train_loss = 0\n",
    "        all_preds = []\n",
    "        all_labels = []\n",
    "\n",
    "        for batch in train_loader:\n",
    "            input_ids = batch['input_ids'].to(device)\n",
    "            labels = batch['labels'].to(device)\n",
    "\n",
    "            optimizer.zero_grad()\n",
    "            outputs = model(input_ids)\n",
    "            loss = criterion(outputs, labels)\n",
    "            loss.backward()\n",
    "            optimizer.step()\n",
    "\n",
    "            total_train_loss += loss.item()\n",
    "            outputs = torch.sigmoid(outputs)\n",
    "            all_preds.append(outputs.cpu().detach().numpy())\n",
    "            all_labels.append(labels.cpu().numpy())\n",
    "        \n",
    "        # Compute Loss\n",
    "        train_loss = total_train_loss / len(train_loader)\n",
    "\n",
    "        # Compute AUC_ROC\n",
    "        all_preds = np.concatenate(all_preds, axis=0).T\n",
    "        all_labels = np.concatenate(all_labels, axis=0).T\n",
    "        train_roc_auc = np.mean(\n",
    "            [roc_auc_score(y_true, y_pred) for y_true, y_pred in zip(all_labels, all_preds)]\n",
    "        )\n",
    "\n",
    "        # Validation Step\n",
    "        model.eval()\n",
    "        val_preds = []\n",
    "        val_labels = []\n",
    "        total_val_loss = 0\n",
    "        with torch.no_grad():\n",
    "            for batch in val_loader:\n",
    "                input_ids = batch['input_ids'].to(device)\n",
    "                labels = batch['labels'].to(device)\n",
    "                outputs = model(input_ids)\n",
    "                \n",
    "                # Compute validation loss\n",
    "                loss = criterion(outputs, labels)\n",
    "                total_val_loss += loss.item()\n",
    "\n",
    "                val_preds.append(outputs.cpu().numpy())\n",
    "                val_labels.append(labels.cpu().numpy())\n",
    "        \n",
    "        # Compute validation loss\n",
    "        val_loss = total_val_loss / len(val_loader)\n",
    "\n",
    "        # Compute AUC_ROC\n",
    "        val_preds = np.concatenate(val_preds, axis=0).T\n",
    "        val_labels = np.concatenate(val_labels, axis=0).T\n",
    "        val_roc_auc = np.mean(\n",
    "            [roc_auc_score(y_true, y_pred) for y_true, y_pred in zip(val_labels, val_preds)]\n",
    "        )\n",
    "\n",
    "        print(f\"Epoch {epoch + 1}/{epochs}\")\n",
    "        print(f\"Train Loss: {train_loss:.4f} | AUC_ROC: {train_roc_auc:.4f}\")\n",
    "        print(f\"Val Loss: {val_loss:.4f} | AUC_ROC: {val_roc_auc:.4f}\")\n",
    "\n",
    "        wandb.log({\n",
    "            \"epoch\": epoch + 1,\n",
    "            \"train_loss\": train_loss,\n",
    "            \"train_roc_auc\": train_roc_auc,\n",
    "            \"val_loss\": val_loss,\n",
    "            \"val_roc_auc\": val_roc_auc,\n",
    "        })\n",
    "\n",
    "    return train_loss, train_roc_auc, val_loss, val_roc_auc\n"
   ]
  },
  {
   "cell_type": "markdown",
   "metadata": {},
   "source": [
    "# wandb Sweeps"
   ]
  },
  {
   "cell_type": "code",
   "execution_count": 9,
   "metadata": {},
   "outputs": [
    {
     "name": "stdout",
     "output_type": "stream",
     "text": [
      "Create sweep with ID: wdc1dzb1\n",
      "Sweep URL: https://wandb.ai/daniele-didino/toxic_comment_clf/sweeps/wdc1dzb1\n"
     ]
    }
   ],
   "source": [
    "sweep_config = {\n",
    "    \"method\": \"bayes\", # \"random\" or \"grid\" or \"bayes\"\n",
    "    \"metric\": {\"name\": \"val_roc_auc\", \"goal\": \"maximize\"},\n",
    "    \"parameters\": {\n",
    "        \"embed_dim\": {\"values\": [EMBEDDING_DIM]},\n",
    "        \"hidden_dim\": {\"values\": [64, 128, 256]},\n",
    "        \"kernel_size\": {\"min\": 2, \"max\": 5},\n",
    "        \"num_filters\": {\"values\": [64, 128, 256]},\n",
    "        \"dropout\": {\"min\": 0.2, \"max\": 0.5},\n",
    "        \"learning_rate\": {\"min\": 1e-4, \"max\": 1e-2, \"distribution\": \"log_uniform_values\"},\n",
    "        \"batch_size\": {\"values\": [16, 32, 64]},\n",
    "        \"epochs\": {\"min\": 1, \"max\": 5},\n",
    "    }\n",
    "}\n",
    "\n",
    "# Create the sweep\n",
    "sweep_id = wandb.sweep(sweep_config, project=\"toxic_comment_clf\")"
   ]
  },
  {
   "cell_type": "code",
   "execution_count": 10,
   "metadata": {},
   "outputs": [],
   "source": [
    "train_input = train_data.comment_text.to_list()\n",
    "train_labels = train_data.loc[:, [\"toxic\", \"severe_toxic\", \"obscene\", \"threat\", \"insult\", \"identity_hate\"]].values.tolist()\n",
    "\n",
    "val_input = val_data.comment_text.to_list()\n",
    "val_labels = val_data.loc[:,  [\"toxic\", \"severe_toxic\", \"obscene\", \"threat\", \"insult\", \"identity_hate\"]].values.tolist()\n",
    "\n",
    "vocab = build_vocab(train_input)\n",
    "\n",
    "embedding_matrix = load_glove_embeddings(\"../embedding/glove.6B.100d.txt\", vocab, EMBEDDING_DIM)\n",
    "\n",
    "# Prepare train dataset\n",
    "train_dataset = ToxicDataset(train_input, train_labels, vocab, MAX_LEN)\n",
    "\n",
    "# Prepare validation dataset\n",
    "val_dataset = ToxicDataset(val_input, val_labels, vocab, MAX_LEN)"
   ]
  },
  {
   "cell_type": "code",
   "execution_count": 11,
   "metadata": {},
   "outputs": [],
   "source": [
    "# Define the training function\n",
    "def train_sweep():\n",
    "\n",
    "    # EPOCHS = 2\n",
    "    num_classes = 6  # toxic, severe_toxic, obscene, threat, insult, identity_hate\n",
    "\n",
    "    with wandb.init() as run:\n",
    "        config = wandb.config # sample hyperparameters\n",
    "        \n",
    "        # Initialize DataLoaders\n",
    "        train_dataloader = DataLoader(train_dataset, batch_size=config[\"batch_size\"], shuffle=True)\n",
    "        val_dataloader = DataLoader(val_dataset, batch_size=config[\"batch_size\"], shuffle=True)\n",
    "    \n",
    "        # Initialize model\n",
    "        model = ToxicClassifier(\n",
    "            config[\"embed_dim\"],\n",
    "            config[\"hidden_dim\"],\n",
    "            config[\"num_filters\"],\n",
    "            config[\"kernel_size\"],\n",
    "            config[\"dropout\"],\n",
    "            num_classes=num_classes)\n",
    "        model.to(DEVICE)\n",
    "    \n",
    "        # Loss\n",
    "        criterion = nn.BCEWithLogitsLoss() # Multi-label loss\n",
    "    \n",
    "        # Optimizer\n",
    "        optimizer = optim.Adam(model.parameters(), lr=config[\"learning_rate\"])\n",
    "    \n",
    "        # Training loop\n",
    "        # _ = model_train(model, train_dataloader, val_dataloader, criterion, optimizer, EPOCHS, DEVICE)\n",
    "        _ = model_train(model, train_dataloader, val_dataloader, criterion, optimizer, config[\"epochs\"], DEVICE)"
   ]
  },
  {
   "cell_type": "code",
   "execution_count": 13,
   "metadata": {},
   "outputs": [
    {
     "name": "stderr",
     "output_type": "stream",
     "text": [
      "\u001b[34m\u001b[1mwandb\u001b[0m: Agent Starting Run: iu4erau5 with config:\n",
      "\u001b[34m\u001b[1mwandb\u001b[0m: \tbatch_size: 16\n",
      "\u001b[34m\u001b[1mwandb\u001b[0m: \tdropout: 0.2215374519536568\n",
      "\u001b[34m\u001b[1mwandb\u001b[0m: \tembed_dim: 100\n",
      "\u001b[34m\u001b[1mwandb\u001b[0m: \tepochs: 2\n",
      "\u001b[34m\u001b[1mwandb\u001b[0m: \thidden_dim: 256\n",
      "\u001b[34m\u001b[1mwandb\u001b[0m: \tkernel_size: 4\n",
      "\u001b[34m\u001b[1mwandb\u001b[0m: \tlearning_rate: 0.00595487859017714\n",
      "\u001b[34m\u001b[1mwandb\u001b[0m: \tnum_filters: 256\n"
     ]
    },
    {
     "data": {
      "text/html": [
       "creating run (3.9s)"
      ],
      "text/plain": [
       "<IPython.core.display.HTML object>"
      ]
     },
     "metadata": {},
     "output_type": "display_data"
    },
    {
     "data": {
      "text/html": [
       "Tracking run with wandb version 0.19.7"
      ],
      "text/plain": [
       "<IPython.core.display.HTML object>"
      ]
     },
     "metadata": {},
     "output_type": "display_data"
    },
    {
     "data": {
      "text/html": [
       "Run data is saved locally in <code>/home/daniele/Desktop/Projects/toxic_comment_clf/notebooks/wandb/run-20250303_162157-iu4erau5</code>"
      ],
      "text/plain": [
       "<IPython.core.display.HTML object>"
      ]
     },
     "metadata": {},
     "output_type": "display_data"
    },
    {
     "data": {
      "text/html": [
       "Syncing run <strong><a href='https://wandb.ai/daniele-didino/toxic_comment_clf/runs/iu4erau5' target=\"_blank\">vital-sweep-3</a></strong> to <a href='https://wandb.ai/daniele-didino/toxic_comment_clf' target=\"_blank\">Weights & Biases</a> (<a href='https://wandb.me/developer-guide' target=\"_blank\">docs</a>)<br>Sweep page: <a href='https://wandb.ai/daniele-didino/toxic_comment_clf/sweeps/wdc1dzb1' target=\"_blank\">https://wandb.ai/daniele-didino/toxic_comment_clf/sweeps/wdc1dzb1</a>"
      ],
      "text/plain": [
       "<IPython.core.display.HTML object>"
      ]
     },
     "metadata": {},
     "output_type": "display_data"
    },
    {
     "data": {
      "text/html": [
       " View project at <a href='https://wandb.ai/daniele-didino/toxic_comment_clf' target=\"_blank\">https://wandb.ai/daniele-didino/toxic_comment_clf</a>"
      ],
      "text/plain": [
       "<IPython.core.display.HTML object>"
      ]
     },
     "metadata": {},
     "output_type": "display_data"
    },
    {
     "data": {
      "text/html": [
       " View sweep at <a href='https://wandb.ai/daniele-didino/toxic_comment_clf/sweeps/wdc1dzb1' target=\"_blank\">https://wandb.ai/daniele-didino/toxic_comment_clf/sweeps/wdc1dzb1</a>"
      ],
      "text/plain": [
       "<IPython.core.display.HTML object>"
      ]
     },
     "metadata": {},
     "output_type": "display_data"
    },
    {
     "data": {
      "text/html": [
       " View run at <a href='https://wandb.ai/daniele-didino/toxic_comment_clf/runs/iu4erau5' target=\"_blank\">https://wandb.ai/daniele-didino/toxic_comment_clf/runs/iu4erau5</a>"
      ],
      "text/plain": [
       "<IPython.core.display.HTML object>"
      ]
     },
     "metadata": {},
     "output_type": "display_data"
    },
    {
     "name": "stdout",
     "output_type": "stream",
     "text": [
      "Epoch 1/2\n",
      "Train Loss: 0.0891 | AUC_ROC: 0.8632\n",
      "Val Loss: 0.0732 | AUC_ROC: 0.9536\n",
      "Epoch 2/2\n",
      "Train Loss: 0.1105 | AUC_ROC: 0.7920\n",
      "Val Loss: 0.0826 | AUC_ROC: 0.9335\n"
     ]
    },
    {
     "data": {
      "text/html": [],
      "text/plain": [
       "<IPython.core.display.HTML object>"
      ]
     },
     "metadata": {},
     "output_type": "display_data"
    },
    {
     "data": {
      "text/html": [
       "<br>    <style><br>        .wandb-row {<br>            display: flex;<br>            flex-direction: row;<br>            flex-wrap: wrap;<br>            justify-content: flex-start;<br>            width: 100%;<br>        }<br>        .wandb-col {<br>            display: flex;<br>            flex-direction: column;<br>            flex-basis: 100%;<br>            flex: 1;<br>            padding: 10px;<br>        }<br>    </style><br><div class=\"wandb-row\"><div class=\"wandb-col\"><h3>Run history:</h3><br/><table class=\"wandb\"><tr><td>epoch</td><td>▁█</td></tr><tr><td>train_loss</td><td>▁█</td></tr><tr><td>train_roc_auc</td><td>█▁</td></tr><tr><td>val_loss</td><td>▁█</td></tr><tr><td>val_roc_auc</td><td>█▁</td></tr></table><br/></div><div class=\"wandb-col\"><h3>Run summary:</h3><br/><table class=\"wandb\"><tr><td>epoch</td><td>2</td></tr><tr><td>train_loss</td><td>0.11054</td></tr><tr><td>train_roc_auc</td><td>0.79202</td></tr><tr><td>val_loss</td><td>0.08263</td></tr><tr><td>val_roc_auc</td><td>0.93354</td></tr></table><br/></div></div>"
      ],
      "text/plain": [
       "<IPython.core.display.HTML object>"
      ]
     },
     "metadata": {},
     "output_type": "display_data"
    },
    {
     "data": {
      "text/html": [
       " View run <strong style=\"color:#cdcd00\">vital-sweep-3</strong> at: <a href='https://wandb.ai/daniele-didino/toxic_comment_clf/runs/iu4erau5' target=\"_blank\">https://wandb.ai/daniele-didino/toxic_comment_clf/runs/iu4erau5</a><br> View project at: <a href='https://wandb.ai/daniele-didino/toxic_comment_clf' target=\"_blank\">https://wandb.ai/daniele-didino/toxic_comment_clf</a><br>Synced 5 W&B file(s), 0 media file(s), 0 artifact file(s) and 0 other file(s)"
      ],
      "text/plain": [
       "<IPython.core.display.HTML object>"
      ]
     },
     "metadata": {},
     "output_type": "display_data"
    },
    {
     "data": {
      "text/html": [
       "Find logs at: <code>./wandb/run-20250303_162157-iu4erau5/logs</code>"
      ],
      "text/plain": [
       "<IPython.core.display.HTML object>"
      ]
     },
     "metadata": {},
     "output_type": "display_data"
    },
    {
     "name": "stderr",
     "output_type": "stream",
     "text": [
      "\u001b[34m\u001b[1mwandb\u001b[0m: Sweep Agent: Waiting for job.\n",
      "\u001b[34m\u001b[1mwandb\u001b[0m: Job received.\n",
      "\u001b[34m\u001b[1mwandb\u001b[0m: Agent Starting Run: ezchz1wd with config:\n",
      "\u001b[34m\u001b[1mwandb\u001b[0m: \tbatch_size: 32\n",
      "\u001b[34m\u001b[1mwandb\u001b[0m: \tdropout: 0.4445974334927478\n",
      "\u001b[34m\u001b[1mwandb\u001b[0m: \tembed_dim: 100\n",
      "\u001b[34m\u001b[1mwandb\u001b[0m: \tepochs: 4\n",
      "\u001b[34m\u001b[1mwandb\u001b[0m: \thidden_dim: 128\n",
      "\u001b[34m\u001b[1mwandb\u001b[0m: \tkernel_size: 5\n",
      "\u001b[34m\u001b[1mwandb\u001b[0m: \tlearning_rate: 0.0008039270737862104\n",
      "\u001b[34m\u001b[1mwandb\u001b[0m: \tnum_filters: 128\n"
     ]
    },
    {
     "data": {
      "text/html": [
       "creating run (0.9s)"
      ],
      "text/plain": [
       "<IPython.core.display.HTML object>"
      ]
     },
     "metadata": {},
     "output_type": "display_data"
    },
    {
     "data": {
      "text/html": [
       "Tracking run with wandb version 0.19.7"
      ],
      "text/plain": [
       "<IPython.core.display.HTML object>"
      ]
     },
     "metadata": {},
     "output_type": "display_data"
    },
    {
     "data": {
      "text/html": [
       "Run data is saved locally in <code>/home/daniele/Desktop/Projects/toxic_comment_clf/notebooks/wandb/run-20250303_162407-ezchz1wd</code>"
      ],
      "text/plain": [
       "<IPython.core.display.HTML object>"
      ]
     },
     "metadata": {},
     "output_type": "display_data"
    },
    {
     "data": {
      "text/html": [
       "Syncing run <strong><a href='https://wandb.ai/daniele-didino/toxic_comment_clf/runs/ezchz1wd' target=\"_blank\">sunny-sweep-4</a></strong> to <a href='https://wandb.ai/daniele-didino/toxic_comment_clf' target=\"_blank\">Weights & Biases</a> (<a href='https://wandb.me/developer-guide' target=\"_blank\">docs</a>)<br>Sweep page: <a href='https://wandb.ai/daniele-didino/toxic_comment_clf/sweeps/wdc1dzb1' target=\"_blank\">https://wandb.ai/daniele-didino/toxic_comment_clf/sweeps/wdc1dzb1</a>"
      ],
      "text/plain": [
       "<IPython.core.display.HTML object>"
      ]
     },
     "metadata": {},
     "output_type": "display_data"
    },
    {
     "data": {
      "text/html": [
       " View project at <a href='https://wandb.ai/daniele-didino/toxic_comment_clf' target=\"_blank\">https://wandb.ai/daniele-didino/toxic_comment_clf</a>"
      ],
      "text/plain": [
       "<IPython.core.display.HTML object>"
      ]
     },
     "metadata": {},
     "output_type": "display_data"
    },
    {
     "data": {
      "text/html": [
       " View sweep at <a href='https://wandb.ai/daniele-didino/toxic_comment_clf/sweeps/wdc1dzb1' target=\"_blank\">https://wandb.ai/daniele-didino/toxic_comment_clf/sweeps/wdc1dzb1</a>"
      ],
      "text/plain": [
       "<IPython.core.display.HTML object>"
      ]
     },
     "metadata": {},
     "output_type": "display_data"
    },
    {
     "data": {
      "text/html": [
       " View run at <a href='https://wandb.ai/daniele-didino/toxic_comment_clf/runs/ezchz1wd' target=\"_blank\">https://wandb.ai/daniele-didino/toxic_comment_clf/runs/ezchz1wd</a>"
      ],
      "text/plain": [
       "<IPython.core.display.HTML object>"
      ]
     },
     "metadata": {},
     "output_type": "display_data"
    },
    {
     "name": "stdout",
     "output_type": "stream",
     "text": [
      "Epoch 1/4\n",
      "Train Loss: 0.0652 | AUC_ROC: 0.9484\n",
      "Val Loss: 0.0524 | AUC_ROC: 0.9747\n",
      "Epoch 2/4\n",
      "Train Loss: 0.0441 | AUC_ROC: 0.9773\n",
      "Val Loss: 0.0481 | AUC_ROC: 0.9784\n",
      "Epoch 3/4\n",
      "Train Loss: 0.0356 | AUC_ROC: 0.9855\n",
      "Val Loss: 0.0506 | AUC_ROC: 0.9781\n",
      "Epoch 4/4\n",
      "Train Loss: 0.0294 | AUC_ROC: 0.9903\n",
      "Val Loss: 0.0555 | AUC_ROC: 0.9777\n"
     ]
    },
    {
     "data": {
      "text/html": [],
      "text/plain": [
       "<IPython.core.display.HTML object>"
      ]
     },
     "metadata": {},
     "output_type": "display_data"
    },
    {
     "data": {
      "text/html": [
       "<br>    <style><br>        .wandb-row {<br>            display: flex;<br>            flex-direction: row;<br>            flex-wrap: wrap;<br>            justify-content: flex-start;<br>            width: 100%;<br>        }<br>        .wandb-col {<br>            display: flex;<br>            flex-direction: column;<br>            flex-basis: 100%;<br>            flex: 1;<br>            padding: 10px;<br>        }<br>    </style><br><div class=\"wandb-row\"><div class=\"wandb-col\"><h3>Run history:</h3><br/><table class=\"wandb\"><tr><td>epoch</td><td>▁▃▆█</td></tr><tr><td>train_loss</td><td>█▄▂▁</td></tr><tr><td>train_roc_auc</td><td>▁▆▇█</td></tr><tr><td>val_loss</td><td>▅▁▃█</td></tr><tr><td>val_roc_auc</td><td>▁█▇▇</td></tr></table><br/></div><div class=\"wandb-col\"><h3>Run summary:</h3><br/><table class=\"wandb\"><tr><td>epoch</td><td>4</td></tr><tr><td>train_loss</td><td>0.02937</td></tr><tr><td>train_roc_auc</td><td>0.99031</td></tr><tr><td>val_loss</td><td>0.05555</td></tr><tr><td>val_roc_auc</td><td>0.97765</td></tr></table><br/></div></div>"
      ],
      "text/plain": [
       "<IPython.core.display.HTML object>"
      ]
     },
     "metadata": {},
     "output_type": "display_data"
    },
    {
     "data": {
      "text/html": [
       " View run <strong style=\"color:#cdcd00\">sunny-sweep-4</strong> at: <a href='https://wandb.ai/daniele-didino/toxic_comment_clf/runs/ezchz1wd' target=\"_blank\">https://wandb.ai/daniele-didino/toxic_comment_clf/runs/ezchz1wd</a><br> View project at: <a href='https://wandb.ai/daniele-didino/toxic_comment_clf' target=\"_blank\">https://wandb.ai/daniele-didino/toxic_comment_clf</a><br>Synced 5 W&B file(s), 0 media file(s), 0 artifact file(s) and 0 other file(s)"
      ],
      "text/plain": [
       "<IPython.core.display.HTML object>"
      ]
     },
     "metadata": {},
     "output_type": "display_data"
    },
    {
     "data": {
      "text/html": [
       "Find logs at: <code>./wandb/run-20250303_162407-ezchz1wd/logs</code>"
      ],
      "text/plain": [
       "<IPython.core.display.HTML object>"
      ]
     },
     "metadata": {},
     "output_type": "display_data"
    },
    {
     "name": "stderr",
     "output_type": "stream",
     "text": [
      "\u001b[34m\u001b[1mwandb\u001b[0m: Agent Starting Run: w27vf93u with config:\n",
      "\u001b[34m\u001b[1mwandb\u001b[0m: \tbatch_size: 64\n",
      "\u001b[34m\u001b[1mwandb\u001b[0m: \tdropout: 0.44988501516771445\n",
      "\u001b[34m\u001b[1mwandb\u001b[0m: \tembed_dim: 100\n",
      "\u001b[34m\u001b[1mwandb\u001b[0m: \tepochs: 5\n",
      "\u001b[34m\u001b[1mwandb\u001b[0m: \thidden_dim: 128\n",
      "\u001b[34m\u001b[1mwandb\u001b[0m: \tkernel_size: 5\n",
      "\u001b[34m\u001b[1mwandb\u001b[0m: \tlearning_rate: 0.0006247627042943908\n",
      "\u001b[34m\u001b[1mwandb\u001b[0m: \tnum_filters: 128\n"
     ]
    },
    {
     "data": {
      "text/html": [
       "Tracking run with wandb version 0.19.7"
      ],
      "text/plain": [
       "<IPython.core.display.HTML object>"
      ]
     },
     "metadata": {},
     "output_type": "display_data"
    },
    {
     "data": {
      "text/html": [
       "Run data is saved locally in <code>/home/daniele/Desktop/Projects/toxic_comment_clf/notebooks/wandb/run-20250303_162553-w27vf93u</code>"
      ],
      "text/plain": [
       "<IPython.core.display.HTML object>"
      ]
     },
     "metadata": {},
     "output_type": "display_data"
    },
    {
     "data": {
      "text/html": [
       "Syncing run <strong><a href='https://wandb.ai/daniele-didino/toxic_comment_clf/runs/w27vf93u' target=\"_blank\">vibrant-sweep-5</a></strong> to <a href='https://wandb.ai/daniele-didino/toxic_comment_clf' target=\"_blank\">Weights & Biases</a> (<a href='https://wandb.me/developer-guide' target=\"_blank\">docs</a>)<br>Sweep page: <a href='https://wandb.ai/daniele-didino/toxic_comment_clf/sweeps/wdc1dzb1' target=\"_blank\">https://wandb.ai/daniele-didino/toxic_comment_clf/sweeps/wdc1dzb1</a>"
      ],
      "text/plain": [
       "<IPython.core.display.HTML object>"
      ]
     },
     "metadata": {},
     "output_type": "display_data"
    },
    {
     "data": {
      "text/html": [
       " View project at <a href='https://wandb.ai/daniele-didino/toxic_comment_clf' target=\"_blank\">https://wandb.ai/daniele-didino/toxic_comment_clf</a>"
      ],
      "text/plain": [
       "<IPython.core.display.HTML object>"
      ]
     },
     "metadata": {},
     "output_type": "display_data"
    },
    {
     "data": {
      "text/html": [
       " View sweep at <a href='https://wandb.ai/daniele-didino/toxic_comment_clf/sweeps/wdc1dzb1' target=\"_blank\">https://wandb.ai/daniele-didino/toxic_comment_clf/sweeps/wdc1dzb1</a>"
      ],
      "text/plain": [
       "<IPython.core.display.HTML object>"
      ]
     },
     "metadata": {},
     "output_type": "display_data"
    },
    {
     "data": {
      "text/html": [
       " View run at <a href='https://wandb.ai/daniele-didino/toxic_comment_clf/runs/w27vf93u' target=\"_blank\">https://wandb.ai/daniele-didino/toxic_comment_clf/runs/w27vf93u</a>"
      ],
      "text/plain": [
       "<IPython.core.display.HTML object>"
      ]
     },
     "metadata": {},
     "output_type": "display_data"
    },
    {
     "name": "stdout",
     "output_type": "stream",
     "text": [
      "Epoch 1/5\n",
      "Train Loss: 0.0742 | AUC_ROC: 0.9341\n",
      "Val Loss: 0.0521 | AUC_ROC: 0.9754\n",
      "Epoch 2/5\n",
      "Train Loss: 0.0460 | AUC_ROC: 0.9750\n",
      "Val Loss: 0.0509 | AUC_ROC: 0.9770\n",
      "Epoch 3/5\n",
      "Train Loss: 0.0387 | AUC_ROC: 0.9811\n",
      "Val Loss: 0.0498 | AUC_ROC: 0.9777\n",
      "Epoch 4/5\n",
      "Train Loss: 0.0326 | AUC_ROC: 0.9867\n",
      "Val Loss: 0.0512 | AUC_ROC: 0.9782\n",
      "Epoch 5/5\n",
      "Train Loss: 0.0275 | AUC_ROC: 0.9905\n",
      "Val Loss: 0.0563 | AUC_ROC: 0.9770\n"
     ]
    },
    {
     "data": {
      "text/html": [],
      "text/plain": [
       "<IPython.core.display.HTML object>"
      ]
     },
     "metadata": {},
     "output_type": "display_data"
    },
    {
     "data": {
      "text/html": [
       "<br>    <style><br>        .wandb-row {<br>            display: flex;<br>            flex-direction: row;<br>            flex-wrap: wrap;<br>            justify-content: flex-start;<br>            width: 100%;<br>        }<br>        .wandb-col {<br>            display: flex;<br>            flex-direction: column;<br>            flex-basis: 100%;<br>            flex: 1;<br>            padding: 10px;<br>        }<br>    </style><br><div class=\"wandb-row\"><div class=\"wandb-col\"><h3>Run history:</h3><br/><table class=\"wandb\"><tr><td>epoch</td><td>▁▃▅▆█</td></tr><tr><td>train_loss</td><td>█▄▃▂▁</td></tr><tr><td>train_roc_auc</td><td>▁▆▇██</td></tr><tr><td>val_loss</td><td>▃▂▁▃█</td></tr><tr><td>val_roc_auc</td><td>▁▅▇█▅</td></tr></table><br/></div><div class=\"wandb-col\"><h3>Run summary:</h3><br/><table class=\"wandb\"><tr><td>epoch</td><td>5</td></tr><tr><td>train_loss</td><td>0.02753</td></tr><tr><td>train_roc_auc</td><td>0.99053</td></tr><tr><td>val_loss</td><td>0.05628</td></tr><tr><td>val_roc_auc</td><td>0.97702</td></tr></table><br/></div></div>"
      ],
      "text/plain": [
       "<IPython.core.display.HTML object>"
      ]
     },
     "metadata": {},
     "output_type": "display_data"
    },
    {
     "data": {
      "text/html": [
       " View run <strong style=\"color:#cdcd00\">vibrant-sweep-5</strong> at: <a href='https://wandb.ai/daniele-didino/toxic_comment_clf/runs/w27vf93u' target=\"_blank\">https://wandb.ai/daniele-didino/toxic_comment_clf/runs/w27vf93u</a><br> View project at: <a href='https://wandb.ai/daniele-didino/toxic_comment_clf' target=\"_blank\">https://wandb.ai/daniele-didino/toxic_comment_clf</a><br>Synced 5 W&B file(s), 0 media file(s), 0 artifact file(s) and 0 other file(s)"
      ],
      "text/plain": [
       "<IPython.core.display.HTML object>"
      ]
     },
     "metadata": {},
     "output_type": "display_data"
    },
    {
     "data": {
      "text/html": [
       "Find logs at: <code>./wandb/run-20250303_162553-w27vf93u/logs</code>"
      ],
      "text/plain": [
       "<IPython.core.display.HTML object>"
      ]
     },
     "metadata": {},
     "output_type": "display_data"
    },
    {
     "name": "stderr",
     "output_type": "stream",
     "text": [
      "\u001b[34m\u001b[1mwandb\u001b[0m: Agent Starting Run: sb8wqitz with config:\n",
      "\u001b[34m\u001b[1mwandb\u001b[0m: \tbatch_size: 32\n",
      "\u001b[34m\u001b[1mwandb\u001b[0m: \tdropout: 0.4854884152096631\n",
      "\u001b[34m\u001b[1mwandb\u001b[0m: \tembed_dim: 100\n",
      "\u001b[34m\u001b[1mwandb\u001b[0m: \tepochs: 4\n",
      "\u001b[34m\u001b[1mwandb\u001b[0m: \thidden_dim: 64\n",
      "\u001b[34m\u001b[1mwandb\u001b[0m: \tkernel_size: 3\n",
      "\u001b[34m\u001b[1mwandb\u001b[0m: \tlearning_rate: 0.00023747992796155145\n",
      "\u001b[34m\u001b[1mwandb\u001b[0m: \tnum_filters: 256\n"
     ]
    },
    {
     "data": {
      "text/html": [
       "Tracking run with wandb version 0.19.7"
      ],
      "text/plain": [
       "<IPython.core.display.HTML object>"
      ]
     },
     "metadata": {},
     "output_type": "display_data"
    },
    {
     "data": {
      "text/html": [
       "Run data is saved locally in <code>/home/daniele/Desktop/Projects/toxic_comment_clf/notebooks/wandb/run-20250303_162707-sb8wqitz</code>"
      ],
      "text/plain": [
       "<IPython.core.display.HTML object>"
      ]
     },
     "metadata": {},
     "output_type": "display_data"
    },
    {
     "data": {
      "text/html": [
       "Syncing run <strong><a href='https://wandb.ai/daniele-didino/toxic_comment_clf/runs/sb8wqitz' target=\"_blank\">bright-sweep-6</a></strong> to <a href='https://wandb.ai/daniele-didino/toxic_comment_clf' target=\"_blank\">Weights & Biases</a> (<a href='https://wandb.me/developer-guide' target=\"_blank\">docs</a>)<br>Sweep page: <a href='https://wandb.ai/daniele-didino/toxic_comment_clf/sweeps/wdc1dzb1' target=\"_blank\">https://wandb.ai/daniele-didino/toxic_comment_clf/sweeps/wdc1dzb1</a>"
      ],
      "text/plain": [
       "<IPython.core.display.HTML object>"
      ]
     },
     "metadata": {},
     "output_type": "display_data"
    },
    {
     "data": {
      "text/html": [
       " View project at <a href='https://wandb.ai/daniele-didino/toxic_comment_clf' target=\"_blank\">https://wandb.ai/daniele-didino/toxic_comment_clf</a>"
      ],
      "text/plain": [
       "<IPython.core.display.HTML object>"
      ]
     },
     "metadata": {},
     "output_type": "display_data"
    },
    {
     "data": {
      "text/html": [
       " View sweep at <a href='https://wandb.ai/daniele-didino/toxic_comment_clf/sweeps/wdc1dzb1' target=\"_blank\">https://wandb.ai/daniele-didino/toxic_comment_clf/sweeps/wdc1dzb1</a>"
      ],
      "text/plain": [
       "<IPython.core.display.HTML object>"
      ]
     },
     "metadata": {},
     "output_type": "display_data"
    },
    {
     "data": {
      "text/html": [
       " View run at <a href='https://wandb.ai/daniele-didino/toxic_comment_clf/runs/sb8wqitz' target=\"_blank\">https://wandb.ai/daniele-didino/toxic_comment_clf/runs/sb8wqitz</a>"
      ],
      "text/plain": [
       "<IPython.core.display.HTML object>"
      ]
     },
     "metadata": {},
     "output_type": "display_data"
    },
    {
     "name": "stdout",
     "output_type": "stream",
     "text": [
      "Epoch 1/4\n",
      "Train Loss: 0.0876 | AUC_ROC: 0.8961\n",
      "Val Loss: 0.0537 | AUC_ROC: 0.9742\n",
      "Epoch 2/4\n",
      "Train Loss: 0.0511 | AUC_ROC: 0.9676\n",
      "Val Loss: 0.0505 | AUC_ROC: 0.9765\n",
      "Epoch 3/4\n",
      "Train Loss: 0.0452 | AUC_ROC: 0.9746\n",
      "Val Loss: 0.0504 | AUC_ROC: 0.9773\n",
      "Epoch 4/4\n",
      "Train Loss: 0.0403 | AUC_ROC: 0.9792\n",
      "Val Loss: 0.0523 | AUC_ROC: 0.9772\n"
     ]
    },
    {
     "data": {
      "text/html": [],
      "text/plain": [
       "<IPython.core.display.HTML object>"
      ]
     },
     "metadata": {},
     "output_type": "display_data"
    },
    {
     "data": {
      "text/html": [
       "<br>    <style><br>        .wandb-row {<br>            display: flex;<br>            flex-direction: row;<br>            flex-wrap: wrap;<br>            justify-content: flex-start;<br>            width: 100%;<br>        }<br>        .wandb-col {<br>            display: flex;<br>            flex-direction: column;<br>            flex-basis: 100%;<br>            flex: 1;<br>            padding: 10px;<br>        }<br>    </style><br><div class=\"wandb-row\"><div class=\"wandb-col\"><h3>Run history:</h3><br/><table class=\"wandb\"><tr><td>epoch</td><td>▁▃▆█</td></tr><tr><td>train_loss</td><td>█▃▂▁</td></tr><tr><td>train_roc_auc</td><td>▁▇██</td></tr><tr><td>val_loss</td><td>█▁▁▅</td></tr><tr><td>val_roc_auc</td><td>▁▆██</td></tr></table><br/></div><div class=\"wandb-col\"><h3>Run summary:</h3><br/><table class=\"wandb\"><tr><td>epoch</td><td>4</td></tr><tr><td>train_loss</td><td>0.04032</td></tr><tr><td>train_roc_auc</td><td>0.9792</td></tr><tr><td>val_loss</td><td>0.05228</td></tr><tr><td>val_roc_auc</td><td>0.97719</td></tr></table><br/></div></div>"
      ],
      "text/plain": [
       "<IPython.core.display.HTML object>"
      ]
     },
     "metadata": {},
     "output_type": "display_data"
    },
    {
     "data": {
      "text/html": [
       " View run <strong style=\"color:#cdcd00\">bright-sweep-6</strong> at: <a href='https://wandb.ai/daniele-didino/toxic_comment_clf/runs/sb8wqitz' target=\"_blank\">https://wandb.ai/daniele-didino/toxic_comment_clf/runs/sb8wqitz</a><br> View project at: <a href='https://wandb.ai/daniele-didino/toxic_comment_clf' target=\"_blank\">https://wandb.ai/daniele-didino/toxic_comment_clf</a><br>Synced 5 W&B file(s), 0 media file(s), 0 artifact file(s) and 0 other file(s)"
      ],
      "text/plain": [
       "<IPython.core.display.HTML object>"
      ]
     },
     "metadata": {},
     "output_type": "display_data"
    },
    {
     "data": {
      "text/html": [
       "Find logs at: <code>./wandb/run-20250303_162707-sb8wqitz/logs</code>"
      ],
      "text/plain": [
       "<IPython.core.display.HTML object>"
      ]
     },
     "metadata": {},
     "output_type": "display_data"
    },
    {
     "name": "stderr",
     "output_type": "stream",
     "text": [
      "\u001b[34m\u001b[1mwandb\u001b[0m: Agent Starting Run: rvy7a08h with config:\n",
      "\u001b[34m\u001b[1mwandb\u001b[0m: \tbatch_size: 32\n",
      "\u001b[34m\u001b[1mwandb\u001b[0m: \tdropout: 0.3994719481954938\n",
      "\u001b[34m\u001b[1mwandb\u001b[0m: \tembed_dim: 100\n",
      "\u001b[34m\u001b[1mwandb\u001b[0m: \tepochs: 5\n",
      "\u001b[34m\u001b[1mwandb\u001b[0m: \thidden_dim: 64\n",
      "\u001b[34m\u001b[1mwandb\u001b[0m: \tkernel_size: 5\n",
      "\u001b[34m\u001b[1mwandb\u001b[0m: \tlearning_rate: 0.00024626058064443747\n",
      "\u001b[34m\u001b[1mwandb\u001b[0m: \tnum_filters: 256\n"
     ]
    },
    {
     "data": {
      "text/html": [
       "Tracking run with wandb version 0.19.7"
      ],
      "text/plain": [
       "<IPython.core.display.HTML object>"
      ]
     },
     "metadata": {},
     "output_type": "display_data"
    },
    {
     "data": {
      "text/html": [
       "Run data is saved locally in <code>/home/daniele/Desktop/Projects/toxic_comment_clf/notebooks/wandb/run-20250303_162852-rvy7a08h</code>"
      ],
      "text/plain": [
       "<IPython.core.display.HTML object>"
      ]
     },
     "metadata": {},
     "output_type": "display_data"
    },
    {
     "data": {
      "text/html": [
       "Syncing run <strong><a href='https://wandb.ai/daniele-didino/toxic_comment_clf/runs/rvy7a08h' target=\"_blank\">lively-sweep-7</a></strong> to <a href='https://wandb.ai/daniele-didino/toxic_comment_clf' target=\"_blank\">Weights & Biases</a> (<a href='https://wandb.me/developer-guide' target=\"_blank\">docs</a>)<br>Sweep page: <a href='https://wandb.ai/daniele-didino/toxic_comment_clf/sweeps/wdc1dzb1' target=\"_blank\">https://wandb.ai/daniele-didino/toxic_comment_clf/sweeps/wdc1dzb1</a>"
      ],
      "text/plain": [
       "<IPython.core.display.HTML object>"
      ]
     },
     "metadata": {},
     "output_type": "display_data"
    },
    {
     "data": {
      "text/html": [
       " View project at <a href='https://wandb.ai/daniele-didino/toxic_comment_clf' target=\"_blank\">https://wandb.ai/daniele-didino/toxic_comment_clf</a>"
      ],
      "text/plain": [
       "<IPython.core.display.HTML object>"
      ]
     },
     "metadata": {},
     "output_type": "display_data"
    },
    {
     "data": {
      "text/html": [
       " View sweep at <a href='https://wandb.ai/daniele-didino/toxic_comment_clf/sweeps/wdc1dzb1' target=\"_blank\">https://wandb.ai/daniele-didino/toxic_comment_clf/sweeps/wdc1dzb1</a>"
      ],
      "text/plain": [
       "<IPython.core.display.HTML object>"
      ]
     },
     "metadata": {},
     "output_type": "display_data"
    },
    {
     "data": {
      "text/html": [
       " View run at <a href='https://wandb.ai/daniele-didino/toxic_comment_clf/runs/rvy7a08h' target=\"_blank\">https://wandb.ai/daniele-didino/toxic_comment_clf/runs/rvy7a08h</a>"
      ],
      "text/plain": [
       "<IPython.core.display.HTML object>"
      ]
     },
     "metadata": {},
     "output_type": "display_data"
    },
    {
     "name": "stdout",
     "output_type": "stream",
     "text": [
      "Epoch 1/5\n",
      "Train Loss: 0.0831 | AUC_ROC: 0.9107\n",
      "Val Loss: 0.0546 | AUC_ROC: 0.9735\n",
      "Epoch 2/5\n",
      "Train Loss: 0.0503 | AUC_ROC: 0.9684\n",
      "Val Loss: 0.0514 | AUC_ROC: 0.9755\n",
      "Epoch 3/5\n",
      "Train Loss: 0.0441 | AUC_ROC: 0.9768\n",
      "Val Loss: 0.0531 | AUC_ROC: 0.9772\n",
      "Epoch 4/5\n",
      "Train Loss: 0.0390 | AUC_ROC: 0.9808\n",
      "Val Loss: 0.0511 | AUC_ROC: 0.9776\n",
      "Epoch 5/5\n",
      "Train Loss: 0.0341 | AUC_ROC: 0.9853\n",
      "Val Loss: 0.0537 | AUC_ROC: 0.9777\n"
     ]
    },
    {
     "data": {
      "text/html": [],
      "text/plain": [
       "<IPython.core.display.HTML object>"
      ]
     },
     "metadata": {},
     "output_type": "display_data"
    },
    {
     "data": {
      "text/html": [
       "<br>    <style><br>        .wandb-row {<br>            display: flex;<br>            flex-direction: row;<br>            flex-wrap: wrap;<br>            justify-content: flex-start;<br>            width: 100%;<br>        }<br>        .wandb-col {<br>            display: flex;<br>            flex-direction: column;<br>            flex-basis: 100%;<br>            flex: 1;<br>            padding: 10px;<br>        }<br>    </style><br><div class=\"wandb-row\"><div class=\"wandb-col\"><h3>Run history:</h3><br/><table class=\"wandb\"><tr><td>epoch</td><td>▁▃▅▆█</td></tr><tr><td>train_loss</td><td>█▃▂▂▁</td></tr><tr><td>train_roc_auc</td><td>▁▆▇██</td></tr><tr><td>val_loss</td><td>█▁▅▁▆</td></tr><tr><td>val_roc_auc</td><td>▁▄▇██</td></tr></table><br/></div><div class=\"wandb-col\"><h3>Run summary:</h3><br/><table class=\"wandb\"><tr><td>epoch</td><td>5</td></tr><tr><td>train_loss</td><td>0.03407</td></tr><tr><td>train_roc_auc</td><td>0.98532</td></tr><tr><td>val_loss</td><td>0.05372</td></tr><tr><td>val_roc_auc</td><td>0.97772</td></tr></table><br/></div></div>"
      ],
      "text/plain": [
       "<IPython.core.display.HTML object>"
      ]
     },
     "metadata": {},
     "output_type": "display_data"
    },
    {
     "data": {
      "text/html": [
       " View run <strong style=\"color:#cdcd00\">lively-sweep-7</strong> at: <a href='https://wandb.ai/daniele-didino/toxic_comment_clf/runs/rvy7a08h' target=\"_blank\">https://wandb.ai/daniele-didino/toxic_comment_clf/runs/rvy7a08h</a><br> View project at: <a href='https://wandb.ai/daniele-didino/toxic_comment_clf' target=\"_blank\">https://wandb.ai/daniele-didino/toxic_comment_clf</a><br>Synced 5 W&B file(s), 0 media file(s), 0 artifact file(s) and 0 other file(s)"
      ],
      "text/plain": [
       "<IPython.core.display.HTML object>"
      ]
     },
     "metadata": {},
     "output_type": "display_data"
    },
    {
     "data": {
      "text/html": [
       "Find logs at: <code>./wandb/run-20250303_162852-rvy7a08h/logs</code>"
      ],
      "text/plain": [
       "<IPython.core.display.HTML object>"
      ]
     },
     "metadata": {},
     "output_type": "display_data"
    },
    {
     "name": "stderr",
     "output_type": "stream",
     "text": [
      "\u001b[34m\u001b[1mwandb\u001b[0m: Agent Starting Run: wfdw51sg with config:\n",
      "\u001b[34m\u001b[1mwandb\u001b[0m: \tbatch_size: 64\n",
      "\u001b[34m\u001b[1mwandb\u001b[0m: \tdropout: 0.4499568223919632\n",
      "\u001b[34m\u001b[1mwandb\u001b[0m: \tembed_dim: 100\n",
      "\u001b[34m\u001b[1mwandb\u001b[0m: \tepochs: 5\n",
      "\u001b[34m\u001b[1mwandb\u001b[0m: \thidden_dim: 64\n",
      "\u001b[34m\u001b[1mwandb\u001b[0m: \tkernel_size: 3\n",
      "\u001b[34m\u001b[1mwandb\u001b[0m: \tlearning_rate: 0.00046893453624174\n",
      "\u001b[34m\u001b[1mwandb\u001b[0m: \tnum_filters: 256\n"
     ]
    },
    {
     "data": {
      "text/html": [
       "creating run (0.9s)"
      ],
      "text/plain": [
       "<IPython.core.display.HTML object>"
      ]
     },
     "metadata": {},
     "output_type": "display_data"
    },
    {
     "data": {
      "text/html": [
       "Tracking run with wandb version 0.19.7"
      ],
      "text/plain": [
       "<IPython.core.display.HTML object>"
      ]
     },
     "metadata": {},
     "output_type": "display_data"
    },
    {
     "data": {
      "text/html": [
       "Run data is saved locally in <code>/home/daniele/Desktop/Projects/toxic_comment_clf/notebooks/wandb/run-20250303_163104-wfdw51sg</code>"
      ],
      "text/plain": [
       "<IPython.core.display.HTML object>"
      ]
     },
     "metadata": {},
     "output_type": "display_data"
    },
    {
     "data": {
      "text/html": [
       "Syncing run <strong><a href='https://wandb.ai/daniele-didino/toxic_comment_clf/runs/wfdw51sg' target=\"_blank\">olive-sweep-8</a></strong> to <a href='https://wandb.ai/daniele-didino/toxic_comment_clf' target=\"_blank\">Weights & Biases</a> (<a href='https://wandb.me/developer-guide' target=\"_blank\">docs</a>)<br>Sweep page: <a href='https://wandb.ai/daniele-didino/toxic_comment_clf/sweeps/wdc1dzb1' target=\"_blank\">https://wandb.ai/daniele-didino/toxic_comment_clf/sweeps/wdc1dzb1</a>"
      ],
      "text/plain": [
       "<IPython.core.display.HTML object>"
      ]
     },
     "metadata": {},
     "output_type": "display_data"
    },
    {
     "data": {
      "text/html": [
       " View project at <a href='https://wandb.ai/daniele-didino/toxic_comment_clf' target=\"_blank\">https://wandb.ai/daniele-didino/toxic_comment_clf</a>"
      ],
      "text/plain": [
       "<IPython.core.display.HTML object>"
      ]
     },
     "metadata": {},
     "output_type": "display_data"
    },
    {
     "data": {
      "text/html": [
       " View sweep at <a href='https://wandb.ai/daniele-didino/toxic_comment_clf/sweeps/wdc1dzb1' target=\"_blank\">https://wandb.ai/daniele-didino/toxic_comment_clf/sweeps/wdc1dzb1</a>"
      ],
      "text/plain": [
       "<IPython.core.display.HTML object>"
      ]
     },
     "metadata": {},
     "output_type": "display_data"
    },
    {
     "data": {
      "text/html": [
       " View run at <a href='https://wandb.ai/daniele-didino/toxic_comment_clf/runs/wfdw51sg' target=\"_blank\">https://wandb.ai/daniele-didino/toxic_comment_clf/runs/wfdw51sg</a>"
      ],
      "text/plain": [
       "<IPython.core.display.HTML object>"
      ]
     },
     "metadata": {},
     "output_type": "display_data"
    },
    {
     "name": "stdout",
     "output_type": "stream",
     "text": [
      "Epoch 1/5\n",
      "Train Loss: 0.0857 | AUC_ROC: 0.9007\n",
      "Val Loss: 0.0527 | AUC_ROC: 0.9751\n",
      "Epoch 2/5\n",
      "Train Loss: 0.0491 | AUC_ROC: 0.9702\n",
      "Val Loss: 0.0494 | AUC_ROC: 0.9772\n",
      "Epoch 3/5\n",
      "Train Loss: 0.0422 | AUC_ROC: 0.9786\n",
      "Val Loss: 0.0500 | AUC_ROC: 0.9773\n",
      "Epoch 4/5\n",
      "Train Loss: 0.0362 | AUC_ROC: 0.9832\n",
      "Val Loss: 0.0528 | AUC_ROC: 0.9780\n",
      "Epoch 5/5\n",
      "Train Loss: 0.0316 | AUC_ROC: 0.9866\n",
      "Val Loss: 0.0573 | AUC_ROC: 0.9774\n"
     ]
    },
    {
     "data": {
      "text/html": [],
      "text/plain": [
       "<IPython.core.display.HTML object>"
      ]
     },
     "metadata": {},
     "output_type": "display_data"
    },
    {
     "data": {
      "text/html": [
       "<br>    <style><br>        .wandb-row {<br>            display: flex;<br>            flex-direction: row;<br>            flex-wrap: wrap;<br>            justify-content: flex-start;<br>            width: 100%;<br>        }<br>        .wandb-col {<br>            display: flex;<br>            flex-direction: column;<br>            flex-basis: 100%;<br>            flex: 1;<br>            padding: 10px;<br>        }<br>    </style><br><div class=\"wandb-row\"><div class=\"wandb-col\"><h3>Run history:</h3><br/><table class=\"wandb\"><tr><td>epoch</td><td>▁▃▅▆█</td></tr><tr><td>train_loss</td><td>█▃▂▂▁</td></tr><tr><td>train_roc_auc</td><td>▁▇▇██</td></tr><tr><td>val_loss</td><td>▄▁▁▄█</td></tr><tr><td>val_roc_auc</td><td>▁▆▆█▇</td></tr></table><br/></div><div class=\"wandb-col\"><h3>Run summary:</h3><br/><table class=\"wandb\"><tr><td>epoch</td><td>5</td></tr><tr><td>train_loss</td><td>0.03163</td></tr><tr><td>train_roc_auc</td><td>0.98661</td></tr><tr><td>val_loss</td><td>0.05731</td></tr><tr><td>val_roc_auc</td><td>0.97743</td></tr></table><br/></div></div>"
      ],
      "text/plain": [
       "<IPython.core.display.HTML object>"
      ]
     },
     "metadata": {},
     "output_type": "display_data"
    },
    {
     "data": {
      "text/html": [
       " View run <strong style=\"color:#cdcd00\">olive-sweep-8</strong> at: <a href='https://wandb.ai/daniele-didino/toxic_comment_clf/runs/wfdw51sg' target=\"_blank\">https://wandb.ai/daniele-didino/toxic_comment_clf/runs/wfdw51sg</a><br> View project at: <a href='https://wandb.ai/daniele-didino/toxic_comment_clf' target=\"_blank\">https://wandb.ai/daniele-didino/toxic_comment_clf</a><br>Synced 5 W&B file(s), 0 media file(s), 0 artifact file(s) and 0 other file(s)"
      ],
      "text/plain": [
       "<IPython.core.display.HTML object>"
      ]
     },
     "metadata": {},
     "output_type": "display_data"
    },
    {
     "data": {
      "text/html": [
       "Find logs at: <code>./wandb/run-20250303_163104-wfdw51sg/logs</code>"
      ],
      "text/plain": [
       "<IPython.core.display.HTML object>"
      ]
     },
     "metadata": {},
     "output_type": "display_data"
    },
    {
     "name": "stderr",
     "output_type": "stream",
     "text": [
      "\u001b[34m\u001b[1mwandb\u001b[0m: Agent Starting Run: dd58aih1 with config:\n",
      "\u001b[34m\u001b[1mwandb\u001b[0m: \tbatch_size: 64\n",
      "\u001b[34m\u001b[1mwandb\u001b[0m: \tdropout: 0.4493794111087579\n",
      "\u001b[34m\u001b[1mwandb\u001b[0m: \tembed_dim: 100\n",
      "\u001b[34m\u001b[1mwandb\u001b[0m: \tepochs: 5\n",
      "\u001b[34m\u001b[1mwandb\u001b[0m: \thidden_dim: 128\n",
      "\u001b[34m\u001b[1mwandb\u001b[0m: \tkernel_size: 4\n",
      "\u001b[34m\u001b[1mwandb\u001b[0m: \tlearning_rate: 0.0001054477709649774\n",
      "\u001b[34m\u001b[1mwandb\u001b[0m: \tnum_filters: 256\n"
     ]
    },
    {
     "data": {
      "text/html": [
       "Tracking run with wandb version 0.19.7"
      ],
      "text/plain": [
       "<IPython.core.display.HTML object>"
      ]
     },
     "metadata": {},
     "output_type": "display_data"
    },
    {
     "data": {
      "text/html": [
       "Run data is saved locally in <code>/home/daniele/Desktop/Projects/toxic_comment_clf/notebooks/wandb/run-20250303_163217-dd58aih1</code>"
      ],
      "text/plain": [
       "<IPython.core.display.HTML object>"
      ]
     },
     "metadata": {},
     "output_type": "display_data"
    },
    {
     "data": {
      "text/html": [
       "Syncing run <strong><a href='https://wandb.ai/daniele-didino/toxic_comment_clf/runs/dd58aih1' target=\"_blank\">glorious-sweep-9</a></strong> to <a href='https://wandb.ai/daniele-didino/toxic_comment_clf' target=\"_blank\">Weights & Biases</a> (<a href='https://wandb.me/developer-guide' target=\"_blank\">docs</a>)<br>Sweep page: <a href='https://wandb.ai/daniele-didino/toxic_comment_clf/sweeps/wdc1dzb1' target=\"_blank\">https://wandb.ai/daniele-didino/toxic_comment_clf/sweeps/wdc1dzb1</a>"
      ],
      "text/plain": [
       "<IPython.core.display.HTML object>"
      ]
     },
     "metadata": {},
     "output_type": "display_data"
    },
    {
     "data": {
      "text/html": [
       " View project at <a href='https://wandb.ai/daniele-didino/toxic_comment_clf' target=\"_blank\">https://wandb.ai/daniele-didino/toxic_comment_clf</a>"
      ],
      "text/plain": [
       "<IPython.core.display.HTML object>"
      ]
     },
     "metadata": {},
     "output_type": "display_data"
    },
    {
     "data": {
      "text/html": [
       " View sweep at <a href='https://wandb.ai/daniele-didino/toxic_comment_clf/sweeps/wdc1dzb1' target=\"_blank\">https://wandb.ai/daniele-didino/toxic_comment_clf/sweeps/wdc1dzb1</a>"
      ],
      "text/plain": [
       "<IPython.core.display.HTML object>"
      ]
     },
     "metadata": {},
     "output_type": "display_data"
    },
    {
     "data": {
      "text/html": [
       " View run at <a href='https://wandb.ai/daniele-didino/toxic_comment_clf/runs/dd58aih1' target=\"_blank\">https://wandb.ai/daniele-didino/toxic_comment_clf/runs/dd58aih1</a>"
      ],
      "text/plain": [
       "<IPython.core.display.HTML object>"
      ]
     },
     "metadata": {},
     "output_type": "display_data"
    },
    {
     "name": "stdout",
     "output_type": "stream",
     "text": [
      "Epoch 1/5\n",
      "Train Loss: 0.1196 | AUC_ROC: 0.8102\n",
      "Val Loss: 0.0649 | AUC_ROC: 0.9651\n",
      "Epoch 2/5\n",
      "Train Loss: 0.0581 | AUC_ROC: 0.9604\n",
      "Val Loss: 0.0552 | AUC_ROC: 0.9723\n",
      "Epoch 3/5\n",
      "Train Loss: 0.0516 | AUC_ROC: 0.9691\n",
      "Val Loss: 0.0556 | AUC_ROC: 0.9740\n",
      "Epoch 4/5\n",
      "Train Loss: 0.0478 | AUC_ROC: 0.9739\n",
      "Val Loss: 0.0516 | AUC_ROC: 0.9759\n",
      "Epoch 5/5\n",
      "Train Loss: 0.0443 | AUC_ROC: 0.9774\n",
      "Val Loss: 0.0515 | AUC_ROC: 0.9766\n"
     ]
    },
    {
     "data": {
      "text/html": [],
      "text/plain": [
       "<IPython.core.display.HTML object>"
      ]
     },
     "metadata": {},
     "output_type": "display_data"
    },
    {
     "data": {
      "text/html": [
       "<br>    <style><br>        .wandb-row {<br>            display: flex;<br>            flex-direction: row;<br>            flex-wrap: wrap;<br>            justify-content: flex-start;<br>            width: 100%;<br>        }<br>        .wandb-col {<br>            display: flex;<br>            flex-direction: column;<br>            flex-basis: 100%;<br>            flex: 1;<br>            padding: 10px;<br>        }<br>    </style><br><div class=\"wandb-row\"><div class=\"wandb-col\"><h3>Run history:</h3><br/><table class=\"wandb\"><tr><td>epoch</td><td>▁▃▅▆█</td></tr><tr><td>train_loss</td><td>█▂▂▁▁</td></tr><tr><td>train_roc_auc</td><td>▁▇███</td></tr><tr><td>val_loss</td><td>█▃▃▁▁</td></tr><tr><td>val_roc_auc</td><td>▁▅▆██</td></tr></table><br/></div><div class=\"wandb-col\"><h3>Run summary:</h3><br/><table class=\"wandb\"><tr><td>epoch</td><td>5</td></tr><tr><td>train_loss</td><td>0.04433</td></tr><tr><td>train_roc_auc</td><td>0.97739</td></tr><tr><td>val_loss</td><td>0.05146</td></tr><tr><td>val_roc_auc</td><td>0.97663</td></tr></table><br/></div></div>"
      ],
      "text/plain": [
       "<IPython.core.display.HTML object>"
      ]
     },
     "metadata": {},
     "output_type": "display_data"
    },
    {
     "data": {
      "text/html": [
       " View run <strong style=\"color:#cdcd00\">glorious-sweep-9</strong> at: <a href='https://wandb.ai/daniele-didino/toxic_comment_clf/runs/dd58aih1' target=\"_blank\">https://wandb.ai/daniele-didino/toxic_comment_clf/runs/dd58aih1</a><br> View project at: <a href='https://wandb.ai/daniele-didino/toxic_comment_clf' target=\"_blank\">https://wandb.ai/daniele-didino/toxic_comment_clf</a><br>Synced 5 W&B file(s), 0 media file(s), 0 artifact file(s) and 0 other file(s)"
      ],
      "text/plain": [
       "<IPython.core.display.HTML object>"
      ]
     },
     "metadata": {},
     "output_type": "display_data"
    },
    {
     "data": {
      "text/html": [
       "Find logs at: <code>./wandb/run-20250303_163217-dd58aih1/logs</code>"
      ],
      "text/plain": [
       "<IPython.core.display.HTML object>"
      ]
     },
     "metadata": {},
     "output_type": "display_data"
    },
    {
     "name": "stderr",
     "output_type": "stream",
     "text": [
      "\u001b[34m\u001b[1mwandb\u001b[0m: Agent Starting Run: n8fy7xy0 with config:\n",
      "\u001b[34m\u001b[1mwandb\u001b[0m: \tbatch_size: 64\n",
      "\u001b[34m\u001b[1mwandb\u001b[0m: \tdropout: 0.43062370912890424\n",
      "\u001b[34m\u001b[1mwandb\u001b[0m: \tembed_dim: 100\n",
      "\u001b[34m\u001b[1mwandb\u001b[0m: \tepochs: 5\n",
      "\u001b[34m\u001b[1mwandb\u001b[0m: \thidden_dim: 64\n",
      "\u001b[34m\u001b[1mwandb\u001b[0m: \tkernel_size: 4\n",
      "\u001b[34m\u001b[1mwandb\u001b[0m: \tlearning_rate: 0.0006548267874973512\n",
      "\u001b[34m\u001b[1mwandb\u001b[0m: \tnum_filters: 256\n"
     ]
    },
    {
     "data": {
      "text/html": [
       "creating run (1.4s)"
      ],
      "text/plain": [
       "<IPython.core.display.HTML object>"
      ]
     },
     "metadata": {},
     "output_type": "display_data"
    },
    {
     "data": {
      "text/html": [
       "Tracking run with wandb version 0.19.7"
      ],
      "text/plain": [
       "<IPython.core.display.HTML object>"
      ]
     },
     "metadata": {},
     "output_type": "display_data"
    },
    {
     "data": {
      "text/html": [
       "Run data is saved locally in <code>/home/daniele/Desktop/Projects/toxic_comment_clf/notebooks/wandb/run-20250303_163337-n8fy7xy0</code>"
      ],
      "text/plain": [
       "<IPython.core.display.HTML object>"
      ]
     },
     "metadata": {},
     "output_type": "display_data"
    },
    {
     "data": {
      "text/html": [
       "Syncing run <strong><a href='https://wandb.ai/daniele-didino/toxic_comment_clf/runs/n8fy7xy0' target=\"_blank\">fancy-sweep-10</a></strong> to <a href='https://wandb.ai/daniele-didino/toxic_comment_clf' target=\"_blank\">Weights & Biases</a> (<a href='https://wandb.me/developer-guide' target=\"_blank\">docs</a>)<br>Sweep page: <a href='https://wandb.ai/daniele-didino/toxic_comment_clf/sweeps/wdc1dzb1' target=\"_blank\">https://wandb.ai/daniele-didino/toxic_comment_clf/sweeps/wdc1dzb1</a>"
      ],
      "text/plain": [
       "<IPython.core.display.HTML object>"
      ]
     },
     "metadata": {},
     "output_type": "display_data"
    },
    {
     "data": {
      "text/html": [
       " View project at <a href='https://wandb.ai/daniele-didino/toxic_comment_clf' target=\"_blank\">https://wandb.ai/daniele-didino/toxic_comment_clf</a>"
      ],
      "text/plain": [
       "<IPython.core.display.HTML object>"
      ]
     },
     "metadata": {},
     "output_type": "display_data"
    },
    {
     "data": {
      "text/html": [
       " View sweep at <a href='https://wandb.ai/daniele-didino/toxic_comment_clf/sweeps/wdc1dzb1' target=\"_blank\">https://wandb.ai/daniele-didino/toxic_comment_clf/sweeps/wdc1dzb1</a>"
      ],
      "text/plain": [
       "<IPython.core.display.HTML object>"
      ]
     },
     "metadata": {},
     "output_type": "display_data"
    },
    {
     "data": {
      "text/html": [
       " View run at <a href='https://wandb.ai/daniele-didino/toxic_comment_clf/runs/n8fy7xy0' target=\"_blank\">https://wandb.ai/daniele-didino/toxic_comment_clf/runs/n8fy7xy0</a>"
      ],
      "text/plain": [
       "<IPython.core.display.HTML object>"
      ]
     },
     "metadata": {},
     "output_type": "display_data"
    },
    {
     "name": "stdout",
     "output_type": "stream",
     "text": [
      "Epoch 1/5\n",
      "Train Loss: 0.0812 | AUC_ROC: 0.9138\n",
      "Val Loss: 0.0529 | AUC_ROC: 0.9749\n",
      "Epoch 2/5\n",
      "Train Loss: 0.0482 | AUC_ROC: 0.9721\n",
      "Val Loss: 0.0497 | AUC_ROC: 0.9772\n",
      "Epoch 3/5\n",
      "Train Loss: 0.0402 | AUC_ROC: 0.9798\n",
      "Val Loss: 0.0518 | AUC_ROC: 0.9758\n",
      "Epoch 4/5\n",
      "Train Loss: 0.0341 | AUC_ROC: 0.9844\n",
      "Val Loss: 0.0538 | AUC_ROC: 0.9755\n",
      "Epoch 5/5\n",
      "Train Loss: 0.0296 | AUC_ROC: 0.9879\n",
      "Val Loss: 0.0576 | AUC_ROC: 0.9747\n"
     ]
    },
    {
     "data": {
      "text/html": [],
      "text/plain": [
       "<IPython.core.display.HTML object>"
      ]
     },
     "metadata": {},
     "output_type": "display_data"
    },
    {
     "data": {
      "text/html": [
       "<br>    <style><br>        .wandb-row {<br>            display: flex;<br>            flex-direction: row;<br>            flex-wrap: wrap;<br>            justify-content: flex-start;<br>            width: 100%;<br>        }<br>        .wandb-col {<br>            display: flex;<br>            flex-direction: column;<br>            flex-basis: 100%;<br>            flex: 1;<br>            padding: 10px;<br>        }<br>    </style><br><div class=\"wandb-row\"><div class=\"wandb-col\"><h3>Run history:</h3><br/><table class=\"wandb\"><tr><td>epoch</td><td>▁▃▅▆█</td></tr><tr><td>train_loss</td><td>█▄▂▂▁</td></tr><tr><td>train_roc_auc</td><td>▁▇▇██</td></tr><tr><td>val_loss</td><td>▄▁▃▅█</td></tr><tr><td>val_roc_auc</td><td>▂█▄▃▁</td></tr></table><br/></div><div class=\"wandb-col\"><h3>Run summary:</h3><br/><table class=\"wandb\"><tr><td>epoch</td><td>5</td></tr><tr><td>train_loss</td><td>0.02961</td></tr><tr><td>train_roc_auc</td><td>0.98788</td></tr><tr><td>val_loss</td><td>0.05764</td></tr><tr><td>val_roc_auc</td><td>0.97471</td></tr></table><br/></div></div>"
      ],
      "text/plain": [
       "<IPython.core.display.HTML object>"
      ]
     },
     "metadata": {},
     "output_type": "display_data"
    },
    {
     "data": {
      "text/html": [
       " View run <strong style=\"color:#cdcd00\">fancy-sweep-10</strong> at: <a href='https://wandb.ai/daniele-didino/toxic_comment_clf/runs/n8fy7xy0' target=\"_blank\">https://wandb.ai/daniele-didino/toxic_comment_clf/runs/n8fy7xy0</a><br> View project at: <a href='https://wandb.ai/daniele-didino/toxic_comment_clf' target=\"_blank\">https://wandb.ai/daniele-didino/toxic_comment_clf</a><br>Synced 5 W&B file(s), 0 media file(s), 0 artifact file(s) and 0 other file(s)"
      ],
      "text/plain": [
       "<IPython.core.display.HTML object>"
      ]
     },
     "metadata": {},
     "output_type": "display_data"
    },
    {
     "data": {
      "text/html": [
       "Find logs at: <code>./wandb/run-20250303_163337-n8fy7xy0/logs</code>"
      ],
      "text/plain": [
       "<IPython.core.display.HTML object>"
      ]
     },
     "metadata": {},
     "output_type": "display_data"
    },
    {
     "name": "stderr",
     "output_type": "stream",
     "text": [
      "\u001b[34m\u001b[1mwandb\u001b[0m: Agent Starting Run: jougogde with config:\n",
      "\u001b[34m\u001b[1mwandb\u001b[0m: \tbatch_size: 64\n",
      "\u001b[34m\u001b[1mwandb\u001b[0m: \tdropout: 0.46321514172843686\n",
      "\u001b[34m\u001b[1mwandb\u001b[0m: \tembed_dim: 100\n",
      "\u001b[34m\u001b[1mwandb\u001b[0m: \tepochs: 5\n",
      "\u001b[34m\u001b[1mwandb\u001b[0m: \thidden_dim: 64\n",
      "\u001b[34m\u001b[1mwandb\u001b[0m: \tkernel_size: 2\n",
      "\u001b[34m\u001b[1mwandb\u001b[0m: \tlearning_rate: 0.00011371364027140131\n",
      "\u001b[34m\u001b[1mwandb\u001b[0m: \tnum_filters: 128\n"
     ]
    },
    {
     "data": {
      "text/html": [
       "Tracking run with wandb version 0.19.7"
      ],
      "text/plain": [
       "<IPython.core.display.HTML object>"
      ]
     },
     "metadata": {},
     "output_type": "display_data"
    },
    {
     "data": {
      "text/html": [
       "Run data is saved locally in <code>/home/daniele/Desktop/Projects/toxic_comment_clf/notebooks/wandb/run-20250303_163453-jougogde</code>"
      ],
      "text/plain": [
       "<IPython.core.display.HTML object>"
      ]
     },
     "metadata": {},
     "output_type": "display_data"
    },
    {
     "data": {
      "text/html": [
       "Syncing run <strong><a href='https://wandb.ai/daniele-didino/toxic_comment_clf/runs/jougogde' target=\"_blank\">fluent-sweep-11</a></strong> to <a href='https://wandb.ai/daniele-didino/toxic_comment_clf' target=\"_blank\">Weights & Biases</a> (<a href='https://wandb.me/developer-guide' target=\"_blank\">docs</a>)<br>Sweep page: <a href='https://wandb.ai/daniele-didino/toxic_comment_clf/sweeps/wdc1dzb1' target=\"_blank\">https://wandb.ai/daniele-didino/toxic_comment_clf/sweeps/wdc1dzb1</a>"
      ],
      "text/plain": [
       "<IPython.core.display.HTML object>"
      ]
     },
     "metadata": {},
     "output_type": "display_data"
    },
    {
     "data": {
      "text/html": [
       " View project at <a href='https://wandb.ai/daniele-didino/toxic_comment_clf' target=\"_blank\">https://wandb.ai/daniele-didino/toxic_comment_clf</a>"
      ],
      "text/plain": [
       "<IPython.core.display.HTML object>"
      ]
     },
     "metadata": {},
     "output_type": "display_data"
    },
    {
     "data": {
      "text/html": [
       " View sweep at <a href='https://wandb.ai/daniele-didino/toxic_comment_clf/sweeps/wdc1dzb1' target=\"_blank\">https://wandb.ai/daniele-didino/toxic_comment_clf/sweeps/wdc1dzb1</a>"
      ],
      "text/plain": [
       "<IPython.core.display.HTML object>"
      ]
     },
     "metadata": {},
     "output_type": "display_data"
    },
    {
     "data": {
      "text/html": [
       " View run at <a href='https://wandb.ai/daniele-didino/toxic_comment_clf/runs/jougogde' target=\"_blank\">https://wandb.ai/daniele-didino/toxic_comment_clf/runs/jougogde</a>"
      ],
      "text/plain": [
       "<IPython.core.display.HTML object>"
      ]
     },
     "metadata": {},
     "output_type": "display_data"
    },
    {
     "name": "stdout",
     "output_type": "stream",
     "text": [
      "Epoch 1/5\n",
      "Train Loss: 0.1569 | AUC_ROC: 0.6674\n",
      "Val Loss: 0.0722 | AUC_ROC: 0.9589\n",
      "Epoch 2/5\n",
      "Train Loss: 0.0636 | AUC_ROC: 0.9508\n",
      "Val Loss: 0.0579 | AUC_ROC: 0.9701\n",
      "Epoch 3/5\n",
      "Train Loss: 0.0550 | AUC_ROC: 0.9629\n",
      "Val Loss: 0.0537 | AUC_ROC: 0.9727\n",
      "Epoch 4/5\n",
      "Train Loss: 0.0509 | AUC_ROC: 0.9694\n",
      "Val Loss: 0.0520 | AUC_ROC: 0.9743\n",
      "Epoch 5/5\n",
      "Train Loss: 0.0482 | AUC_ROC: 0.9725\n",
      "Val Loss: 0.0515 | AUC_ROC: 0.9753\n"
     ]
    },
    {
     "data": {
      "text/html": [],
      "text/plain": [
       "<IPython.core.display.HTML object>"
      ]
     },
     "metadata": {},
     "output_type": "display_data"
    },
    {
     "data": {
      "text/html": [
       "<br>    <style><br>        .wandb-row {<br>            display: flex;<br>            flex-direction: row;<br>            flex-wrap: wrap;<br>            justify-content: flex-start;<br>            width: 100%;<br>        }<br>        .wandb-col {<br>            display: flex;<br>            flex-direction: column;<br>            flex-basis: 100%;<br>            flex: 1;<br>            padding: 10px;<br>        }<br>    </style><br><div class=\"wandb-row\"><div class=\"wandb-col\"><h3>Run history:</h3><br/><table class=\"wandb\"><tr><td>epoch</td><td>▁▃▅▆█</td></tr><tr><td>train_loss</td><td>█▂▁▁▁</td></tr><tr><td>train_roc_auc</td><td>▁████</td></tr><tr><td>val_loss</td><td>█▃▂▁▁</td></tr><tr><td>val_roc_auc</td><td>▁▆▇██</td></tr></table><br/></div><div class=\"wandb-col\"><h3>Run summary:</h3><br/><table class=\"wandb\"><tr><td>epoch</td><td>5</td></tr><tr><td>train_loss</td><td>0.04819</td></tr><tr><td>train_roc_auc</td><td>0.97252</td></tr><tr><td>val_loss</td><td>0.05148</td></tr><tr><td>val_roc_auc</td><td>0.97531</td></tr></table><br/></div></div>"
      ],
      "text/plain": [
       "<IPython.core.display.HTML object>"
      ]
     },
     "metadata": {},
     "output_type": "display_data"
    },
    {
     "data": {
      "text/html": [
       " View run <strong style=\"color:#cdcd00\">fluent-sweep-11</strong> at: <a href='https://wandb.ai/daniele-didino/toxic_comment_clf/runs/jougogde' target=\"_blank\">https://wandb.ai/daniele-didino/toxic_comment_clf/runs/jougogde</a><br> View project at: <a href='https://wandb.ai/daniele-didino/toxic_comment_clf' target=\"_blank\">https://wandb.ai/daniele-didino/toxic_comment_clf</a><br>Synced 5 W&B file(s), 0 media file(s), 0 artifact file(s) and 0 other file(s)"
      ],
      "text/plain": [
       "<IPython.core.display.HTML object>"
      ]
     },
     "metadata": {},
     "output_type": "display_data"
    },
    {
     "data": {
      "text/html": [
       "Find logs at: <code>./wandb/run-20250303_163453-jougogde/logs</code>"
      ],
      "text/plain": [
       "<IPython.core.display.HTML object>"
      ]
     },
     "metadata": {},
     "output_type": "display_data"
    },
    {
     "name": "stderr",
     "output_type": "stream",
     "text": [
      "\u001b[34m\u001b[1mwandb\u001b[0m: Agent Starting Run: 5diwf70v with config:\n",
      "\u001b[34m\u001b[1mwandb\u001b[0m: \tbatch_size: 32\n",
      "\u001b[34m\u001b[1mwandb\u001b[0m: \tdropout: 0.4953053987426373\n",
      "\u001b[34m\u001b[1mwandb\u001b[0m: \tembed_dim: 100\n",
      "\u001b[34m\u001b[1mwandb\u001b[0m: \tepochs: 5\n",
      "\u001b[34m\u001b[1mwandb\u001b[0m: \thidden_dim: 128\n",
      "\u001b[34m\u001b[1mwandb\u001b[0m: \tkernel_size: 4\n",
      "\u001b[34m\u001b[1mwandb\u001b[0m: \tlearning_rate: 0.00010563177809877102\n",
      "\u001b[34m\u001b[1mwandb\u001b[0m: \tnum_filters: 256\n"
     ]
    },
    {
     "data": {
      "text/html": [
       "creating run (1.4s)"
      ],
      "text/plain": [
       "<IPython.core.display.HTML object>"
      ]
     },
     "metadata": {},
     "output_type": "display_data"
    },
    {
     "data": {
      "text/html": [
       "Tracking run with wandb version 0.19.7"
      ],
      "text/plain": [
       "<IPython.core.display.HTML object>"
      ]
     },
     "metadata": {},
     "output_type": "display_data"
    },
    {
     "data": {
      "text/html": [
       "Run data is saved locally in <code>/home/daniele/Desktop/Projects/toxic_comment_clf/notebooks/wandb/run-20250303_163600-5diwf70v</code>"
      ],
      "text/plain": [
       "<IPython.core.display.HTML object>"
      ]
     },
     "metadata": {},
     "output_type": "display_data"
    },
    {
     "data": {
      "text/html": [
       "Syncing run <strong><a href='https://wandb.ai/daniele-didino/toxic_comment_clf/runs/5diwf70v' target=\"_blank\">vivid-sweep-12</a></strong> to <a href='https://wandb.ai/daniele-didino/toxic_comment_clf' target=\"_blank\">Weights & Biases</a> (<a href='https://wandb.me/developer-guide' target=\"_blank\">docs</a>)<br>Sweep page: <a href='https://wandb.ai/daniele-didino/toxic_comment_clf/sweeps/wdc1dzb1' target=\"_blank\">https://wandb.ai/daniele-didino/toxic_comment_clf/sweeps/wdc1dzb1</a>"
      ],
      "text/plain": [
       "<IPython.core.display.HTML object>"
      ]
     },
     "metadata": {},
     "output_type": "display_data"
    },
    {
     "data": {
      "text/html": [
       " View project at <a href='https://wandb.ai/daniele-didino/toxic_comment_clf' target=\"_blank\">https://wandb.ai/daniele-didino/toxic_comment_clf</a>"
      ],
      "text/plain": [
       "<IPython.core.display.HTML object>"
      ]
     },
     "metadata": {},
     "output_type": "display_data"
    },
    {
     "data": {
      "text/html": [
       " View sweep at <a href='https://wandb.ai/daniele-didino/toxic_comment_clf/sweeps/wdc1dzb1' target=\"_blank\">https://wandb.ai/daniele-didino/toxic_comment_clf/sweeps/wdc1dzb1</a>"
      ],
      "text/plain": [
       "<IPython.core.display.HTML object>"
      ]
     },
     "metadata": {},
     "output_type": "display_data"
    },
    {
     "data": {
      "text/html": [
       " View run at <a href='https://wandb.ai/daniele-didino/toxic_comment_clf/runs/5diwf70v' target=\"_blank\">https://wandb.ai/daniele-didino/toxic_comment_clf/runs/5diwf70v</a>"
      ],
      "text/plain": [
       "<IPython.core.display.HTML object>"
      ]
     },
     "metadata": {},
     "output_type": "display_data"
    },
    {
     "name": "stdout",
     "output_type": "stream",
     "text": [
      "Epoch 1/5\n",
      "Train Loss: 0.0981 | AUC_ROC: 0.8758\n",
      "Val Loss: 0.0585 | AUC_ROC: 0.9694\n",
      "Epoch 2/5\n",
      "Train Loss: 0.0545 | AUC_ROC: 0.9660\n",
      "Val Loss: 0.0591 | AUC_ROC: 0.9731\n",
      "Epoch 3/5\n",
      "Train Loss: 0.0491 | AUC_ROC: 0.9717\n",
      "Val Loss: 0.0511 | AUC_ROC: 0.9755\n",
      "Epoch 4/5\n",
      "Train Loss: 0.0454 | AUC_ROC: 0.9750\n",
      "Val Loss: 0.0505 | AUC_ROC: 0.9757\n",
      "Epoch 5/5\n",
      "Train Loss: 0.0422 | AUC_ROC: 0.9784\n",
      "Val Loss: 0.0505 | AUC_ROC: 0.9765\n"
     ]
    },
    {
     "data": {
      "text/html": [],
      "text/plain": [
       "<IPython.core.display.HTML object>"
      ]
     },
     "metadata": {},
     "output_type": "display_data"
    },
    {
     "data": {
      "text/html": [
       "<br>    <style><br>        .wandb-row {<br>            display: flex;<br>            flex-direction: row;<br>            flex-wrap: wrap;<br>            justify-content: flex-start;<br>            width: 100%;<br>        }<br>        .wandb-col {<br>            display: flex;<br>            flex-direction: column;<br>            flex-basis: 100%;<br>            flex: 1;<br>            padding: 10px;<br>        }<br>    </style><br><div class=\"wandb-row\"><div class=\"wandb-col\"><h3>Run history:</h3><br/><table class=\"wandb\"><tr><td>epoch</td><td>▁▃▅▆█</td></tr><tr><td>train_loss</td><td>█▃▂▁▁</td></tr><tr><td>train_roc_auc</td><td>▁▇███</td></tr><tr><td>val_loss</td><td>▇█▁▁▁</td></tr><tr><td>val_roc_auc</td><td>▁▅▇▇█</td></tr></table><br/></div><div class=\"wandb-col\"><h3>Run summary:</h3><br/><table class=\"wandb\"><tr><td>epoch</td><td>5</td></tr><tr><td>train_loss</td><td>0.04218</td></tr><tr><td>train_roc_auc</td><td>0.97837</td></tr><tr><td>val_loss</td><td>0.05052</td></tr><tr><td>val_roc_auc</td><td>0.97652</td></tr></table><br/></div></div>"
      ],
      "text/plain": [
       "<IPython.core.display.HTML object>"
      ]
     },
     "metadata": {},
     "output_type": "display_data"
    },
    {
     "data": {
      "text/html": [
       " View run <strong style=\"color:#cdcd00\">vivid-sweep-12</strong> at: <a href='https://wandb.ai/daniele-didino/toxic_comment_clf/runs/5diwf70v' target=\"_blank\">https://wandb.ai/daniele-didino/toxic_comment_clf/runs/5diwf70v</a><br> View project at: <a href='https://wandb.ai/daniele-didino/toxic_comment_clf' target=\"_blank\">https://wandb.ai/daniele-didino/toxic_comment_clf</a><br>Synced 5 W&B file(s), 0 media file(s), 0 artifact file(s) and 0 other file(s)"
      ],
      "text/plain": [
       "<IPython.core.display.HTML object>"
      ]
     },
     "metadata": {},
     "output_type": "display_data"
    },
    {
     "data": {
      "text/html": [
       "Find logs at: <code>./wandb/run-20250303_163600-5diwf70v/logs</code>"
      ],
      "text/plain": [
       "<IPython.core.display.HTML object>"
      ]
     },
     "metadata": {},
     "output_type": "display_data"
    },
    {
     "name": "stderr",
     "output_type": "stream",
     "text": [
      "\u001b[34m\u001b[1mwandb\u001b[0m: Agent Starting Run: chuxdggh with config:\n",
      "\u001b[34m\u001b[1mwandb\u001b[0m: \tbatch_size: 32\n",
      "\u001b[34m\u001b[1mwandb\u001b[0m: \tdropout: 0.45684281479646466\n",
      "\u001b[34m\u001b[1mwandb\u001b[0m: \tembed_dim: 100\n",
      "\u001b[34m\u001b[1mwandb\u001b[0m: \tepochs: 5\n",
      "\u001b[34m\u001b[1mwandb\u001b[0m: \thidden_dim: 64\n",
      "\u001b[34m\u001b[1mwandb\u001b[0m: \tkernel_size: 4\n",
      "\u001b[34m\u001b[1mwandb\u001b[0m: \tlearning_rate: 0.00013266295892079753\n",
      "\u001b[34m\u001b[1mwandb\u001b[0m: \tnum_filters: 256\n"
     ]
    },
    {
     "data": {
      "text/html": [
       "Tracking run with wandb version 0.19.7"
      ],
      "text/plain": [
       "<IPython.core.display.HTML object>"
      ]
     },
     "metadata": {},
     "output_type": "display_data"
    },
    {
     "data": {
      "text/html": [
       "Run data is saved locally in <code>/home/daniele/Desktop/Projects/toxic_comment_clf/notebooks/wandb/run-20250303_163817-chuxdggh</code>"
      ],
      "text/plain": [
       "<IPython.core.display.HTML object>"
      ]
     },
     "metadata": {},
     "output_type": "display_data"
    },
    {
     "data": {
      "text/html": [
       "Syncing run <strong><a href='https://wandb.ai/daniele-didino/toxic_comment_clf/runs/chuxdggh' target=\"_blank\">clear-sweep-13</a></strong> to <a href='https://wandb.ai/daniele-didino/toxic_comment_clf' target=\"_blank\">Weights & Biases</a> (<a href='https://wandb.me/developer-guide' target=\"_blank\">docs</a>)<br>Sweep page: <a href='https://wandb.ai/daniele-didino/toxic_comment_clf/sweeps/wdc1dzb1' target=\"_blank\">https://wandb.ai/daniele-didino/toxic_comment_clf/sweeps/wdc1dzb1</a>"
      ],
      "text/plain": [
       "<IPython.core.display.HTML object>"
      ]
     },
     "metadata": {},
     "output_type": "display_data"
    },
    {
     "data": {
      "text/html": [
       " View project at <a href='https://wandb.ai/daniele-didino/toxic_comment_clf' target=\"_blank\">https://wandb.ai/daniele-didino/toxic_comment_clf</a>"
      ],
      "text/plain": [
       "<IPython.core.display.HTML object>"
      ]
     },
     "metadata": {},
     "output_type": "display_data"
    },
    {
     "data": {
      "text/html": [
       " View sweep at <a href='https://wandb.ai/daniele-didino/toxic_comment_clf/sweeps/wdc1dzb1' target=\"_blank\">https://wandb.ai/daniele-didino/toxic_comment_clf/sweeps/wdc1dzb1</a>"
      ],
      "text/plain": [
       "<IPython.core.display.HTML object>"
      ]
     },
     "metadata": {},
     "output_type": "display_data"
    },
    {
     "data": {
      "text/html": [
       " View run at <a href='https://wandb.ai/daniele-didino/toxic_comment_clf/runs/chuxdggh' target=\"_blank\">https://wandb.ai/daniele-didino/toxic_comment_clf/runs/chuxdggh</a>"
      ],
      "text/plain": [
       "<IPython.core.display.HTML object>"
      ]
     },
     "metadata": {},
     "output_type": "display_data"
    },
    {
     "name": "stdout",
     "output_type": "stream",
     "text": [
      "Epoch 1/5\n",
      "Train Loss: 0.1006 | AUC_ROC: 0.8625\n",
      "Val Loss: 0.0571 | AUC_ROC: 0.9714\n",
      "Epoch 2/5\n",
      "Train Loss: 0.0545 | AUC_ROC: 0.9646\n",
      "Val Loss: 0.0518 | AUC_ROC: 0.9755\n",
      "Epoch 3/5\n",
      "Train Loss: 0.0483 | AUC_ROC: 0.9718\n",
      "Val Loss: 0.0508 | AUC_ROC: 0.9763\n",
      "Epoch 4/5\n",
      "Train Loss: 0.0442 | AUC_ROC: 0.9756\n",
      "Val Loss: 0.0499 | AUC_ROC: 0.9775\n",
      "Epoch 5/5\n",
      "Train Loss: 0.0403 | AUC_ROC: 0.9799\n",
      "Val Loss: 0.0516 | AUC_ROC: 0.9775\n"
     ]
    },
    {
     "data": {
      "text/html": [],
      "text/plain": [
       "<IPython.core.display.HTML object>"
      ]
     },
     "metadata": {},
     "output_type": "display_data"
    },
    {
     "data": {
      "text/html": [
       "<br>    <style><br>        .wandb-row {<br>            display: flex;<br>            flex-direction: row;<br>            flex-wrap: wrap;<br>            justify-content: flex-start;<br>            width: 100%;<br>        }<br>        .wandb-col {<br>            display: flex;<br>            flex-direction: column;<br>            flex-basis: 100%;<br>            flex: 1;<br>            padding: 10px;<br>        }<br>    </style><br><div class=\"wandb-row\"><div class=\"wandb-col\"><h3>Run history:</h3><br/><table class=\"wandb\"><tr><td>epoch</td><td>▁▃▅▆█</td></tr><tr><td>train_loss</td><td>█▃▂▁▁</td></tr><tr><td>train_roc_auc</td><td>▁▇███</td></tr><tr><td>val_loss</td><td>█▃▂▁▃</td></tr><tr><td>val_roc_auc</td><td>▁▆▇██</td></tr></table><br/></div><div class=\"wandb-col\"><h3>Run summary:</h3><br/><table class=\"wandb\"><tr><td>epoch</td><td>5</td></tr><tr><td>train_loss</td><td>0.04027</td></tr><tr><td>train_roc_auc</td><td>0.97986</td></tr><tr><td>val_loss</td><td>0.05159</td></tr><tr><td>val_roc_auc</td><td>0.97753</td></tr></table><br/></div></div>"
      ],
      "text/plain": [
       "<IPython.core.display.HTML object>"
      ]
     },
     "metadata": {},
     "output_type": "display_data"
    },
    {
     "data": {
      "text/html": [
       " View run <strong style=\"color:#cdcd00\">clear-sweep-13</strong> at: <a href='https://wandb.ai/daniele-didino/toxic_comment_clf/runs/chuxdggh' target=\"_blank\">https://wandb.ai/daniele-didino/toxic_comment_clf/runs/chuxdggh</a><br> View project at: <a href='https://wandb.ai/daniele-didino/toxic_comment_clf' target=\"_blank\">https://wandb.ai/daniele-didino/toxic_comment_clf</a><br>Synced 5 W&B file(s), 0 media file(s), 0 artifact file(s) and 0 other file(s)"
      ],
      "text/plain": [
       "<IPython.core.display.HTML object>"
      ]
     },
     "metadata": {},
     "output_type": "display_data"
    },
    {
     "data": {
      "text/html": [
       "Find logs at: <code>./wandb/run-20250303_163817-chuxdggh/logs</code>"
      ],
      "text/plain": [
       "<IPython.core.display.HTML object>"
      ]
     },
     "metadata": {},
     "output_type": "display_data"
    },
    {
     "name": "stderr",
     "output_type": "stream",
     "text": [
      "\u001b[34m\u001b[1mwandb\u001b[0m: Agent Starting Run: 0dahmpu8 with config:\n",
      "\u001b[34m\u001b[1mwandb\u001b[0m: \tbatch_size: 32\n",
      "\u001b[34m\u001b[1mwandb\u001b[0m: \tdropout: 0.4893033397512304\n",
      "\u001b[34m\u001b[1mwandb\u001b[0m: \tembed_dim: 100\n",
      "\u001b[34m\u001b[1mwandb\u001b[0m: \tepochs: 5\n",
      "\u001b[34m\u001b[1mwandb\u001b[0m: \thidden_dim: 128\n",
      "\u001b[34m\u001b[1mwandb\u001b[0m: \tkernel_size: 4\n",
      "\u001b[34m\u001b[1mwandb\u001b[0m: \tlearning_rate: 0.000183107723150314\n",
      "\u001b[34m\u001b[1mwandb\u001b[0m: \tnum_filters: 64\n"
     ]
    },
    {
     "data": {
      "text/html": [
       "Tracking run with wandb version 0.19.7"
      ],
      "text/plain": [
       "<IPython.core.display.HTML object>"
      ]
     },
     "metadata": {},
     "output_type": "display_data"
    },
    {
     "data": {
      "text/html": [
       "Run data is saved locally in <code>/home/daniele/Desktop/Projects/toxic_comment_clf/notebooks/wandb/run-20250303_164027-0dahmpu8</code>"
      ],
      "text/plain": [
       "<IPython.core.display.HTML object>"
      ]
     },
     "metadata": {},
     "output_type": "display_data"
    },
    {
     "data": {
      "text/html": [
       "Syncing run <strong><a href='https://wandb.ai/daniele-didino/toxic_comment_clf/runs/0dahmpu8' target=\"_blank\">chocolate-sweep-14</a></strong> to <a href='https://wandb.ai/daniele-didino/toxic_comment_clf' target=\"_blank\">Weights & Biases</a> (<a href='https://wandb.me/developer-guide' target=\"_blank\">docs</a>)<br>Sweep page: <a href='https://wandb.ai/daniele-didino/toxic_comment_clf/sweeps/wdc1dzb1' target=\"_blank\">https://wandb.ai/daniele-didino/toxic_comment_clf/sweeps/wdc1dzb1</a>"
      ],
      "text/plain": [
       "<IPython.core.display.HTML object>"
      ]
     },
     "metadata": {},
     "output_type": "display_data"
    },
    {
     "data": {
      "text/html": [
       " View project at <a href='https://wandb.ai/daniele-didino/toxic_comment_clf' target=\"_blank\">https://wandb.ai/daniele-didino/toxic_comment_clf</a>"
      ],
      "text/plain": [
       "<IPython.core.display.HTML object>"
      ]
     },
     "metadata": {},
     "output_type": "display_data"
    },
    {
     "data": {
      "text/html": [
       " View sweep at <a href='https://wandb.ai/daniele-didino/toxic_comment_clf/sweeps/wdc1dzb1' target=\"_blank\">https://wandb.ai/daniele-didino/toxic_comment_clf/sweeps/wdc1dzb1</a>"
      ],
      "text/plain": [
       "<IPython.core.display.HTML object>"
      ]
     },
     "metadata": {},
     "output_type": "display_data"
    },
    {
     "data": {
      "text/html": [
       " View run at <a href='https://wandb.ai/daniele-didino/toxic_comment_clf/runs/0dahmpu8' target=\"_blank\">https://wandb.ai/daniele-didino/toxic_comment_clf/runs/0dahmpu8</a>"
      ],
      "text/plain": [
       "<IPython.core.display.HTML object>"
      ]
     },
     "metadata": {},
     "output_type": "display_data"
    },
    {
     "name": "stdout",
     "output_type": "stream",
     "text": [
      "Epoch 1/5\n",
      "Train Loss: 0.0907 | AUC_ROC: 0.8999\n",
      "Val Loss: 0.0556 | AUC_ROC: 0.9710\n",
      "Epoch 2/5\n",
      "Train Loss: 0.0525 | AUC_ROC: 0.9678\n",
      "Val Loss: 0.0533 | AUC_ROC: 0.9745\n",
      "Epoch 3/5\n",
      "Train Loss: 0.0471 | AUC_ROC: 0.9741\n",
      "Val Loss: 0.0499 | AUC_ROC: 0.9764\n",
      "Epoch 4/5\n",
      "Train Loss: 0.0431 | AUC_ROC: 0.9775\n",
      "Val Loss: 0.0497 | AUC_ROC: 0.9769\n",
      "Epoch 5/5\n",
      "Train Loss: 0.0395 | AUC_ROC: 0.9811\n",
      "Val Loss: 0.0509 | AUC_ROC: 0.9772\n"
     ]
    },
    {
     "data": {
      "text/html": [],
      "text/plain": [
       "<IPython.core.display.HTML object>"
      ]
     },
     "metadata": {},
     "output_type": "display_data"
    },
    {
     "data": {
      "text/html": [
       "<br>    <style><br>        .wandb-row {<br>            display: flex;<br>            flex-direction: row;<br>            flex-wrap: wrap;<br>            justify-content: flex-start;<br>            width: 100%;<br>        }<br>        .wandb-col {<br>            display: flex;<br>            flex-direction: column;<br>            flex-basis: 100%;<br>            flex: 1;<br>            padding: 10px;<br>        }<br>    </style><br><div class=\"wandb-row\"><div class=\"wandb-col\"><h3>Run history:</h3><br/><table class=\"wandb\"><tr><td>epoch</td><td>▁▃▅▆█</td></tr><tr><td>train_loss</td><td>█▃▂▂▁</td></tr><tr><td>train_roc_auc</td><td>▁▇▇██</td></tr><tr><td>val_loss</td><td>█▅▁▁▂</td></tr><tr><td>val_roc_auc</td><td>▁▅▇██</td></tr></table><br/></div><div class=\"wandb-col\"><h3>Run summary:</h3><br/><table class=\"wandb\"><tr><td>epoch</td><td>5</td></tr><tr><td>train_loss</td><td>0.03947</td></tr><tr><td>train_roc_auc</td><td>0.98105</td></tr><tr><td>val_loss</td><td>0.05088</td></tr><tr><td>val_roc_auc</td><td>0.97718</td></tr></table><br/></div></div>"
      ],
      "text/plain": [
       "<IPython.core.display.HTML object>"
      ]
     },
     "metadata": {},
     "output_type": "display_data"
    },
    {
     "data": {
      "text/html": [
       " View run <strong style=\"color:#cdcd00\">chocolate-sweep-14</strong> at: <a href='https://wandb.ai/daniele-didino/toxic_comment_clf/runs/0dahmpu8' target=\"_blank\">https://wandb.ai/daniele-didino/toxic_comment_clf/runs/0dahmpu8</a><br> View project at: <a href='https://wandb.ai/daniele-didino/toxic_comment_clf' target=\"_blank\">https://wandb.ai/daniele-didino/toxic_comment_clf</a><br>Synced 5 W&B file(s), 0 media file(s), 0 artifact file(s) and 0 other file(s)"
      ],
      "text/plain": [
       "<IPython.core.display.HTML object>"
      ]
     },
     "metadata": {},
     "output_type": "display_data"
    },
    {
     "data": {
      "text/html": [
       "Find logs at: <code>./wandb/run-20250303_164027-0dahmpu8/logs</code>"
      ],
      "text/plain": [
       "<IPython.core.display.HTML object>"
      ]
     },
     "metadata": {},
     "output_type": "display_data"
    },
    {
     "name": "stderr",
     "output_type": "stream",
     "text": [
      "\u001b[34m\u001b[1mwandb\u001b[0m: Sweep Agent: Waiting for job.\n",
      "\u001b[34m\u001b[1mwandb\u001b[0m: Job received.\n",
      "\u001b[34m\u001b[1mwandb\u001b[0m: Agent Starting Run: gqq952fq with config:\n",
      "\u001b[34m\u001b[1mwandb\u001b[0m: \tbatch_size: 32\n",
      "\u001b[34m\u001b[1mwandb\u001b[0m: \tdropout: 0.4454069117837284\n",
      "\u001b[34m\u001b[1mwandb\u001b[0m: \tembed_dim: 100\n",
      "\u001b[34m\u001b[1mwandb\u001b[0m: \tepochs: 5\n",
      "\u001b[34m\u001b[1mwandb\u001b[0m: \thidden_dim: 64\n",
      "\u001b[34m\u001b[1mwandb\u001b[0m: \tkernel_size: 5\n",
      "\u001b[34m\u001b[1mwandb\u001b[0m: \tlearning_rate: 0.00011899748978242172\n",
      "\u001b[34m\u001b[1mwandb\u001b[0m: \tnum_filters: 128\n"
     ]
    },
    {
     "data": {
      "text/html": [
       "Tracking run with wandb version 0.19.7"
      ],
      "text/plain": [
       "<IPython.core.display.HTML object>"
      ]
     },
     "metadata": {},
     "output_type": "display_data"
    },
    {
     "data": {
      "text/html": [
       "Run data is saved locally in <code>/home/daniele/Desktop/Projects/toxic_comment_clf/notebooks/wandb/run-20250303_164243-gqq952fq</code>"
      ],
      "text/plain": [
       "<IPython.core.display.HTML object>"
      ]
     },
     "metadata": {},
     "output_type": "display_data"
    },
    {
     "data": {
      "text/html": [
       "Syncing run <strong><a href='https://wandb.ai/daniele-didino/toxic_comment_clf/runs/gqq952fq' target=\"_blank\">worldly-sweep-15</a></strong> to <a href='https://wandb.ai/daniele-didino/toxic_comment_clf' target=\"_blank\">Weights & Biases</a> (<a href='https://wandb.me/developer-guide' target=\"_blank\">docs</a>)<br>Sweep page: <a href='https://wandb.ai/daniele-didino/toxic_comment_clf/sweeps/wdc1dzb1' target=\"_blank\">https://wandb.ai/daniele-didino/toxic_comment_clf/sweeps/wdc1dzb1</a>"
      ],
      "text/plain": [
       "<IPython.core.display.HTML object>"
      ]
     },
     "metadata": {},
     "output_type": "display_data"
    },
    {
     "data": {
      "text/html": [
       " View project at <a href='https://wandb.ai/daniele-didino/toxic_comment_clf' target=\"_blank\">https://wandb.ai/daniele-didino/toxic_comment_clf</a>"
      ],
      "text/plain": [
       "<IPython.core.display.HTML object>"
      ]
     },
     "metadata": {},
     "output_type": "display_data"
    },
    {
     "data": {
      "text/html": [
       " View sweep at <a href='https://wandb.ai/daniele-didino/toxic_comment_clf/sweeps/wdc1dzb1' target=\"_blank\">https://wandb.ai/daniele-didino/toxic_comment_clf/sweeps/wdc1dzb1</a>"
      ],
      "text/plain": [
       "<IPython.core.display.HTML object>"
      ]
     },
     "metadata": {},
     "output_type": "display_data"
    },
    {
     "data": {
      "text/html": [
       " View run at <a href='https://wandb.ai/daniele-didino/toxic_comment_clf/runs/gqq952fq' target=\"_blank\">https://wandb.ai/daniele-didino/toxic_comment_clf/runs/gqq952fq</a>"
      ],
      "text/plain": [
       "<IPython.core.display.HTML object>"
      ]
     },
     "metadata": {},
     "output_type": "display_data"
    },
    {
     "name": "stdout",
     "output_type": "stream",
     "text": [
      "Epoch 1/5\n",
      "Train Loss: 0.1118 | AUC_ROC: 0.8352\n",
      "Val Loss: 0.0646 | AUC_ROC: 0.9667\n",
      "Epoch 2/5\n",
      "Train Loss: 0.0576 | AUC_ROC: 0.9593\n",
      "Val Loss: 0.0556 | AUC_ROC: 0.9730\n",
      "Epoch 3/5\n",
      "Train Loss: 0.0511 | AUC_ROC: 0.9679\n",
      "Val Loss: 0.0518 | AUC_ROC: 0.9756\n",
      "Epoch 4/5\n",
      "Train Loss: 0.0467 | AUC_ROC: 0.9731\n",
      "Val Loss: 0.0539 | AUC_ROC: 0.9760\n",
      "Epoch 5/5\n",
      "Train Loss: 0.0436 | AUC_ROC: 0.9765\n",
      "Val Loss: 0.0506 | AUC_ROC: 0.9768\n"
     ]
    },
    {
     "data": {
      "text/html": [],
      "text/plain": [
       "<IPython.core.display.HTML object>"
      ]
     },
     "metadata": {},
     "output_type": "display_data"
    },
    {
     "data": {
      "text/html": [
       "<br>    <style><br>        .wandb-row {<br>            display: flex;<br>            flex-direction: row;<br>            flex-wrap: wrap;<br>            justify-content: flex-start;<br>            width: 100%;<br>        }<br>        .wandb-col {<br>            display: flex;<br>            flex-direction: column;<br>            flex-basis: 100%;<br>            flex: 1;<br>            padding: 10px;<br>        }<br>    </style><br><div class=\"wandb-row\"><div class=\"wandb-col\"><h3>Run history:</h3><br/><table class=\"wandb\"><tr><td>epoch</td><td>▁▃▅▆█</td></tr><tr><td>train_loss</td><td>█▂▂▁▁</td></tr><tr><td>train_roc_auc</td><td>▁▇███</td></tr><tr><td>val_loss</td><td>█▃▂▃▁</td></tr><tr><td>val_roc_auc</td><td>▁▅▇▇█</td></tr></table><br/></div><div class=\"wandb-col\"><h3>Run summary:</h3><br/><table class=\"wandb\"><tr><td>epoch</td><td>5</td></tr><tr><td>train_loss</td><td>0.04359</td></tr><tr><td>train_roc_auc</td><td>0.97652</td></tr><tr><td>val_loss</td><td>0.0506</td></tr><tr><td>val_roc_auc</td><td>0.97679</td></tr></table><br/></div></div>"
      ],
      "text/plain": [
       "<IPython.core.display.HTML object>"
      ]
     },
     "metadata": {},
     "output_type": "display_data"
    },
    {
     "data": {
      "text/html": [
       " View run <strong style=\"color:#cdcd00\">worldly-sweep-15</strong> at: <a href='https://wandb.ai/daniele-didino/toxic_comment_clf/runs/gqq952fq' target=\"_blank\">https://wandb.ai/daniele-didino/toxic_comment_clf/runs/gqq952fq</a><br> View project at: <a href='https://wandb.ai/daniele-didino/toxic_comment_clf' target=\"_blank\">https://wandb.ai/daniele-didino/toxic_comment_clf</a><br>Synced 5 W&B file(s), 0 media file(s), 0 artifact file(s) and 0 other file(s)"
      ],
      "text/plain": [
       "<IPython.core.display.HTML object>"
      ]
     },
     "metadata": {},
     "output_type": "display_data"
    },
    {
     "data": {
      "text/html": [
       "Find logs at: <code>./wandb/run-20250303_164243-gqq952fq/logs</code>"
      ],
      "text/plain": [
       "<IPython.core.display.HTML object>"
      ]
     },
     "metadata": {},
     "output_type": "display_data"
    },
    {
     "name": "stderr",
     "output_type": "stream",
     "text": [
      "\u001b[34m\u001b[1mwandb\u001b[0m: Agent Starting Run: s4jstzrg with config:\n",
      "\u001b[34m\u001b[1mwandb\u001b[0m: \tbatch_size: 64\n",
      "\u001b[34m\u001b[1mwandb\u001b[0m: \tdropout: 0.4998669567693553\n",
      "\u001b[34m\u001b[1mwandb\u001b[0m: \tembed_dim: 100\n",
      "\u001b[34m\u001b[1mwandb\u001b[0m: \tepochs: 5\n",
      "\u001b[34m\u001b[1mwandb\u001b[0m: \thidden_dim: 64\n",
      "\u001b[34m\u001b[1mwandb\u001b[0m: \tkernel_size: 2\n",
      "\u001b[34m\u001b[1mwandb\u001b[0m: \tlearning_rate: 0.003300747864702935\n",
      "\u001b[34m\u001b[1mwandb\u001b[0m: \tnum_filters: 256\n"
     ]
    },
    {
     "data": {
      "text/html": [
       "Tracking run with wandb version 0.19.7"
      ],
      "text/plain": [
       "<IPython.core.display.HTML object>"
      ]
     },
     "metadata": {},
     "output_type": "display_data"
    },
    {
     "data": {
      "text/html": [
       "Run data is saved locally in <code>/home/daniele/Desktop/Projects/toxic_comment_clf/notebooks/wandb/run-20250303_164454-s4jstzrg</code>"
      ],
      "text/plain": [
       "<IPython.core.display.HTML object>"
      ]
     },
     "metadata": {},
     "output_type": "display_data"
    },
    {
     "data": {
      "text/html": [
       "Syncing run <strong><a href='https://wandb.ai/daniele-didino/toxic_comment_clf/runs/s4jstzrg' target=\"_blank\">eager-sweep-16</a></strong> to <a href='https://wandb.ai/daniele-didino/toxic_comment_clf' target=\"_blank\">Weights & Biases</a> (<a href='https://wandb.me/developer-guide' target=\"_blank\">docs</a>)<br>Sweep page: <a href='https://wandb.ai/daniele-didino/toxic_comment_clf/sweeps/wdc1dzb1' target=\"_blank\">https://wandb.ai/daniele-didino/toxic_comment_clf/sweeps/wdc1dzb1</a>"
      ],
      "text/plain": [
       "<IPython.core.display.HTML object>"
      ]
     },
     "metadata": {},
     "output_type": "display_data"
    },
    {
     "data": {
      "text/html": [
       " View project at <a href='https://wandb.ai/daniele-didino/toxic_comment_clf' target=\"_blank\">https://wandb.ai/daniele-didino/toxic_comment_clf</a>"
      ],
      "text/plain": [
       "<IPython.core.display.HTML object>"
      ]
     },
     "metadata": {},
     "output_type": "display_data"
    },
    {
     "data": {
      "text/html": [
       " View sweep at <a href='https://wandb.ai/daniele-didino/toxic_comment_clf/sweeps/wdc1dzb1' target=\"_blank\">https://wandb.ai/daniele-didino/toxic_comment_clf/sweeps/wdc1dzb1</a>"
      ],
      "text/plain": [
       "<IPython.core.display.HTML object>"
      ]
     },
     "metadata": {},
     "output_type": "display_data"
    },
    {
     "data": {
      "text/html": [
       " View run at <a href='https://wandb.ai/daniele-didino/toxic_comment_clf/runs/s4jstzrg' target=\"_blank\">https://wandb.ai/daniele-didino/toxic_comment_clf/runs/s4jstzrg</a>"
      ],
      "text/plain": [
       "<IPython.core.display.HTML object>"
      ]
     },
     "metadata": {},
     "output_type": "display_data"
    },
    {
     "name": "stdout",
     "output_type": "stream",
     "text": [
      "Epoch 1/5\n",
      "Train Loss: 0.0722 | AUC_ROC: 0.9315\n",
      "Val Loss: 0.0524 | AUC_ROC: 0.9737\n",
      "Epoch 2/5\n",
      "Train Loss: 0.0463 | AUC_ROC: 0.9734\n",
      "Val Loss: 0.0538 | AUC_ROC: 0.9736\n",
      "Epoch 3/5\n",
      "Train Loss: 0.0386 | AUC_ROC: 0.9810\n",
      "Val Loss: 0.0529 | AUC_ROC: 0.9748\n",
      "Epoch 4/5\n",
      "Train Loss: 0.0343 | AUC_ROC: 0.9847\n",
      "Val Loss: 0.0579 | AUC_ROC: 0.9744\n",
      "Epoch 5/5\n",
      "Train Loss: 0.0322 | AUC_ROC: 0.9873\n",
      "Val Loss: 0.0620 | AUC_ROC: 0.9729\n"
     ]
    },
    {
     "data": {
      "text/html": [],
      "text/plain": [
       "<IPython.core.display.HTML object>"
      ]
     },
     "metadata": {},
     "output_type": "display_data"
    },
    {
     "data": {
      "text/html": [
       "<br>    <style><br>        .wandb-row {<br>            display: flex;<br>            flex-direction: row;<br>            flex-wrap: wrap;<br>            justify-content: flex-start;<br>            width: 100%;<br>        }<br>        .wandb-col {<br>            display: flex;<br>            flex-direction: column;<br>            flex-basis: 100%;<br>            flex: 1;<br>            padding: 10px;<br>        }<br>    </style><br><div class=\"wandb-row\"><div class=\"wandb-col\"><h3>Run history:</h3><br/><table class=\"wandb\"><tr><td>epoch</td><td>▁▃▅▆█</td></tr><tr><td>train_loss</td><td>█▃▂▁▁</td></tr><tr><td>train_roc_auc</td><td>▁▆▇██</td></tr><tr><td>val_loss</td><td>▁▂▁▅█</td></tr><tr><td>val_roc_auc</td><td>▄▄█▇▁</td></tr></table><br/></div><div class=\"wandb-col\"><h3>Run summary:</h3><br/><table class=\"wandb\"><tr><td>epoch</td><td>5</td></tr><tr><td>train_loss</td><td>0.03224</td></tr><tr><td>train_roc_auc</td><td>0.9873</td></tr><tr><td>val_loss</td><td>0.06203</td></tr><tr><td>val_roc_auc</td><td>0.97285</td></tr></table><br/></div></div>"
      ],
      "text/plain": [
       "<IPython.core.display.HTML object>"
      ]
     },
     "metadata": {},
     "output_type": "display_data"
    },
    {
     "data": {
      "text/html": [
       " View run <strong style=\"color:#cdcd00\">eager-sweep-16</strong> at: <a href='https://wandb.ai/daniele-didino/toxic_comment_clf/runs/s4jstzrg' target=\"_blank\">https://wandb.ai/daniele-didino/toxic_comment_clf/runs/s4jstzrg</a><br> View project at: <a href='https://wandb.ai/daniele-didino/toxic_comment_clf' target=\"_blank\">https://wandb.ai/daniele-didino/toxic_comment_clf</a><br>Synced 5 W&B file(s), 0 media file(s), 0 artifact file(s) and 0 other file(s)"
      ],
      "text/plain": [
       "<IPython.core.display.HTML object>"
      ]
     },
     "metadata": {},
     "output_type": "display_data"
    },
    {
     "data": {
      "text/html": [
       "Find logs at: <code>./wandb/run-20250303_164454-s4jstzrg/logs</code>"
      ],
      "text/plain": [
       "<IPython.core.display.HTML object>"
      ]
     },
     "metadata": {},
     "output_type": "display_data"
    },
    {
     "name": "stderr",
     "output_type": "stream",
     "text": [
      "\u001b[34m\u001b[1mwandb\u001b[0m: Agent Starting Run: iorl0q6m with config:\n",
      "\u001b[34m\u001b[1mwandb\u001b[0m: \tbatch_size: 16\n",
      "\u001b[34m\u001b[1mwandb\u001b[0m: \tdropout: 0.4985148868742243\n",
      "\u001b[34m\u001b[1mwandb\u001b[0m: \tembed_dim: 100\n",
      "\u001b[34m\u001b[1mwandb\u001b[0m: \tepochs: 5\n",
      "\u001b[34m\u001b[1mwandb\u001b[0m: \thidden_dim: 64\n",
      "\u001b[34m\u001b[1mwandb\u001b[0m: \tkernel_size: 5\n",
      "\u001b[34m\u001b[1mwandb\u001b[0m: \tlearning_rate: 0.0003819888583547725\n",
      "\u001b[34m\u001b[1mwandb\u001b[0m: \tnum_filters: 128\n"
     ]
    },
    {
     "data": {
      "text/html": [
       "Tracking run with wandb version 0.19.7"
      ],
      "text/plain": [
       "<IPython.core.display.HTML object>"
      ]
     },
     "metadata": {},
     "output_type": "display_data"
    },
    {
     "data": {
      "text/html": [
       "Run data is saved locally in <code>/home/daniele/Desktop/Projects/toxic_comment_clf/notebooks/wandb/run-20250303_164607-iorl0q6m</code>"
      ],
      "text/plain": [
       "<IPython.core.display.HTML object>"
      ]
     },
     "metadata": {},
     "output_type": "display_data"
    },
    {
     "data": {
      "text/html": [
       "Syncing run <strong><a href='https://wandb.ai/daniele-didino/toxic_comment_clf/runs/iorl0q6m' target=\"_blank\">fancy-sweep-17</a></strong> to <a href='https://wandb.ai/daniele-didino/toxic_comment_clf' target=\"_blank\">Weights & Biases</a> (<a href='https://wandb.me/developer-guide' target=\"_blank\">docs</a>)<br>Sweep page: <a href='https://wandb.ai/daniele-didino/toxic_comment_clf/sweeps/wdc1dzb1' target=\"_blank\">https://wandb.ai/daniele-didino/toxic_comment_clf/sweeps/wdc1dzb1</a>"
      ],
      "text/plain": [
       "<IPython.core.display.HTML object>"
      ]
     },
     "metadata": {},
     "output_type": "display_data"
    },
    {
     "data": {
      "text/html": [
       " View project at <a href='https://wandb.ai/daniele-didino/toxic_comment_clf' target=\"_blank\">https://wandb.ai/daniele-didino/toxic_comment_clf</a>"
      ],
      "text/plain": [
       "<IPython.core.display.HTML object>"
      ]
     },
     "metadata": {},
     "output_type": "display_data"
    },
    {
     "data": {
      "text/html": [
       " View sweep at <a href='https://wandb.ai/daniele-didino/toxic_comment_clf/sweeps/wdc1dzb1' target=\"_blank\">https://wandb.ai/daniele-didino/toxic_comment_clf/sweeps/wdc1dzb1</a>"
      ],
      "text/plain": [
       "<IPython.core.display.HTML object>"
      ]
     },
     "metadata": {},
     "output_type": "display_data"
    },
    {
     "data": {
      "text/html": [
       " View run at <a href='https://wandb.ai/daniele-didino/toxic_comment_clf/runs/iorl0q6m' target=\"_blank\">https://wandb.ai/daniele-didino/toxic_comment_clf/runs/iorl0q6m</a>"
      ],
      "text/plain": [
       "<IPython.core.display.HTML object>"
      ]
     },
     "metadata": {},
     "output_type": "display_data"
    },
    {
     "name": "stdout",
     "output_type": "stream",
     "text": [
      "Epoch 1/5\n",
      "Train Loss: 0.0707 | AUC_ROC: 0.9369\n",
      "Val Loss: 0.0517 | AUC_ROC: 0.9760\n",
      "Epoch 2/5\n",
      "Train Loss: 0.0475 | AUC_ROC: 0.9727\n",
      "Val Loss: 0.0492 | AUC_ROC: 0.9783\n",
      "Epoch 3/5\n",
      "Train Loss: 0.0402 | AUC_ROC: 0.9806\n",
      "Val Loss: 0.0482 | AUC_ROC: 0.9795\n",
      "Epoch 4/5\n",
      "Train Loss: 0.0345 | AUC_ROC: 0.9861\n",
      "Val Loss: 0.0509 | AUC_ROC: 0.9796\n",
      "Epoch 5/5\n",
      "Train Loss: 0.0298 | AUC_ROC: 0.9897\n",
      "Val Loss: 0.0552 | AUC_ROC: 0.9781\n"
     ]
    },
    {
     "data": {
      "text/html": [],
      "text/plain": [
       "<IPython.core.display.HTML object>"
      ]
     },
     "metadata": {},
     "output_type": "display_data"
    },
    {
     "data": {
      "text/html": [
       "<br>    <style><br>        .wandb-row {<br>            display: flex;<br>            flex-direction: row;<br>            flex-wrap: wrap;<br>            justify-content: flex-start;<br>            width: 100%;<br>        }<br>        .wandb-col {<br>            display: flex;<br>            flex-direction: column;<br>            flex-basis: 100%;<br>            flex: 1;<br>            padding: 10px;<br>        }<br>    </style><br><div class=\"wandb-row\"><div class=\"wandb-col\"><h3>Run history:</h3><br/><table class=\"wandb\"><tr><td>epoch</td><td>▁▃▅▆█</td></tr><tr><td>train_loss</td><td>█▄▃▂▁</td></tr><tr><td>train_roc_auc</td><td>▁▆▇██</td></tr><tr><td>val_loss</td><td>▅▂▁▄█</td></tr><tr><td>val_roc_auc</td><td>▁▅██▅</td></tr></table><br/></div><div class=\"wandb-col\"><h3>Run summary:</h3><br/><table class=\"wandb\"><tr><td>epoch</td><td>5</td></tr><tr><td>train_loss</td><td>0.02977</td></tr><tr><td>train_roc_auc</td><td>0.98966</td></tr><tr><td>val_loss</td><td>0.05515</td></tr><tr><td>val_roc_auc</td><td>0.97812</td></tr></table><br/></div></div>"
      ],
      "text/plain": [
       "<IPython.core.display.HTML object>"
      ]
     },
     "metadata": {},
     "output_type": "display_data"
    },
    {
     "data": {
      "text/html": [
       " View run <strong style=\"color:#cdcd00\">fancy-sweep-17</strong> at: <a href='https://wandb.ai/daniele-didino/toxic_comment_clf/runs/iorl0q6m' target=\"_blank\">https://wandb.ai/daniele-didino/toxic_comment_clf/runs/iorl0q6m</a><br> View project at: <a href='https://wandb.ai/daniele-didino/toxic_comment_clf' target=\"_blank\">https://wandb.ai/daniele-didino/toxic_comment_clf</a><br>Synced 5 W&B file(s), 0 media file(s), 0 artifact file(s) and 0 other file(s)"
      ],
      "text/plain": [
       "<IPython.core.display.HTML object>"
      ]
     },
     "metadata": {},
     "output_type": "display_data"
    },
    {
     "data": {
      "text/html": [
       "Find logs at: <code>./wandb/run-20250303_164607-iorl0q6m/logs</code>"
      ],
      "text/plain": [
       "<IPython.core.display.HTML object>"
      ]
     },
     "metadata": {},
     "output_type": "display_data"
    },
    {
     "name": "stderr",
     "output_type": "stream",
     "text": [
      "\u001b[34m\u001b[1mwandb\u001b[0m: Agent Starting Run: q5m3pife with config:\n",
      "\u001b[34m\u001b[1mwandb\u001b[0m: \tbatch_size: 64\n",
      "\u001b[34m\u001b[1mwandb\u001b[0m: \tdropout: 0.4553126049789043\n",
      "\u001b[34m\u001b[1mwandb\u001b[0m: \tembed_dim: 100\n",
      "\u001b[34m\u001b[1mwandb\u001b[0m: \tepochs: 5\n",
      "\u001b[34m\u001b[1mwandb\u001b[0m: \thidden_dim: 64\n",
      "\u001b[34m\u001b[1mwandb\u001b[0m: \tkernel_size: 5\n",
      "\u001b[34m\u001b[1mwandb\u001b[0m: \tlearning_rate: 0.0001733243731332818\n",
      "\u001b[34m\u001b[1mwandb\u001b[0m: \tnum_filters: 256\n"
     ]
    },
    {
     "data": {
      "text/html": [
       "Tracking run with wandb version 0.19.7"
      ],
      "text/plain": [
       "<IPython.core.display.HTML object>"
      ]
     },
     "metadata": {},
     "output_type": "display_data"
    },
    {
     "data": {
      "text/html": [
       "Run data is saved locally in <code>/home/daniele/Desktop/Projects/toxic_comment_clf/notebooks/wandb/run-20250303_165019-q5m3pife</code>"
      ],
      "text/plain": [
       "<IPython.core.display.HTML object>"
      ]
     },
     "metadata": {},
     "output_type": "display_data"
    },
    {
     "data": {
      "text/html": [
       "Syncing run <strong><a href='https://wandb.ai/daniele-didino/toxic_comment_clf/runs/q5m3pife' target=\"_blank\">bright-sweep-18</a></strong> to <a href='https://wandb.ai/daniele-didino/toxic_comment_clf' target=\"_blank\">Weights & Biases</a> (<a href='https://wandb.me/developer-guide' target=\"_blank\">docs</a>)<br>Sweep page: <a href='https://wandb.ai/daniele-didino/toxic_comment_clf/sweeps/wdc1dzb1' target=\"_blank\">https://wandb.ai/daniele-didino/toxic_comment_clf/sweeps/wdc1dzb1</a>"
      ],
      "text/plain": [
       "<IPython.core.display.HTML object>"
      ]
     },
     "metadata": {},
     "output_type": "display_data"
    },
    {
     "data": {
      "text/html": [
       " View project at <a href='https://wandb.ai/daniele-didino/toxic_comment_clf' target=\"_blank\">https://wandb.ai/daniele-didino/toxic_comment_clf</a>"
      ],
      "text/plain": [
       "<IPython.core.display.HTML object>"
      ]
     },
     "metadata": {},
     "output_type": "display_data"
    },
    {
     "data": {
      "text/html": [
       " View sweep at <a href='https://wandb.ai/daniele-didino/toxic_comment_clf/sweeps/wdc1dzb1' target=\"_blank\">https://wandb.ai/daniele-didino/toxic_comment_clf/sweeps/wdc1dzb1</a>"
      ],
      "text/plain": [
       "<IPython.core.display.HTML object>"
      ]
     },
     "metadata": {},
     "output_type": "display_data"
    },
    {
     "data": {
      "text/html": [
       " View run at <a href='https://wandb.ai/daniele-didino/toxic_comment_clf/runs/q5m3pife' target=\"_blank\">https://wandb.ai/daniele-didino/toxic_comment_clf/runs/q5m3pife</a>"
      ],
      "text/plain": [
       "<IPython.core.display.HTML object>"
      ]
     },
     "metadata": {},
     "output_type": "display_data"
    },
    {
     "name": "stdout",
     "output_type": "stream",
     "text": [
      "Epoch 1/5\n",
      "Train Loss: 0.1161 | AUC_ROC: 0.8153\n",
      "Val Loss: 0.0629 | AUC_ROC: 0.9685\n",
      "Epoch 2/5\n",
      "Train Loss: 0.0567 | AUC_ROC: 0.9609\n",
      "Val Loss: 0.0550 | AUC_ROC: 0.9740\n",
      "Epoch 3/5\n",
      "Train Loss: 0.0496 | AUC_ROC: 0.9697\n",
      "Val Loss: 0.0508 | AUC_ROC: 0.9761\n",
      "Epoch 4/5\n",
      "Train Loss: 0.0451 | AUC_ROC: 0.9748\n",
      "Val Loss: 0.0518 | AUC_ROC: 0.9765\n",
      "Epoch 5/5\n",
      "Train Loss: 0.0411 | AUC_ROC: 0.9776\n",
      "Val Loss: 0.0514 | AUC_ROC: 0.9766\n"
     ]
    },
    {
     "data": {
      "text/html": [],
      "text/plain": [
       "<IPython.core.display.HTML object>"
      ]
     },
     "metadata": {},
     "output_type": "display_data"
    },
    {
     "data": {
      "text/html": [
       "<br>    <style><br>        .wandb-row {<br>            display: flex;<br>            flex-direction: row;<br>            flex-wrap: wrap;<br>            justify-content: flex-start;<br>            width: 100%;<br>        }<br>        .wandb-col {<br>            display: flex;<br>            flex-direction: column;<br>            flex-basis: 100%;<br>            flex: 1;<br>            padding: 10px;<br>        }<br>    </style><br><div class=\"wandb-row\"><div class=\"wandb-col\"><h3>Run history:</h3><br/><table class=\"wandb\"><tr><td>epoch</td><td>▁▃▅▆█</td></tr><tr><td>train_loss</td><td>█▂▂▁▁</td></tr><tr><td>train_roc_auc</td><td>▁▇███</td></tr><tr><td>val_loss</td><td>█▃▁▂▁</td></tr><tr><td>val_roc_auc</td><td>▁▆███</td></tr></table><br/></div><div class=\"wandb-col\"><h3>Run summary:</h3><br/><table class=\"wandb\"><tr><td>epoch</td><td>5</td></tr><tr><td>train_loss</td><td>0.04106</td></tr><tr><td>train_roc_auc</td><td>0.97757</td></tr><tr><td>val_loss</td><td>0.05141</td></tr><tr><td>val_roc_auc</td><td>0.97661</td></tr></table><br/></div></div>"
      ],
      "text/plain": [
       "<IPython.core.display.HTML object>"
      ]
     },
     "metadata": {},
     "output_type": "display_data"
    },
    {
     "data": {
      "text/html": [
       " View run <strong style=\"color:#cdcd00\">bright-sweep-18</strong> at: <a href='https://wandb.ai/daniele-didino/toxic_comment_clf/runs/q5m3pife' target=\"_blank\">https://wandb.ai/daniele-didino/toxic_comment_clf/runs/q5m3pife</a><br> View project at: <a href='https://wandb.ai/daniele-didino/toxic_comment_clf' target=\"_blank\">https://wandb.ai/daniele-didino/toxic_comment_clf</a><br>Synced 5 W&B file(s), 0 media file(s), 0 artifact file(s) and 0 other file(s)"
      ],
      "text/plain": [
       "<IPython.core.display.HTML object>"
      ]
     },
     "metadata": {},
     "output_type": "display_data"
    },
    {
     "data": {
      "text/html": [
       "Find logs at: <code>./wandb/run-20250303_165019-q5m3pife/logs</code>"
      ],
      "text/plain": [
       "<IPython.core.display.HTML object>"
      ]
     },
     "metadata": {},
     "output_type": "display_data"
    },
    {
     "name": "stderr",
     "output_type": "stream",
     "text": [
      "\u001b[34m\u001b[1mwandb\u001b[0m: Agent Starting Run: 02isoht1 with config:\n",
      "\u001b[34m\u001b[1mwandb\u001b[0m: \tbatch_size: 64\n",
      "\u001b[34m\u001b[1mwandb\u001b[0m: \tdropout: 0.4907446795302052\n",
      "\u001b[34m\u001b[1mwandb\u001b[0m: \tembed_dim: 100\n",
      "\u001b[34m\u001b[1mwandb\u001b[0m: \tepochs: 4\n",
      "\u001b[34m\u001b[1mwandb\u001b[0m: \thidden_dim: 64\n",
      "\u001b[34m\u001b[1mwandb\u001b[0m: \tkernel_size: 5\n",
      "\u001b[34m\u001b[1mwandb\u001b[0m: \tlearning_rate: 0.00010387660327337795\n",
      "\u001b[34m\u001b[1mwandb\u001b[0m: \tnum_filters: 256\n"
     ]
    },
    {
     "data": {
      "text/html": [
       "creating run (4.9s)"
      ],
      "text/plain": [
       "<IPython.core.display.HTML object>"
      ]
     },
     "metadata": {},
     "output_type": "display_data"
    },
    {
     "data": {
      "text/html": [
       "Tracking run with wandb version 0.19.7"
      ],
      "text/plain": [
       "<IPython.core.display.HTML object>"
      ]
     },
     "metadata": {},
     "output_type": "display_data"
    },
    {
     "data": {
      "text/html": [
       "Run data is saved locally in <code>/home/daniele/Desktop/Projects/toxic_comment_clf/notebooks/wandb/run-20250303_165132-02isoht1</code>"
      ],
      "text/plain": [
       "<IPython.core.display.HTML object>"
      ]
     },
     "metadata": {},
     "output_type": "display_data"
    },
    {
     "data": {
      "text/html": [
       "Syncing run <strong><a href='https://wandb.ai/daniele-didino/toxic_comment_clf/runs/02isoht1' target=\"_blank\">glad-sweep-19</a></strong> to <a href='https://wandb.ai/daniele-didino/toxic_comment_clf' target=\"_blank\">Weights & Biases</a> (<a href='https://wandb.me/developer-guide' target=\"_blank\">docs</a>)<br>Sweep page: <a href='https://wandb.ai/daniele-didino/toxic_comment_clf/sweeps/wdc1dzb1' target=\"_blank\">https://wandb.ai/daniele-didino/toxic_comment_clf/sweeps/wdc1dzb1</a>"
      ],
      "text/plain": [
       "<IPython.core.display.HTML object>"
      ]
     },
     "metadata": {},
     "output_type": "display_data"
    },
    {
     "data": {
      "text/html": [
       " View project at <a href='https://wandb.ai/daniele-didino/toxic_comment_clf' target=\"_blank\">https://wandb.ai/daniele-didino/toxic_comment_clf</a>"
      ],
      "text/plain": [
       "<IPython.core.display.HTML object>"
      ]
     },
     "metadata": {},
     "output_type": "display_data"
    },
    {
     "data": {
      "text/html": [
       " View sweep at <a href='https://wandb.ai/daniele-didino/toxic_comment_clf/sweeps/wdc1dzb1' target=\"_blank\">https://wandb.ai/daniele-didino/toxic_comment_clf/sweeps/wdc1dzb1</a>"
      ],
      "text/plain": [
       "<IPython.core.display.HTML object>"
      ]
     },
     "metadata": {},
     "output_type": "display_data"
    },
    {
     "data": {
      "text/html": [
       " View run at <a href='https://wandb.ai/daniele-didino/toxic_comment_clf/runs/02isoht1' target=\"_blank\">https://wandb.ai/daniele-didino/toxic_comment_clf/runs/02isoht1</a>"
      ],
      "text/plain": [
       "<IPython.core.display.HTML object>"
      ]
     },
     "metadata": {},
     "output_type": "display_data"
    },
    {
     "name": "stdout",
     "output_type": "stream",
     "text": [
      "Epoch 1/4\n",
      "Train Loss: 0.1352 | AUC_ROC: 0.7321\n",
      "Val Loss: 0.0698 | AUC_ROC: 0.9628\n",
      "Epoch 2/4\n",
      "Train Loss: 0.0632 | AUC_ROC: 0.9504\n",
      "Val Loss: 0.0577 | AUC_ROC: 0.9709\n",
      "Epoch 3/4\n",
      "Train Loss: 0.0540 | AUC_ROC: 0.9625\n",
      "Val Loss: 0.0534 | AUC_ROC: 0.9738\n",
      "Epoch 4/4\n",
      "Train Loss: 0.0492 | AUC_ROC: 0.9696\n",
      "Val Loss: 0.0520 | AUC_ROC: 0.9754\n"
     ]
    },
    {
     "data": {
      "text/html": [],
      "text/plain": [
       "<IPython.core.display.HTML object>"
      ]
     },
     "metadata": {},
     "output_type": "display_data"
    },
    {
     "data": {
      "text/html": [
       "<br>    <style><br>        .wandb-row {<br>            display: flex;<br>            flex-direction: row;<br>            flex-wrap: wrap;<br>            justify-content: flex-start;<br>            width: 100%;<br>        }<br>        .wandb-col {<br>            display: flex;<br>            flex-direction: column;<br>            flex-basis: 100%;<br>            flex: 1;<br>            padding: 10px;<br>        }<br>    </style><br><div class=\"wandb-row\"><div class=\"wandb-col\"><h3>Run history:</h3><br/><table class=\"wandb\"><tr><td>epoch</td><td>▁▃▆█</td></tr><tr><td>train_loss</td><td>█▂▁▁</td></tr><tr><td>train_roc_auc</td><td>▁▇██</td></tr><tr><td>val_loss</td><td>█▃▂▁</td></tr><tr><td>val_roc_auc</td><td>▁▆▇█</td></tr></table><br/></div><div class=\"wandb-col\"><h3>Run summary:</h3><br/><table class=\"wandb\"><tr><td>epoch</td><td>4</td></tr><tr><td>train_loss</td><td>0.04923</td></tr><tr><td>train_roc_auc</td><td>0.96961</td></tr><tr><td>val_loss</td><td>0.05203</td></tr><tr><td>val_roc_auc</td><td>0.97536</td></tr></table><br/></div></div>"
      ],
      "text/plain": [
       "<IPython.core.display.HTML object>"
      ]
     },
     "metadata": {},
     "output_type": "display_data"
    },
    {
     "data": {
      "text/html": [
       " View run <strong style=\"color:#cdcd00\">glad-sweep-19</strong> at: <a href='https://wandb.ai/daniele-didino/toxic_comment_clf/runs/02isoht1' target=\"_blank\">https://wandb.ai/daniele-didino/toxic_comment_clf/runs/02isoht1</a><br> View project at: <a href='https://wandb.ai/daniele-didino/toxic_comment_clf' target=\"_blank\">https://wandb.ai/daniele-didino/toxic_comment_clf</a><br>Synced 5 W&B file(s), 0 media file(s), 0 artifact file(s) and 0 other file(s)"
      ],
      "text/plain": [
       "<IPython.core.display.HTML object>"
      ]
     },
     "metadata": {},
     "output_type": "display_data"
    },
    {
     "data": {
      "text/html": [
       "Find logs at: <code>./wandb/run-20250303_165132-02isoht1/logs</code>"
      ],
      "text/plain": [
       "<IPython.core.display.HTML object>"
      ]
     },
     "metadata": {},
     "output_type": "display_data"
    },
    {
     "name": "stderr",
     "output_type": "stream",
     "text": [
      "\u001b[34m\u001b[1mwandb\u001b[0m: Agent Starting Run: 14gyywxl with config:\n",
      "\u001b[34m\u001b[1mwandb\u001b[0m: \tbatch_size: 32\n",
      "\u001b[34m\u001b[1mwandb\u001b[0m: \tdropout: 0.4717882142092425\n",
      "\u001b[34m\u001b[1mwandb\u001b[0m: \tembed_dim: 100\n",
      "\u001b[34m\u001b[1mwandb\u001b[0m: \tepochs: 5\n",
      "\u001b[34m\u001b[1mwandb\u001b[0m: \thidden_dim: 64\n",
      "\u001b[34m\u001b[1mwandb\u001b[0m: \tkernel_size: 5\n",
      "\u001b[34m\u001b[1mwandb\u001b[0m: \tlearning_rate: 0.0001728585579652961\n",
      "\u001b[34m\u001b[1mwandb\u001b[0m: \tnum_filters: 128\n"
     ]
    },
    {
     "data": {
      "text/html": [
       "Tracking run with wandb version 0.19.7"
      ],
      "text/plain": [
       "<IPython.core.display.HTML object>"
      ]
     },
     "metadata": {},
     "output_type": "display_data"
    },
    {
     "data": {
      "text/html": [
       "Run data is saved locally in <code>/home/daniele/Desktop/Projects/toxic_comment_clf/notebooks/wandb/run-20250303_165240-14gyywxl</code>"
      ],
      "text/plain": [
       "<IPython.core.display.HTML object>"
      ]
     },
     "metadata": {},
     "output_type": "display_data"
    },
    {
     "data": {
      "text/html": [
       "Syncing run <strong><a href='https://wandb.ai/daniele-didino/toxic_comment_clf/runs/14gyywxl' target=\"_blank\">vague-sweep-20</a></strong> to <a href='https://wandb.ai/daniele-didino/toxic_comment_clf' target=\"_blank\">Weights & Biases</a> (<a href='https://wandb.me/developer-guide' target=\"_blank\">docs</a>)<br>Sweep page: <a href='https://wandb.ai/daniele-didino/toxic_comment_clf/sweeps/wdc1dzb1' target=\"_blank\">https://wandb.ai/daniele-didino/toxic_comment_clf/sweeps/wdc1dzb1</a>"
      ],
      "text/plain": [
       "<IPython.core.display.HTML object>"
      ]
     },
     "metadata": {},
     "output_type": "display_data"
    },
    {
     "data": {
      "text/html": [
       " View project at <a href='https://wandb.ai/daniele-didino/toxic_comment_clf' target=\"_blank\">https://wandb.ai/daniele-didino/toxic_comment_clf</a>"
      ],
      "text/plain": [
       "<IPython.core.display.HTML object>"
      ]
     },
     "metadata": {},
     "output_type": "display_data"
    },
    {
     "data": {
      "text/html": [
       " View sweep at <a href='https://wandb.ai/daniele-didino/toxic_comment_clf/sweeps/wdc1dzb1' target=\"_blank\">https://wandb.ai/daniele-didino/toxic_comment_clf/sweeps/wdc1dzb1</a>"
      ],
      "text/plain": [
       "<IPython.core.display.HTML object>"
      ]
     },
     "metadata": {},
     "output_type": "display_data"
    },
    {
     "data": {
      "text/html": [
       " View run at <a href='https://wandb.ai/daniele-didino/toxic_comment_clf/runs/14gyywxl' target=\"_blank\">https://wandb.ai/daniele-didino/toxic_comment_clf/runs/14gyywxl</a>"
      ],
      "text/plain": [
       "<IPython.core.display.HTML object>"
      ]
     },
     "metadata": {},
     "output_type": "display_data"
    },
    {
     "name": "stdout",
     "output_type": "stream",
     "text": [
      "Epoch 1/5\n",
      "Train Loss: 0.0983 | AUC_ROC: 0.8718\n",
      "Val Loss: 0.0563 | AUC_ROC: 0.9712\n",
      "Epoch 2/5\n",
      "Train Loss: 0.0536 | AUC_ROC: 0.9646\n",
      "Val Loss: 0.0515 | AUC_ROC: 0.9750\n",
      "Epoch 3/5\n",
      "Train Loss: 0.0478 | AUC_ROC: 0.9733\n",
      "Val Loss: 0.0523 | AUC_ROC: 0.9761\n",
      "Epoch 4/5\n",
      "Train Loss: 0.0434 | AUC_ROC: 0.9765\n",
      "Val Loss: 0.0550 | AUC_ROC: 0.9764\n",
      "Epoch 5/5\n",
      "Train Loss: 0.0397 | AUC_ROC: 0.9794\n",
      "Val Loss: 0.0504 | AUC_ROC: 0.9770\n"
     ]
    },
    {
     "data": {
      "text/html": [],
      "text/plain": [
       "<IPython.core.display.HTML object>"
      ]
     },
     "metadata": {},
     "output_type": "display_data"
    },
    {
     "data": {
      "text/html": [
       "<br>    <style><br>        .wandb-row {<br>            display: flex;<br>            flex-direction: row;<br>            flex-wrap: wrap;<br>            justify-content: flex-start;<br>            width: 100%;<br>        }<br>        .wandb-col {<br>            display: flex;<br>            flex-direction: column;<br>            flex-basis: 100%;<br>            flex: 1;<br>            padding: 10px;<br>        }<br>    </style><br><div class=\"wandb-row\"><div class=\"wandb-col\"><h3>Run history:</h3><br/><table class=\"wandb\"><tr><td>epoch</td><td>▁▃▅▆█</td></tr><tr><td>train_loss</td><td>█▃▂▁▁</td></tr><tr><td>train_roc_auc</td><td>▁▇███</td></tr><tr><td>val_loss</td><td>█▂▃▆▁</td></tr><tr><td>val_roc_auc</td><td>▁▆▇▇█</td></tr></table><br/></div><div class=\"wandb-col\"><h3>Run summary:</h3><br/><table class=\"wandb\"><tr><td>epoch</td><td>5</td></tr><tr><td>train_loss</td><td>0.03969</td></tr><tr><td>train_roc_auc</td><td>0.9794</td></tr><tr><td>val_loss</td><td>0.05038</td></tr><tr><td>val_roc_auc</td><td>0.97703</td></tr></table><br/></div></div>"
      ],
      "text/plain": [
       "<IPython.core.display.HTML object>"
      ]
     },
     "metadata": {},
     "output_type": "display_data"
    },
    {
     "data": {
      "text/html": [
       " View run <strong style=\"color:#cdcd00\">vague-sweep-20</strong> at: <a href='https://wandb.ai/daniele-didino/toxic_comment_clf/runs/14gyywxl' target=\"_blank\">https://wandb.ai/daniele-didino/toxic_comment_clf/runs/14gyywxl</a><br> View project at: <a href='https://wandb.ai/daniele-didino/toxic_comment_clf' target=\"_blank\">https://wandb.ai/daniele-didino/toxic_comment_clf</a><br>Synced 5 W&B file(s), 0 media file(s), 0 artifact file(s) and 0 other file(s)"
      ],
      "text/plain": [
       "<IPython.core.display.HTML object>"
      ]
     },
     "metadata": {},
     "output_type": "display_data"
    },
    {
     "data": {
      "text/html": [
       "Find logs at: <code>./wandb/run-20250303_165240-14gyywxl/logs</code>"
      ],
      "text/plain": [
       "<IPython.core.display.HTML object>"
      ]
     },
     "metadata": {},
     "output_type": "display_data"
    },
    {
     "name": "stderr",
     "output_type": "stream",
     "text": [
      "\u001b[34m\u001b[1mwandb\u001b[0m: Agent Starting Run: eedcjxex with config:\n",
      "\u001b[34m\u001b[1mwandb\u001b[0m: \tbatch_size: 32\n",
      "\u001b[34m\u001b[1mwandb\u001b[0m: \tdropout: 0.3845750159238698\n",
      "\u001b[34m\u001b[1mwandb\u001b[0m: \tembed_dim: 100\n",
      "\u001b[34m\u001b[1mwandb\u001b[0m: \tepochs: 5\n",
      "\u001b[34m\u001b[1mwandb\u001b[0m: \thidden_dim: 64\n",
      "\u001b[34m\u001b[1mwandb\u001b[0m: \tkernel_size: 2\n",
      "\u001b[34m\u001b[1mwandb\u001b[0m: \tlearning_rate: 0.00013790983115644\n",
      "\u001b[34m\u001b[1mwandb\u001b[0m: \tnum_filters: 128\n"
     ]
    },
    {
     "data": {
      "text/html": [
       "Tracking run with wandb version 0.19.7"
      ],
      "text/plain": [
       "<IPython.core.display.HTML object>"
      ]
     },
     "metadata": {},
     "output_type": "display_data"
    },
    {
     "data": {
      "text/html": [
       "Run data is saved locally in <code>/home/daniele/Desktop/Projects/toxic_comment_clf/notebooks/wandb/run-20250303_165451-eedcjxex</code>"
      ],
      "text/plain": [
       "<IPython.core.display.HTML object>"
      ]
     },
     "metadata": {},
     "output_type": "display_data"
    },
    {
     "data": {
      "text/html": [
       "Syncing run <strong><a href='https://wandb.ai/daniele-didino/toxic_comment_clf/runs/eedcjxex' target=\"_blank\">smart-sweep-21</a></strong> to <a href='https://wandb.ai/daniele-didino/toxic_comment_clf' target=\"_blank\">Weights & Biases</a> (<a href='https://wandb.me/developer-guide' target=\"_blank\">docs</a>)<br>Sweep page: <a href='https://wandb.ai/daniele-didino/toxic_comment_clf/sweeps/wdc1dzb1' target=\"_blank\">https://wandb.ai/daniele-didino/toxic_comment_clf/sweeps/wdc1dzb1</a>"
      ],
      "text/plain": [
       "<IPython.core.display.HTML object>"
      ]
     },
     "metadata": {},
     "output_type": "display_data"
    },
    {
     "data": {
      "text/html": [
       " View project at <a href='https://wandb.ai/daniele-didino/toxic_comment_clf' target=\"_blank\">https://wandb.ai/daniele-didino/toxic_comment_clf</a>"
      ],
      "text/plain": [
       "<IPython.core.display.HTML object>"
      ]
     },
     "metadata": {},
     "output_type": "display_data"
    },
    {
     "data": {
      "text/html": [
       " View sweep at <a href='https://wandb.ai/daniele-didino/toxic_comment_clf/sweeps/wdc1dzb1' target=\"_blank\">https://wandb.ai/daniele-didino/toxic_comment_clf/sweeps/wdc1dzb1</a>"
      ],
      "text/plain": [
       "<IPython.core.display.HTML object>"
      ]
     },
     "metadata": {},
     "output_type": "display_data"
    },
    {
     "data": {
      "text/html": [
       " View run at <a href='https://wandb.ai/daniele-didino/toxic_comment_clf/runs/eedcjxex' target=\"_blank\">https://wandb.ai/daniele-didino/toxic_comment_clf/runs/eedcjxex</a>"
      ],
      "text/plain": [
       "<IPython.core.display.HTML object>"
      ]
     },
     "metadata": {},
     "output_type": "display_data"
    },
    {
     "name": "stdout",
     "output_type": "stream",
     "text": [
      "Epoch 1/5\n",
      "Train Loss: 0.1152 | AUC_ROC: 0.8206\n",
      "Val Loss: 0.0597 | AUC_ROC: 0.9680\n",
      "Epoch 2/5\n",
      "Train Loss: 0.0562 | AUC_ROC: 0.9634\n",
      "Val Loss: 0.0532 | AUC_ROC: 0.9739\n",
      "Epoch 3/5\n",
      "Train Loss: 0.0502 | AUC_ROC: 0.9709\n",
      "Val Loss: 0.0507 | AUC_ROC: 0.9758\n",
      "Epoch 4/5\n",
      "Train Loss: 0.0466 | AUC_ROC: 0.9740\n",
      "Val Loss: 0.0525 | AUC_ROC: 0.9759\n",
      "Epoch 5/5\n",
      "Train Loss: 0.0438 | AUC_ROC: 0.9772\n",
      "Val Loss: 0.0502 | AUC_ROC: 0.9767\n"
     ]
    },
    {
     "data": {
      "text/html": [],
      "text/plain": [
       "<IPython.core.display.HTML object>"
      ]
     },
     "metadata": {},
     "output_type": "display_data"
    },
    {
     "data": {
      "text/html": [
       "<br>    <style><br>        .wandb-row {<br>            display: flex;<br>            flex-direction: row;<br>            flex-wrap: wrap;<br>            justify-content: flex-start;<br>            width: 100%;<br>        }<br>        .wandb-col {<br>            display: flex;<br>            flex-direction: column;<br>            flex-basis: 100%;<br>            flex: 1;<br>            padding: 10px;<br>        }<br>    </style><br><div class=\"wandb-row\"><div class=\"wandb-col\"><h3>Run history:</h3><br/><table class=\"wandb\"><tr><td>epoch</td><td>▁▃▅▆█</td></tr><tr><td>train_loss</td><td>█▂▂▁▁</td></tr><tr><td>train_roc_auc</td><td>▁▇███</td></tr><tr><td>val_loss</td><td>█▃▁▃▁</td></tr><tr><td>val_roc_auc</td><td>▁▆▇▇█</td></tr></table><br/></div><div class=\"wandb-col\"><h3>Run summary:</h3><br/><table class=\"wandb\"><tr><td>epoch</td><td>5</td></tr><tr><td>train_loss</td><td>0.0438</td></tr><tr><td>train_roc_auc</td><td>0.97718</td></tr><tr><td>val_loss</td><td>0.05021</td></tr><tr><td>val_roc_auc</td><td>0.97671</td></tr></table><br/></div></div>"
      ],
      "text/plain": [
       "<IPython.core.display.HTML object>"
      ]
     },
     "metadata": {},
     "output_type": "display_data"
    },
    {
     "data": {
      "text/html": [
       " View run <strong style=\"color:#cdcd00\">smart-sweep-21</strong> at: <a href='https://wandb.ai/daniele-didino/toxic_comment_clf/runs/eedcjxex' target=\"_blank\">https://wandb.ai/daniele-didino/toxic_comment_clf/runs/eedcjxex</a><br> View project at: <a href='https://wandb.ai/daniele-didino/toxic_comment_clf' target=\"_blank\">https://wandb.ai/daniele-didino/toxic_comment_clf</a><br>Synced 5 W&B file(s), 0 media file(s), 0 artifact file(s) and 0 other file(s)"
      ],
      "text/plain": [
       "<IPython.core.display.HTML object>"
      ]
     },
     "metadata": {},
     "output_type": "display_data"
    },
    {
     "data": {
      "text/html": [
       "Find logs at: <code>./wandb/run-20250303_165451-eedcjxex/logs</code>"
      ],
      "text/plain": [
       "<IPython.core.display.HTML object>"
      ]
     },
     "metadata": {},
     "output_type": "display_data"
    },
    {
     "name": "stderr",
     "output_type": "stream",
     "text": [
      "\u001b[34m\u001b[1mwandb\u001b[0m: Agent Starting Run: nolwbj0r with config:\n",
      "\u001b[34m\u001b[1mwandb\u001b[0m: \tbatch_size: 32\n",
      "\u001b[34m\u001b[1mwandb\u001b[0m: \tdropout: 0.4369570767153954\n",
      "\u001b[34m\u001b[1mwandb\u001b[0m: \tembed_dim: 100\n",
      "\u001b[34m\u001b[1mwandb\u001b[0m: \tepochs: 5\n",
      "\u001b[34m\u001b[1mwandb\u001b[0m: \thidden_dim: 64\n",
      "\u001b[34m\u001b[1mwandb\u001b[0m: \tkernel_size: 5\n",
      "\u001b[34m\u001b[1mwandb\u001b[0m: \tlearning_rate: 0.0001560681307012586\n",
      "\u001b[34m\u001b[1mwandb\u001b[0m: \tnum_filters: 128\n"
     ]
    },
    {
     "data": {
      "text/html": [
       "Tracking run with wandb version 0.19.7"
      ],
      "text/plain": [
       "<IPython.core.display.HTML object>"
      ]
     },
     "metadata": {},
     "output_type": "display_data"
    },
    {
     "data": {
      "text/html": [
       "Run data is saved locally in <code>/home/daniele/Desktop/Projects/toxic_comment_clf/notebooks/wandb/run-20250303_165657-nolwbj0r</code>"
      ],
      "text/plain": [
       "<IPython.core.display.HTML object>"
      ]
     },
     "metadata": {},
     "output_type": "display_data"
    },
    {
     "data": {
      "text/html": [
       "Syncing run <strong><a href='https://wandb.ai/daniele-didino/toxic_comment_clf/runs/nolwbj0r' target=\"_blank\">firm-sweep-22</a></strong> to <a href='https://wandb.ai/daniele-didino/toxic_comment_clf' target=\"_blank\">Weights & Biases</a> (<a href='https://wandb.me/developer-guide' target=\"_blank\">docs</a>)<br>Sweep page: <a href='https://wandb.ai/daniele-didino/toxic_comment_clf/sweeps/wdc1dzb1' target=\"_blank\">https://wandb.ai/daniele-didino/toxic_comment_clf/sweeps/wdc1dzb1</a>"
      ],
      "text/plain": [
       "<IPython.core.display.HTML object>"
      ]
     },
     "metadata": {},
     "output_type": "display_data"
    },
    {
     "data": {
      "text/html": [
       " View project at <a href='https://wandb.ai/daniele-didino/toxic_comment_clf' target=\"_blank\">https://wandb.ai/daniele-didino/toxic_comment_clf</a>"
      ],
      "text/plain": [
       "<IPython.core.display.HTML object>"
      ]
     },
     "metadata": {},
     "output_type": "display_data"
    },
    {
     "data": {
      "text/html": [
       " View sweep at <a href='https://wandb.ai/daniele-didino/toxic_comment_clf/sweeps/wdc1dzb1' target=\"_blank\">https://wandb.ai/daniele-didino/toxic_comment_clf/sweeps/wdc1dzb1</a>"
      ],
      "text/plain": [
       "<IPython.core.display.HTML object>"
      ]
     },
     "metadata": {},
     "output_type": "display_data"
    },
    {
     "data": {
      "text/html": [
       " View run at <a href='https://wandb.ai/daniele-didino/toxic_comment_clf/runs/nolwbj0r' target=\"_blank\">https://wandb.ai/daniele-didino/toxic_comment_clf/runs/nolwbj0r</a>"
      ],
      "text/plain": [
       "<IPython.core.display.HTML object>"
      ]
     },
     "metadata": {},
     "output_type": "display_data"
    },
    {
     "name": "stdout",
     "output_type": "stream",
     "text": [
      "Epoch 1/5\n",
      "Train Loss: 0.0961 | AUC_ROC: 0.8824\n",
      "Val Loss: 0.0567 | AUC_ROC: 0.9714\n",
      "Epoch 2/5\n",
      "Train Loss: 0.0544 | AUC_ROC: 0.9655\n",
      "Val Loss: 0.0520 | AUC_ROC: 0.9750\n",
      "Epoch 3/5\n",
      "Train Loss: 0.0483 | AUC_ROC: 0.9717\n",
      "Val Loss: 0.0504 | AUC_ROC: 0.9762\n",
      "Epoch 4/5\n",
      "Train Loss: 0.0442 | AUC_ROC: 0.9760\n",
      "Val Loss: 0.0521 | AUC_ROC: 0.9765\n",
      "Epoch 5/5\n",
      "Train Loss: 0.0405 | AUC_ROC: 0.9794\n",
      "Val Loss: 0.0506 | AUC_ROC: 0.9768\n"
     ]
    },
    {
     "data": {
      "text/html": [],
      "text/plain": [
       "<IPython.core.display.HTML object>"
      ]
     },
     "metadata": {},
     "output_type": "display_data"
    },
    {
     "data": {
      "text/html": [
       "<br>    <style><br>        .wandb-row {<br>            display: flex;<br>            flex-direction: row;<br>            flex-wrap: wrap;<br>            justify-content: flex-start;<br>            width: 100%;<br>        }<br>        .wandb-col {<br>            display: flex;<br>            flex-direction: column;<br>            flex-basis: 100%;<br>            flex: 1;<br>            padding: 10px;<br>        }<br>    </style><br><div class=\"wandb-row\"><div class=\"wandb-col\"><h3>Run history:</h3><br/><table class=\"wandb\"><tr><td>epoch</td><td>▁▃▅▆█</td></tr><tr><td>train_loss</td><td>█▃▂▁▁</td></tr><tr><td>train_roc_auc</td><td>▁▇▇██</td></tr><tr><td>val_loss</td><td>█▃▁▃▁</td></tr><tr><td>val_roc_auc</td><td>▁▆▇██</td></tr></table><br/></div><div class=\"wandb-col\"><h3>Run summary:</h3><br/><table class=\"wandb\"><tr><td>epoch</td><td>5</td></tr><tr><td>train_loss</td><td>0.04046</td></tr><tr><td>train_roc_auc</td><td>0.97943</td></tr><tr><td>val_loss</td><td>0.05063</td></tr><tr><td>val_roc_auc</td><td>0.9768</td></tr></table><br/></div></div>"
      ],
      "text/plain": [
       "<IPython.core.display.HTML object>"
      ]
     },
     "metadata": {},
     "output_type": "display_data"
    },
    {
     "data": {
      "text/html": [
       " View run <strong style=\"color:#cdcd00\">firm-sweep-22</strong> at: <a href='https://wandb.ai/daniele-didino/toxic_comment_clf/runs/nolwbj0r' target=\"_blank\">https://wandb.ai/daniele-didino/toxic_comment_clf/runs/nolwbj0r</a><br> View project at: <a href='https://wandb.ai/daniele-didino/toxic_comment_clf' target=\"_blank\">https://wandb.ai/daniele-didino/toxic_comment_clf</a><br>Synced 5 W&B file(s), 0 media file(s), 0 artifact file(s) and 0 other file(s)"
      ],
      "text/plain": [
       "<IPython.core.display.HTML object>"
      ]
     },
     "metadata": {},
     "output_type": "display_data"
    },
    {
     "data": {
      "text/html": [
       "Find logs at: <code>./wandb/run-20250303_165657-nolwbj0r/logs</code>"
      ],
      "text/plain": [
       "<IPython.core.display.HTML object>"
      ]
     },
     "metadata": {},
     "output_type": "display_data"
    }
   ],
   "source": [
    "# Launch the sweep\n",
    "wandb.agent(sweep_id, function=train_sweep, count=20)"
   ]
  }
 ],
 "metadata": {
  "kernelspec": {
   "display_name": ".venv_tox_clf",
   "language": "python",
   "name": "python3"
  },
  "language_info": {
   "codemirror_mode": {
    "name": "ipython",
    "version": 3
   },
   "file_extension": ".py",
   "mimetype": "text/x-python",
   "name": "python",
   "nbconvert_exporter": "python",
   "pygments_lexer": "ipython3",
   "version": "3.10.12"
  }
 },
 "nbformat": 4,
 "nbformat_minor": 2
}

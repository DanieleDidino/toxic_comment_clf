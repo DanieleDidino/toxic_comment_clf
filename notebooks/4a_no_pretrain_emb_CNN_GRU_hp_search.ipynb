{
 "cells": [
  {
   "cell_type": "markdown",
   "metadata": {},
   "source": [
    "# Load libraries and data"
   ]
  },
  {
   "cell_type": "code",
   "execution_count": 4,
   "metadata": {},
   "outputs": [],
   "source": [
    "from pathlib import Path\n",
    "import re\n",
    "import numpy as np\n",
    "import pandas as pd\n",
    "from collections import Counter\n",
    "import torch\n",
    "import torch.nn as nn\n",
    "import torch.optim as optim\n",
    "# import torch.nn.functional as F\n",
    "from torch.utils.data import Dataset, DataLoader\n",
    "from sklearn.metrics import roc_auc_score\n",
    "import wandb"
   ]
  },
  {
   "cell_type": "code",
   "execution_count": 5,
   "metadata": {},
   "outputs": [],
   "source": [
    "train_data = pd.read_csv(Path(\"..\", \"data\", \"processed\", \"train.csv\"))\n",
    "val_data = pd.read_csv(Path(\"..\", \"data\", \"processed\", \"val.csv\"))"
   ]
  },
  {
   "cell_type": "markdown",
   "metadata": {},
   "source": [
    "# Parameters & wandb"
   ]
  },
  {
   "cell_type": "code",
   "execution_count": 6,
   "metadata": {},
   "outputs": [
    {
     "name": "stdout",
     "output_type": "stream",
     "text": [
      "Using cuda\n"
     ]
    }
   ],
   "source": [
    "EMBEDDING_DIM = 100\n",
    "MAX_LEN = 150\n",
    "DEVICE = 'cuda' if torch.cuda.is_available() else 'cpu'\n",
    "print(f\"Using {DEVICE}\")"
   ]
  },
  {
   "cell_type": "code",
   "execution_count": 7,
   "metadata": {},
   "outputs": [
    {
     "name": "stderr",
     "output_type": "stream",
     "text": [
      "\u001b[34m\u001b[1mwandb\u001b[0m: Using wandb-core as the SDK backend.  Please refer to https://wandb.me/wandb-core for more information.\n",
      "\u001b[34m\u001b[1mwandb\u001b[0m: Currently logged in as: \u001b[33mdaniele-didino\u001b[0m to \u001b[32mhttps://api.wandb.ai\u001b[0m. Use \u001b[1m`wandb login --relogin`\u001b[0m to force relogin\n"
     ]
    },
    {
     "data": {
      "text/plain": [
       "True"
      ]
     },
     "execution_count": 7,
     "metadata": {},
     "output_type": "execute_result"
    }
   ],
   "source": [
    "wandb.login()"
   ]
  },
  {
   "cell_type": "markdown",
   "metadata": {},
   "source": [
    "# Tokenizer"
   ]
  },
  {
   "cell_type": "code",
   "execution_count": 8,
   "metadata": {},
   "outputs": [],
   "source": [
    "# Tokenizer (basic word splitting)\n",
    "def basic_tokenizer(text: str) -> str:\n",
    "    text = text.lower()\n",
    "    text = re.sub(r'[^a-zA-Z0-9\\s]', '', text) # Remove special characters\n",
    "    return text.split()\n",
    "\n",
    "\n",
    "def build_vocab(texts):\n",
    "    token_counts = Counter()\n",
    "    for text in texts:\n",
    "        cleaned_text = basic_tokenizer(text)\n",
    "        token_counts.update(cleaned_text)\n",
    "    vocab = {word: idx + 2 for idx, (word, _) in enumerate(token_counts.most_common())}  # Reserve index 0 for padding, 1 for unknown\n",
    "    vocab[\"<PAD>\"] = 0\n",
    "    vocab[\"<UNK>\"] = 1\n",
    "    return vocab\n",
    "\n",
    "\n",
    "# Convert texts to numerical sequences\n",
    "def encode_text(text, vocab, max_len=150):\n",
    "    tokens = basic_tokenizer(text)\n",
    "    encoded = [vocab.get(word, vocab[\"<UNK>\"]) for word in tokens[:max_len]]\n",
    "    return np.pad(encoded, (0, max_len - len(encoded)), constant_values=vocab[\"<PAD>\"])[:max_len]"
   ]
  },
  {
   "cell_type": "markdown",
   "metadata": {},
   "source": [
    "# Model"
   ]
  },
  {
   "cell_type": "code",
   "execution_count": 9,
   "metadata": {},
   "outputs": [],
   "source": [
    "# Dataset Class\n",
    "class ToxicDataset(Dataset):\n",
    "    def __init__(self, texts, labels, vocab, max_len=150):\n",
    "        texts = [encode_text(text, vocab, max_len) for text in texts]\n",
    "        self.texts = [torch.tensor(text, dtype=torch.long) for text in texts]\n",
    "        self.labels = torch.tensor(labels, dtype=torch.float32)\n",
    "\n",
    "    def __len__(self):\n",
    "        return len(self.texts)\n",
    "\n",
    "    def __getitem__(self, idx):\n",
    "        return {\n",
    "            \"input_ids\": self.texts[idx],\n",
    "            \"labels\": self.labels[idx]\n",
    "        }\n",
    "\n",
    "\n",
    "# Model: CNN + GRU\n",
    "class ToxicClassifier(nn.Module):\n",
    "    def __init__(self, vocab_size, embed_dim, hidden_dim, num_filters, kernel_size, dropout, num_classes):\n",
    "        super().__init__()\n",
    "        # Embedding layers\n",
    "        self.embedding = nn.Embedding(vocab_size, embed_dim)\n",
    "        # CNN layer\n",
    "        self.conv = nn.Conv1d(\n",
    "            in_channels=embed_dim,\n",
    "            out_channels=num_filters,\n",
    "            kernel_size=kernel_size,\n",
    "            padding=1)\n",
    "        self.pool = nn.AdaptiveMaxPool1d(50) # This reduces the sequence length\n",
    "        # GRU layer\n",
    "        self.gru = nn.GRU(\n",
    "            input_size=num_filters,\n",
    "            hidden_size=hidden_dim,\n",
    "            batch_first=True,\n",
    "            bidirectional=True)\n",
    "        # Fully connected layer\n",
    "        self.dropout = nn.Dropout(dropout)\n",
    "        self.fc = nn.Linear(hidden_dim * 2, num_classes)\n",
    "\n",
    "    def forward(self, x):\n",
    "        x = self.embedding(x) # (batch_size, seq_len, embed_dim)\n",
    "        x = x.permute(0, 2, 1) # change shape for conv1d (batch_size, channels, seq_len)\n",
    "        x = torch.relu(self.conv(x))\n",
    "        x = self.pool(x)\n",
    "        x = x.permute(0, 2, 1) # change shape back for GRU (batch_size, seq_len, channels)\n",
    "        x, _ = self.gru(x)\n",
    "        x = self.dropout(x[:, -1, :]) # take the last time step\n",
    "        return self.fc(x)\n",
    "\n",
    "\n",
    "# Training function\n",
    "def model_train(model, train_loader, val_loader, criterion, optimizer, epochs, device):\n",
    "    model.to(device)\n",
    "\n",
    "    for epoch in range(epochs):\n",
    "        model.train()  # set model to training mode\n",
    "        total_train_loss = 0\n",
    "        all_preds = []\n",
    "        all_labels = []\n",
    "\n",
    "        for batch in train_loader:\n",
    "            input_ids = batch['input_ids'].to(device)\n",
    "            labels = batch['labels'].to(device)\n",
    "\n",
    "            optimizer.zero_grad()\n",
    "            outputs = model(input_ids)\n",
    "            loss = criterion(outputs, labels)\n",
    "            loss.backward()\n",
    "            optimizer.step()\n",
    "\n",
    "            total_train_loss += loss.item()\n",
    "            outputs = torch.sigmoid(outputs)\n",
    "            all_preds.append(outputs.cpu().detach().numpy())\n",
    "            all_labels.append(labels.cpu().numpy())\n",
    "        \n",
    "        # Compute Loss\n",
    "        train_loss = total_train_loss / len(train_loader)\n",
    "\n",
    "        # Compute AUC_ROC\n",
    "        all_preds = np.concatenate(all_preds, axis=0).T\n",
    "        all_labels = np.concatenate(all_labels, axis=0).T\n",
    "        train_roc_auc = np.mean(\n",
    "            [roc_auc_score(y_true, y_pred) for y_true, y_pred in zip(all_labels, all_preds)]\n",
    "        )\n",
    "\n",
    "        # Validation Step\n",
    "        model.eval()\n",
    "        val_preds = []\n",
    "        val_labels = []\n",
    "        total_val_loss = 0\n",
    "        with torch.no_grad():\n",
    "            for batch in val_loader:\n",
    "                input_ids = batch['input_ids'].to(device)\n",
    "                labels = batch['labels'].to(device)\n",
    "                outputs = model(input_ids)\n",
    "                \n",
    "                # Compute validation loss\n",
    "                loss = criterion(outputs, labels)\n",
    "                total_val_loss += loss.item()\n",
    "\n",
    "                val_preds.append(outputs.cpu().numpy())\n",
    "                val_labels.append(labels.cpu().numpy())\n",
    "        \n",
    "        # Compute validation loss\n",
    "        val_loss = total_val_loss / len(val_loader)\n",
    "\n",
    "        # Compute AUC_ROC\n",
    "        val_preds = np.concatenate(val_preds, axis=0).T\n",
    "        val_labels = np.concatenate(val_labels, axis=0).T\n",
    "        val_roc_auc = np.mean(\n",
    "            [roc_auc_score(y_true, y_pred) for y_true, y_pred in zip(val_labels, val_preds)]\n",
    "        )\n",
    "\n",
    "        print(f\"Epoch {epoch + 1}/{epochs}\")\n",
    "        print(f\"Train Loss: {train_loss:.4f} | AUC_ROC: {train_roc_auc:.4f}\")\n",
    "        print(f\"Val Loss: {val_loss:.4f} | AUC_ROC: {val_roc_auc:.4f}\")\n",
    "\n",
    "        wandb.log({\n",
    "            \"epoch\": epoch + 1,\n",
    "            \"train_loss\": train_loss,\n",
    "            \"train_roc_auc\": train_roc_auc,\n",
    "            \"val_loss\": val_loss,\n",
    "            \"val_roc_auc\": val_roc_auc,\n",
    "        })\n",
    "\n",
    "    return train_loss, train_roc_auc, val_loss, val_roc_auc\n"
   ]
  },
  {
   "cell_type": "markdown",
   "metadata": {},
   "source": [
    "# wandb Sweeps"
   ]
  },
  {
   "cell_type": "code",
   "execution_count": 10,
   "metadata": {},
   "outputs": [],
   "source": [
    "train_input = train_data.comment_text.to_list()\n",
    "train_labels = train_data.loc[:, [\"toxic\", \"severe_toxic\", \"obscene\", \"threat\", \"insult\", \"identity_hate\"]].values.tolist()\n",
    "\n",
    "val_input = val_data.comment_text.to_list()\n",
    "val_labels = val_data.loc[:,  [\"toxic\", \"severe_toxic\", \"obscene\", \"threat\", \"insult\", \"identity_hate\"]].values.tolist()\n",
    "\n",
    "vocab = build_vocab(train_input)\n",
    "\n",
    "# Prepare train dataset\n",
    "train_dataset = ToxicDataset(train_input, train_labels, vocab, MAX_LEN)\n",
    "\n",
    "# Prepare validation dataset\n",
    "val_dataset = ToxicDataset(val_input, val_labels, vocab, MAX_LEN)"
   ]
  },
  {
   "cell_type": "code",
   "execution_count": 11,
   "metadata": {},
   "outputs": [
    {
     "name": "stdout",
     "output_type": "stream",
     "text": [
      "Create sweep with ID: bosycdpn\n",
      "Sweep URL: https://wandb.ai/daniele-didino/toxic_comment_clf/sweeps/bosycdpn\n"
     ]
    }
   ],
   "source": [
    "sweep_config = {\n",
    "    \"method\": \"bayes\", # \"random\" or \"grid\" or \"bayes\"\n",
    "    \"metric\": {\"name\": \"val_roc_auc\", \"goal\": \"maximize\"},\n",
    "    \"parameters\": {\n",
    "        \"vocab_size\": {\"values\": [len(vocab)]},\n",
    "        \"embed_dim\": {\"values\": [50, 100, 200]},\n",
    "        \"hidden_dim\": {\"values\": [64, 128, 256]},\n",
    "        \"kernel_size\": {\"min\": 2, \"max\": 5},\n",
    "        \"num_filters\": {\"values\": [64, 128, 256]},\n",
    "        \"dropout\": {\"min\": 0.2, \"max\": 0.5},\n",
    "        \"learning_rate\": {\"min\": 1e-4, \"max\": 1e-2, \"distribution\": \"log_uniform_values\"},\n",
    "        \"batch_size\": {\"values\": [16, 32, 64]},\n",
    "        \"epochs\": {\"min\": 1, \"max\": 5},\n",
    "    }\n",
    "}\n",
    "\n",
    "# Create the sweep\n",
    "sweep_id = wandb.sweep(sweep_config, project=\"toxic_comment_clf\")"
   ]
  },
  {
   "cell_type": "code",
   "execution_count": null,
   "metadata": {},
   "outputs": [],
   "source": [
    "# Define the training function\n",
    "def train_sweep():\n",
    "\n",
    "    # EPOCHS = 2\n",
    "    num_classes = 6  # toxic, severe_toxic, obscene, threat, insult, identity_hate\n",
    "\n",
    "    with wandb.init() as run:\n",
    "        config = wandb.config # sample hyperparameters\n",
    "        \n",
    "        # Initialize DataLoaders\n",
    "        train_dataloader = DataLoader(train_dataset, batch_size=config[\"batch_size\"], shuffle=True)\n",
    "        val_dataloader = DataLoader(val_dataset, batch_size=config[\"batch_size\"], shuffle=True)\n",
    "    \n",
    "        # Initialize model\n",
    "        model = ToxicClassifier(\n",
    "            config[\"vocab_size\"],\n",
    "            config[\"embed_dim\"],\n",
    "            config[\"hidden_dim\"],\n",
    "            config[\"num_filters\"],\n",
    "            config[\"kernel_size\"],\n",
    "            config[\"dropout\"],\n",
    "            num_classes=num_classes)\n",
    "        model.to(DEVICE)\n",
    "    \n",
    "        # Loss\n",
    "        criterion = nn.BCEWithLogitsLoss() # Multi-label loss\n",
    "    \n",
    "        # Optimizer\n",
    "        optimizer = optim.Adam(model.parameters(), lr=config[\"learning_rate\"])\n",
    "    \n",
    "        # Training loop\n",
    "        _ = model_train(model, train_dataloader, val_dataloader, criterion, optimizer, config[\"epochs\"], DEVICE)"
   ]
  },
  {
   "cell_type": "code",
   "execution_count": null,
   "metadata": {},
   "outputs": [],
   "source": [
    "# Launch the sweep\n",
    "wandb.agent(sweep_id, function=train_sweep, count=20)"
   ]
  }
 ],
 "metadata": {
  "kernelspec": {
   "display_name": ".venv_tox_clf",
   "language": "python",
   "name": "python3"
  },
  "language_info": {
   "codemirror_mode": {
    "name": "ipython",
    "version": 3
   },
   "file_extension": ".py",
   "mimetype": "text/x-python",
   "name": "python",
   "nbconvert_exporter": "python",
   "pygments_lexer": "ipython3",
   "version": "3.10.12"
  }
 },
 "nbformat": 4,
 "nbformat_minor": 2
}
